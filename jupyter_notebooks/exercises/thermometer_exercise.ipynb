{
 "cells": [
  {
   "cell_type": "code",
   "execution_count": 1,
   "metadata": {},
   "outputs": [],
   "source": [
    "import numpy as np\n",
    "import gurobipy as grb\n",
    "GRB = grb.GRB"
   ]
  },
  {
   "cell_type": "markdown",
   "metadata": {},
   "source": [
    "## Add variables"
   ]
  },
  {
   "cell_type": "code",
   "execution_count": 2,
   "metadata": {},
   "outputs": [],
   "source": [
    "def add_variables(m, size):\n",
    "    v = {}\n",
    "    for i in range(size):\n",
    "        for j in range(size):\n",
    "            v[(i,j)] = m.addVar(lb=0, ub=1, vtype=GRB.BINARY, name='v'+str(i)+str(j))\n",
    "    return v"
   ]
  },
  {
   "cell_type": "markdown",
   "metadata": {},
   "source": [
    "## integrity check"
   ]
  },
  {
   "cell_type": "code",
   "execution_count": 3,
   "metadata": {},
   "outputs": [],
   "source": [
    "def check_input(size, therms):\n",
    "    cells = np.zeros((size, size))\n",
    "    for therm in therms:\n",
    "        for cell in therm:\n",
    "            if cells[cell] > 0:\n",
    "                print('Cell {} used more than once'.format(cell))\n",
    "            cells[cell] += 1\n",
    "    for row in range(size):\n",
    "        for col in range(size):\n",
    "            if cells[(row, col)] != 1:\n",
    "                print('Cell ({},{}) has value {}'.format(row, col, cells[(row, col)]))"
   ]
  },
  {
   "cell_type": "markdown",
   "metadata": {},
   "source": [
    "## Add basic constraints"
   ]
  },
  {
   "cell_type": "code",
   "execution_count": 4,
   "metadata": {},
   "outputs": [],
   "source": [
    "def add_row_sum_constraints(m, size, v, row_sums):\n",
    "    for (idx, rsum) in enumerate(row_sums):\n",
    "        if rsum is None:\n",
    "            continue\n",
    "        expr = grb.quicksum(...)\n",
    "        m.addConstr(expr, '==', rsum, name='rsum' + str(idx))\n",
    "def add_col_sum_constraints(m, size, v, col_sums):\n",
    "    for (idx, csum) in enumerate(col_sums):\n",
    "        if csum is None:\n",
    "            continue\n",
    "        expr = grb.quicksum(...)\n",
    "        m.addConstr(expr, '==', csum, name='csum' + str(idx))"
   ]
  },
  {
   "cell_type": "markdown",
   "metadata": {},
   "source": [
    "## Add thermometer constraints"
   ]
  },
  {
   "cell_type": "code",
   "execution_count": 5,
   "metadata": {},
   "outputs": [],
   "source": [
    "def add_therm_constraints(m, v, therms):\n",
    "    for therm in therms:\n",
    "        for (c1, c2) in zip(therm[:-1], therm[1:]):\n",
    "            name = ('therm' + str(c1) + str(c2)).replace(' ', '')\n",
    "            m.addConstr(...)"
   ]
  },
  {
   "cell_type": "markdown",
   "metadata": {},
   "source": [
    "## solve function"
   ]
  },
  {
   "cell_type": "code",
   "execution_count": 6,
   "metadata": {},
   "outputs": [],
   "source": [
    "def show_square(size, v):\n",
    "    print('\\nSolution:\\n')\n",
    "    for i in range(size):\n",
    "        for j in range(size):\n",
    "            print(round(v[(i,j)].x), ' ', end='')\n",
    "        print()"
   ]
  },
  {
   "cell_type": "code",
   "execution_count": 7,
   "metadata": {},
   "outputs": [],
   "source": [
    "def solve_therm(size, row_sums, col_sums, therms):\n",
    "    m = grb.Model()\n",
    "    v = add_variables(m, size)\n",
    "    add_row_sum_constraints(m, size, v, row_sums)\n",
    "    add_col_sum_constraints(m, size, v, col_sums)\n",
    "    add_therm_constraints(m, v, therms)\n",
    "    m.write('therm.lp')\n",
    "    m.optimize()\n",
    "    show_square(size, v)"
   ]
  },
  {
   "cell_type": "markdown",
   "metadata": {},
   "source": [
    "# Examples:"
   ]
  },
  {
   "cell_type": "code",
   "execution_count": 8,
   "metadata": {},
   "outputs": [],
   "source": [
    "size = 7\n",
    "row_sums = [None, None, 2, 4, 3, None, 4]\n",
    "col_sums = [None, None, 5, 3, 3, None, None]\n",
    "therms = [\n",
    " [(4, 0), (3, 0), (2, 0), (1, 0), (0, 0)],\n",
    " [(1, 1), (0, 1), (0, 2), (0, 3), (0, 4), (0, 5), (0, 6), (1, 6)],\n",
    " [(2, 2), (1, 2), (1, 3), (1, 4), (1, 5), (2, 5), (3, 5), (4, 5)],\n",
    " [(2, 3), (2, 4), (3, 4)],\n",
    " [(3, 3), (4, 3), (4, 2), (3, 2)],\n",
    " [(2, 6), (3, 6), (4, 6), (5, 6), (6, 6)],\n",
    " [(4, 4), (5, 4), (5, 3), (5, 2), (5, 1), (4, 1), (3, 1), (2, 1)],\n",
    " [(5, 5), (6, 5), (6, 4), (6, 3), (6, 2), (6, 1), (6, 0), (5, 0)]\n",
    "]\n",
    "check_input(size, therms)"
   ]
  },
  {
   "cell_type": "code",
   "execution_count": 9,
   "metadata": {},
   "outputs": [
    {
     "name": "stdout",
     "output_type": "stream",
     "text": [
      "Using license file C:\\Users\\liaml\\gurobi.lic\n",
      "Academic license - for non-commercial use only\n",
      "Gurobi Optimizer version 9.0.2 build v9.0.2rc0 (win64)\n",
      "Optimize a model with 48 rows, 49 columns and 131 nonzeros\n",
      "Model fingerprint: 0xc16eb7c4\n",
      "Variable types: 0 continuous, 49 integer (49 binary)\n",
      "Coefficient statistics:\n",
      "  Matrix range     [1e+00, 1e+00]\n",
      "  Objective range  [0e+00, 0e+00]\n",
      "  Bounds range     [1e+00, 1e+00]\n",
      "  RHS range        [2e+00, 5e+00]\n",
      "Found heuristic solution: objective 0.0000000\n",
      "\n",
      "Explored 0 nodes (0 simplex iterations) in 0.02 seconds\n",
      "Thread count was 1 (of 12 available processors)\n",
      "\n",
      "Solution count 1: 0 \n",
      "\n",
      "Optimal solution found (tolerance 1.00e-04)\n",
      "Best objective 0.000000000000e+00, best bound 0.000000000000e+00, gap 0.0000%\n",
      "\n",
      "Solution:\n",
      "\n",
      "0  1  1  0  0  0  0  \n",
      "0  1  1  0  0  0  0  \n",
      "0  0  1  0  0  0  1  \n",
      "1  1  0  1  0  0  1  \n",
      "1  1  0  0  1  0  0  \n",
      "0  1  1  1  1  1  0  \n",
      "0  0  1  1  1  1  0  \n"
     ]
    }
   ],
   "source": [
    "solve_therm(size, row_sums, col_sums, therms)"
   ]
  },
  {
   "cell_type": "code",
   "execution_count": null,
   "metadata": {},
   "outputs": [],
   "source": []
  }
 ],
 "metadata": {
  "anaconda-cloud": {},
  "kernelspec": {
   "display_name": "Python 3",
   "language": "python",
   "name": "python3"
  },
  "language_info": {
   "codemirror_mode": {
    "name": "ipython",
    "version": 3
   },
   "file_extension": ".py",
   "mimetype": "text/x-python",
   "name": "python",
   "nbconvert_exporter": "python",
   "pygments_lexer": "ipython3",
   "version": "3.7.6"
  }
 },
 "nbformat": 4,
 "nbformat_minor": 2
}

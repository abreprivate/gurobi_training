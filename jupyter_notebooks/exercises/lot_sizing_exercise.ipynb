{
 "cells": [
  {
   "cell_type": "markdown",
   "metadata": {},
   "source": [
    "<H1>Economic Lot Sizing</H1>\n",
    "\n",
    "Consider a discrete-time, finite-horizon inventory control problem where you must satisfy a given demand. $d_t$ for each week $t$. This demand can be satisfied by production in any week $t' \\le t$. For each week, there is a per unit production cost, a per unit inventory holding cost, and a setup cost. The setup cost is a fixed cost incurred if any production occurs during the week. \n",
    "\n",
    "Since the setup cost is paid at most once each week, regardless of whether you produce 1 unit or 1000, you have an incentive to potentially produce enough during a week to cover the demand for multiple weeks. But, producing in excess of the week's demand requires you to hold inventory. This tradeoff between setup and holding costs can be managed through optimization."
   ]
  },
  {
   "cell_type": "markdown",
   "metadata": {},
   "source": [
    "<H2>Initial Formulation</H2>\n",
    "We'll consider two formulations of the problem. The first has fewer decision variables but has a drawback that we'll soon discover.\n",
    "\n",
    "<H3>Sets and Indices</H3>\n",
    "$t \\in \\{1,\\ldots, T\\}$: weeks\n",
    "\n",
    "<H3>Data</H3>\n",
    "$c_t$: per unit cost of production in week $t$\n",
    "\n",
    "$h_t$: per unit holding cost for inventory remaining in week $t$\n",
    "\n",
    "$f_t$: fixed cost of production in week $t$\n",
    "\n",
    "$d_t$: demand for week $t$\n",
    "\n",
    "<H3>Decision Variables</H3>\n",
    "\n",
    "$x_t$: binary variable to indicate whether production occurs in week $t$\n",
    "\n",
    "$y_t$: production quantity for week $t$\n",
    "\n",
    "$s_t$: inventory carried in to period $t$\n",
    "\n",
    "<H3>Formulation</H3>\n",
    "\\begin{eqnarray}\n",
    "\\min_{x, y, s} && \\sum_{t = 1}^T (f_t x_t + c_t y_t + h_t s_t) \\nonumber \\\\\n",
    "\\mbox{s.t.} && y_t \\le (\\sum_{t' = t}^{T} d_{t'}) x_t, \\;\\;t = 1,\\ldots, T\\nonumber \\\\\n",
    "&& s_t = s_{t-1} + y_t - d_t,\\;\\;t = 1,\\ldots,T \\nonumber \\\\\n",
    "&& s_0 = 0 \\nonumber \\\\\n",
    "&& x_t \\in \\{0, 1\\},\\;\\;t = 1,\\ldots,T \\nonumber \\\\\n",
    "&& y_t \\ge 0,\\;\\; t = 1,\\ldots,T \\nonumber \\\\\n",
    "&& s_t \\ge 0,\\;\\; t = 1,\\ldots,T \\nonumber \\\\\n",
    "\\end{eqnarray}\n"
   ]
  },
  {
   "cell_type": "code",
   "execution_count": null,
   "metadata": {},
   "outputs": [],
   "source": [
    "demands = [20, 50, 10, 50, 50, 10, 20, 40, 20, 30]"
   ]
  },
  {
   "cell_type": "code",
   "execution_count": null,
   "metadata": {},
   "outputs": [],
   "source": [
    "production_costs = [10, 10, 10, 10, 10, 10, 10, 10, 10, 10]"
   ]
  },
  {
   "cell_type": "code",
   "execution_count": null,
   "metadata": {},
   "outputs": [],
   "source": [
    "fixed_costs = [100, 100, 100, 100, 100, 100, 100, 100, 100, 100]"
   ]
  },
  {
   "cell_type": "code",
   "execution_count": null,
   "metadata": {},
   "outputs": [],
   "source": [
    "holding_costs = [1, 1, 1, 1, 1, 1, 1, 1, 1, 1]"
   ]
  },
  {
   "cell_type": "code",
   "execution_count": null,
   "metadata": {},
   "outputs": [],
   "source": [
    "import gurobipy as grb\n",
    "GRB = grb.GRB\n",
    "\n",
    "def get_lot_sizes(demands, production_costs, fixed_costs, holding_costs):\n",
    "    m = grb.Model()\n",
    "    \n",
    "    weeks = range(len(demands))\n",
    "    production_quantity = m.addVars(weeks, name='production_quantity')\n",
    "    holding_quantity = m.addVars(weeks, name='hold')\n",
    "    to_produce = m.addVars(weeks, name='to_produce', vtype=GRB.BINARY)\n",
    "    m.update()\n",
    "    \n",
    "    for week in weeks:\n",
    "        #Add a constraint that ensures that production_quantity is only nonzero in weeks where to_produce is also nonzero\n",
    "        m.addConstr(...)\n",
    "        carried_inventory = holding_quantity[week-1] if week > 0 else 0\n",
    "        #Add an inventory flow constraint that maintains an appropriate holding_quantity value for each week\n",
    "        m.addConstr(...)\n",
    "    \n",
    "    total_production_cost = grb.quicksum(production_costs[week]*production_quantity[week]\n",
    "                                         for week in weeks)\n",
    "    total_fixed_cost = grb.quicksum(fixed_costs[week]*to_produce[week]\n",
    "                                    for week in weeks)\n",
    "    total_holding_cost = grb.quicksum(holding_costs[week]*holding_quantity[week]\n",
    "                                      for week in weeks)\n",
    "    m.setObjective(total_production_cost + total_fixed_cost + total_holding_cost)\n",
    "\n",
    "    m.optimize()\n",
    "    \n",
    "    if m.Status == GRB.OPTIMAL:\n",
    "        for week, var in enumerate(production_quantity):\n",
    "            if var.X > 1e-4:\n",
    "                print (\"produce\", var.X, \"units in week\", week)\n",
    "\n",
    "    "
   ]
  },
  {
   "cell_type": "code",
   "execution_count": null,
   "metadata": {
    "scrolled": true
   },
   "outputs": [],
   "source": [
    "get_lot_sizes(demands, production_costs, fixed_costs, holding_costs)"
   ]
  },
  {
   "cell_type": "markdown",
   "metadata": {},
   "source": [
    "It is therefore optimal to produce 80 units in week 0 to cover demand through week 2, to produce 130 units in week 3 to cover demand for weeks 3 through 6, and to produce 90 units in week 7 to cover demand for weeks 7 through 9.\n",
    "\n",
    "Note that the LP relaxation produced a lower bound on the cost of 3375.304, but ultimately that lower bound could not be acheived as the true minimum cost was 3580. It is possible to formulate the problem in a way that the LP relaxation value is tight, and we can obtain the optimal integer solution immediately without resorting to branch and bound."
   ]
  },
  {
   "cell_type": "markdown",
   "metadata": {},
   "source": [
    "<H2>A Tighter Formulation</H2>\n",
    "\n",
    "We'll consider a reformulation of the problem which has quadratically many variables, but that produces an LP relaxation that is tight. While the problem size will increase, this model will scale better since it produces an integer feasible solution immediately upon solving the LP relaxation.\n",
    "\n",
    "The trick here is to note that production in week $t$ may be used to satisfy demand in any week $t' \\ge t$. We can define the production variables to include both a production week $t$ and a demand week $t'$. We'll need to adjust the cost of these variables to include both the variable cost of production and the cost to hold inventory from week $t$ into week $t'$. This adjusted cost is simply $c_t + \\sum_{i = t}^{t'-1} h_i$."
   ]
  },
  {
   "cell_type": "markdown",
   "metadata": {},
   "source": [
    "<H3>Data</H3>\n",
    "* $\\bar{c}_{tt'}$: cost to produce a unit in week $t$ and hold it as inventory until week $t'$\n",
    "* $f_t$: fixed cost of production in week $t$\n",
    "\n",
    "<H3>Decision Variables</H3>\n",
    "* $x_t$: binary variable to indicate whether production occurs in week $t$\n",
    "* $y_{tt'}$: number of units produced in week $t$ to satisfy demand in week $t' \\ge t$\n",
    "\n",
    "<H3>Formulation</H3>\n",
    "\\begin{eqnarray}\n",
    "\\min_{x, y} && \\sum_{t = 1}^T \\sum_{t'=t}^T \\bar{c}_{tt'} y_{tt'} + \\sum_{t = 1}^T f_t x_t \\nonumber \\\\\n",
    "\\mbox{s.t.} && \\sum_{t = 1}^{t'} y_{tt'} = d_{t'},\\;\\;t' = 1,\\ldots, T \\nonumber \\\\\n",
    "&& y_{tt'} \\le d_{t'}x_{t},\\;\\;t' = 1,\\ldots, T,\\;\\;t=1,\\ldots,t' \\nonumber \\\\\n",
    "&& x_t \\in \\{0, 1\\},\\;\\;t = 1,\\ldots, T \\nonumber \\\\\n",
    "&& y_{tt'} \\ge 0,\\;\\;t = 1,\\ldots, T,\\;\\;t' = t,\\ldots,|T|. \\nonumber\n",
    "\\end{eqnarray}"
   ]
  },
  {
   "cell_type": "code",
   "execution_count": null,
   "metadata": {},
   "outputs": [],
   "source": [
    "def get_lot_sizes(demands, production_costs, fixed_costs, holding_costs):\n",
    "    def get_cost(production_week, demand_week):\n",
    "        # return the cost of producing a unit in production_week and \n",
    "        # holding it as inventory until demand_week\n",
    "        return ...\n",
    "    \n",
    "    m = grb.Model()\n",
    "    weeks = range(len(demands))\n",
    "    costs = {(production_week, demand_week): get_cost(production_week, demand_week)  \n",
    "            for production_week in weeks\n",
    "            for demand_week in weeks[production_week:]}\n",
    "\n",
    "    production_quantity = m.addVars(costs, obj=costs, name=\"total_cost\")\n",
    "    to_produce = m.addVars(weeks, obj=fixed_costs, name='to_produce', vtype=GRB.BINARY)\n",
    "    m.update()\n",
    "\n",
    "    for demand_week in weeks:\n",
    "        # add a constraint to ensure that demand is satisfied in demand_week\n",
    "        # hint: you can use production_quantity.sum to obtain an expression for the\n",
    "        # quantity produced to satisfy demand in demand_week\n",
    "        m.addConstr(...)\n",
    "    \n",
    "    for (production_week, demand_week), production_var in production_quantity.items():\n",
    "        # add a constraint to enforce that production_var is 0 unless the \n",
    "        # corresponding to_produce variable is 1\n",
    "        m.addConstr(...)\n",
    "\n",
    "    m.optimize()\n",
    "\n",
    "    if m.Status == GRB.OPTIMAL:\n",
    "        # iterate over the sets of decision variables and print the recommendations\n",
    "        \n",
    "    m.write('lot_sizing.lp')\n",
    "    m.write('lot_sizing.sol')"
   ]
  },
  {
   "cell_type": "code",
   "execution_count": null,
   "metadata": {},
   "outputs": [],
   "source": []
  },
  {
   "cell_type": "code",
   "execution_count": null,
   "metadata": {},
   "outputs": [],
   "source": []
  }
 ],
 "metadata": {
  "kernelspec": {
   "display_name": "Python 3",
   "language": "python",
   "name": "python3"
  },
  "language_info": {
   "codemirror_mode": {
    "name": "ipython",
    "version": 3
   },
   "file_extension": ".py",
   "mimetype": "text/x-python",
   "name": "python",
   "nbconvert_exporter": "python",
   "pygments_lexer": "ipython3",
   "version": "3.7.1"
  }
 },
 "nbformat": 4,
 "nbformat_minor": 1
}

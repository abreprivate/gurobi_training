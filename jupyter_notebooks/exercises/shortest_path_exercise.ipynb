{
 "cells": [
  {
   "cell_type": "markdown",
   "metadata": {},
   "source": [
    "<H1>The Shortest Path Problem and Column-wise Modeling</H1>"
   ]
  },
  {
   "cell_type": "markdown",
   "metadata": {
    "collapsed": true
   },
   "source": [
    "<H3>Problem Definition</H3>\n",
    "\n",
    "Let $N$ be a set of cities.\n",
    "\n",
    "Let $A$ be a set of arcs between cities.\n",
    "\n",
    "Let $d_{ij} > 0$ be the distance between city $i \\in N$ and city $j \\in N$.\n",
    "\n",
    "What is the path of shortest distance between a given origin city $s \\in N$ and destination city $t \\in N$?"
   ]
  },
  {
   "cell_type": "markdown",
   "metadata": {},
   "source": [
    "![Shortest Path Network](netflow.png)"
   ]
  },
  {
   "cell_type": "markdown",
   "metadata": {
    "collapsed": true
   },
   "source": [
    "<H3>Formulation</H3>\n",
    "\n",
    "Let $x_{ij} = 1$ if arc $(i, j)$ is traversed.\n",
    "\n",
    "Define the forward-star (reverse-star) of a city $i \\in N$ as the set of arcs leaving (entering) city $i$:\n",
    "\n",
    "$FS(i) = \\{j | (i,j) \\in A\\}$\n",
    "\n",
    "$RS(i) = \\{j | (j, i) \\in A\\}$"
   ]
  },
  {
   "cell_type": "markdown",
   "metadata": {
    "collapsed": true
   },
   "source": [
    "\\begin{eqnarray}                                                                                                                                              \n",
    "\\min_x && \\sum_{(i,j) \\in A} d_{ij} x_{ij} \\nonumber \\\\                                                                                                       \n",
    "\\mbox{s.t.} && \\sum_{j \\in RS(i)} x_{ji} - \\sum_{j \\in FS(i)} x_{ij} = b_i,\\;\\;i \\in N \\nonumber \\\\                                                           \n",
    "&& 0 \\le x_{ij} \\le 1,\\;\\;(i,j) \\in A, \\nonumber                                                                                                              \n",
    "\\end{eqnarray}                                                                                                                                                \n",
    "where $b_s = -1$, $b_t = 1$, and $b_i = 0$ for $i \\neq s, t$."
   ]
  },
  {
   "cell_type": "markdown",
   "metadata": {},
   "source": [
    "If we travel along arc $(i, j)$, we add a distance $d_{ij}$ to our journey. The objective is to minimize the total distance travelled. The constraints enforce a balance of flow at each city. The sum $\\sum_{j \\in RS(i)} x_{ji}$ counts the number of times we enter city $i \\in N$, and the sum $\\sum_{j \\in FS(i)} x_{ij}$ counts the number of times we leave city $i \\in N$. The difference between those two sums should be -1 for the source city $s \\in N$ (we leave $s$ once and never return), 1 for the destination city $t \\in N$ (we enter it once but never leave), and 0 for all cities in between (either we never visit the city, or we enter and leave the city exactly once)."
   ]
  },
  {
   "cell_type": "markdown",
   "metadata": {},
   "source": [
    "<H3>Inputs</H3>\n",
    "\n",
    "We'll need a list of the arcs in our network, along with the distance associated with each arc. Here, an arc can be represented as a pair of cities."
   ]
  },
  {
   "cell_type": "code",
   "execution_count": 1,
   "metadata": {},
   "outputs": [],
   "source": [
    "data = \"\"\"Honolulu, Chicago, 105\n",
    "Honolulu, San Francisco, 75\n",
    "Honolulu, Los Angeles, 68 \n",
    "Chicago, Boston, 45 \n",
    "Chicago, New York, 56 \n",
    "San Francisco, Boston, 71 \n",
    "San Francisco, New York, 48 \n",
    "San Francisco, Atlanta, 63 \n",
    "Los Angeles, New York, 44 \n",
    "Los Angeles, Atlanta, 57 \n",
    "Boston, Heathrow London, 88 \n",
    "New York, Heathrow London, 65 \n",
    "Atlanta, Heathrow London, 76\n",
    "\"\"\""
   ]
  },
  {
   "cell_type": "markdown",
   "metadata": {},
   "source": [
    "We will use the pandas library to help read the data."
   ]
  },
  {
   "cell_type": "code",
   "execution_count": 2,
   "metadata": {},
   "outputs": [],
   "source": [
    "from io import StringIO\n",
    "import pandas as pd"
   ]
  },
  {
   "cell_type": "code",
   "execution_count": 3,
   "metadata": {},
   "outputs": [
    {
     "name": "stdout",
     "output_type": "stream",
     "text": [
      "           source      destination  distance\n",
      "0        Honolulu          Chicago       105\n",
      "1        Honolulu    San Francisco        75\n",
      "2        Honolulu      Los Angeles        68\n",
      "3         Chicago           Boston        45\n",
      "4         Chicago         New York        56\n",
      "5   San Francisco           Boston        71\n",
      "6   San Francisco         New York        48\n",
      "7   San Francisco          Atlanta        63\n",
      "8     Los Angeles         New York        44\n",
      "9     Los Angeles          Atlanta        57\n",
      "10         Boston  Heathrow London        88\n",
      "11       New York  Heathrow London        65\n",
      "12        Atlanta  Heathrow London        76\n"
     ]
    }
   ],
   "source": [
    "arcs = pd.read_csv(StringIO(data), header=None, skipinitialspace=True)\n",
    "arcs.columns = ['source', 'destination', 'distance']\n",
    "print (arcs)"
   ]
  },
  {
   "cell_type": "code",
   "execution_count": 4,
   "metadata": {},
   "outputs": [
    {
     "name": "stdout",
     "output_type": "stream",
     "text": [
      "['Honolulu' 'Chicago' 'San Francisco' 'Los Angeles' 'Boston' 'New York'\n",
      " 'Atlanta' 'Heathrow London']\n"
     ]
    }
   ],
   "source": [
    "cities = pd.concat([arcs.source, arcs.destination]).unique()\n",
    "print (cities)\n",
    "arcs = [row for i, row in arcs.iterrows()]"
   ]
  },
  {
   "cell_type": "markdown",
   "metadata": {},
   "source": [
    "<H3>Building the Model: Naive Approach</H3>\n",
    "\n",
    "The flow balance constraints in the above shortest path formulation involve sums over dynamic sets $RS(i)$ and $FS(i)$, which are both subsets of the full arc set $A$, and also vary depending on the city $i$. This is a departure from, say, the diet problem in which every constraint has a sum over the full set of food types. As such, we'll need to take a slightly different approach in order to efficiently add constraints to the model. We'll start off by presenting a naive approach that is $O(|N|*|A|)$ just to build the model.\n",
    "\n",
    "We'll first add variables and set the objective."
   ]
  },
  {
   "cell_type": "code",
   "execution_count": 5,
   "metadata": {},
   "outputs": [
    {
     "name": "stdout",
     "output_type": "stream",
     "text": [
      "Using license file C:\\Users\\liaml\\gurobi.lic\n",
      "Academic license - for non-commercial use only\n",
      "{('Honolulu', 'Chicago'): <gurobi.Var arc_traversed.Honolulu.Chicago>, ('Honolulu', 'San Francisco'): <gurobi.Var arc_traversed.Honolulu.San Francisco>, ('Honolulu', 'Los Angeles'): <gurobi.Var arc_traversed.Honolulu.Los Angeles>, ('Chicago', 'Boston'): <gurobi.Var arc_traversed.Chicago.Boston>, ('Chicago', 'New York'): <gurobi.Var arc_traversed.Chicago.New York>, ('San Francisco', 'Boston'): <gurobi.Var arc_traversed.San Francisco.Boston>, ('San Francisco', 'New York'): <gurobi.Var arc_traversed.San Francisco.New York>, ('San Francisco', 'Atlanta'): <gurobi.Var arc_traversed.San Francisco.Atlanta>, ('Los Angeles', 'New York'): <gurobi.Var arc_traversed.Los Angeles.New York>, ('Los Angeles', 'Atlanta'): <gurobi.Var arc_traversed.Los Angeles.Atlanta>, ('Boston', 'Heathrow London'): <gurobi.Var arc_traversed.Boston.Heathrow London>, ('New York', 'Heathrow London'): <gurobi.Var arc_traversed.New York.Heathrow London>, ('Atlanta', 'Heathrow London'): <gurobi.Var arc_traversed.Atlanta.Heathrow London>}\n"
     ]
    }
   ],
   "source": [
    "import gurobipy as grb\n",
    "\n",
    "m = grb.Model()\n",
    "#Create a dictionary that maps source-destination pairs to corresponding Gurobi variables\n",
    "arc_traversed = {(arc.source, arc.destination): m.addVar(?)\n",
    "                 for arc in arcs}\n",
    "m.update()\n",
    "print(arc_traversed)"
   ]
  },
  {
   "cell_type": "markdown",
   "metadata": {},
   "source": [
    "We now have a dictionary that maps a pair of cities to the decision variable which will ultimately tell use if we travel between those cities. Each city $i \\in N$ will get its own flow balance constraint. To write that constraint we need to know what arcs enter and leave the city, and that requires a lookup of the arcs set. We can write methods to do this for us."
   ]
  },
  {
   "cell_type": "code",
   "execution_count": 6,
   "metadata": {},
   "outputs": [],
   "source": [
    "def get_forward_star(arc_traversed, city):\n",
    "    #Returns a list of all arc variables in the city's forward star\n",
    "    return [...]\n",
    "\n",
    "def get_reverse_star(arc_traversed, city):\n",
    "    #Returns a list of all arc variables in the city's reverse star\n",
    "    return [...]"
   ]
  },
  {
   "cell_type": "markdown",
   "metadata": {},
   "source": [
    "Let's pick an intermediate city, say Atlanta, and generate the linear expression for its flow balance constraint."
   ]
  },
  {
   "cell_type": "code",
   "execution_count": 7,
   "metadata": {},
   "outputs": [
    {
     "name": "stdout",
     "output_type": "stream",
     "text": [
      "<gurobi.LinExpr: arc_traversed.San Francisco.Atlanta + arc_traversed.Los Angeles.Atlanta + -1.0 arc_traversed.Atlanta.Heathrow London>\n"
     ]
    }
   ],
   "source": [
    "num_times_leaving = get_forward_star(arc_traversed, 'Atlanta')\n",
    "num_times_entering = get_reverse_star(arc_traversed, 'Atlanta')\n",
    "balance_expr = grb.quicksum(num_times_entering) - grb.quicksum(num_times_leaving)\n",
    "print (balance_expr)"
   ]
  },
  {
   "cell_type": "markdown",
   "metadata": {},
   "source": [
    "This looks correct. The forward star consists of the single arc to Heathrow London, and the reverse star consists of the arcs from Los Angeles and San Francisco. We can only travel from Atlanta to Heathrow London if we first travelled to Atlanta via either Los Angeles or San Francisco, so this expression needs to be equal to 0. A naive approach will simply repeat this lookup for every city."
   ]
  },
  {
   "cell_type": "code",
   "execution_count": 8,
   "metadata": {},
   "outputs": [],
   "source": [
    "def naive_shortest_path(cities, arcs, origin, destination):\n",
    "    def get_forward_star(city):\n",
    "        return [...]\n",
    "    \n",
    "    def get_reverse_star(city):\n",
    "        return [...]    \n",
    "    \n",
    "    model = grb.Model()\n",
    "\n",
    "    arc_traversed = {(arc.source, arc.destination): model.addVar(...)\n",
    "                     for arc in arcs}\n",
    "    model.update()\n",
    "    flow_balance = {}\n",
    "    for city in cities:\n",
    "        num_times_leaving = grb.quicksum(get_forward_star(city))\n",
    "        num_times_entering = grb.quicksum(get_reverse_star(city))\n",
    "        #Create a flow-balance constraint to ensure that each city is entered as many times as it is left\n",
    "        flow_balance[city] = model.addConstr(...)\n",
    "    model.update()\n",
    "    flow_balance[origin].RHS = -1\n",
    "    flow_balance[destination].RHS = 1\n",
    "    model.optimize()\n",
    "    model.write('naive.lp')\n",
    "    for arc, var in arc_traversed.items():\n",
    "        if var.X > 0.5:\n",
    "            print (arc)\n",
    "    print (\"Total distance =\", model.ObjVal)"
   ]
  },
  {
   "cell_type": "code",
   "execution_count": 9,
   "metadata": {},
   "outputs": [
    {
     "name": "stdout",
     "output_type": "stream",
     "text": [
      "Gurobi Optimizer version 9.0.2 build v9.0.2rc0 (win64)\n",
      "Optimize a model with 8 rows, 13 columns and 26 nonzeros\n",
      "Model fingerprint: 0x84db7682\n",
      "Coefficient statistics:\n",
      "  Matrix range     [1e+00, 1e+00]\n",
      "  Objective range  [4e+01, 1e+02]\n",
      "  Bounds range     [0e+00, 0e+00]\n",
      "  RHS range        [1e+00, 1e+00]\n",
      "Presolve removed 6 rows and 6 columns\n",
      "Presolve time: 0.02s\n",
      "Presolved: 2 rows, 7 columns, 14 nonzeros\n",
      "\n",
      "Iteration    Objective       Primal Inf.    Dual Inf.      Time\n",
      "       0    1.7700000e+02   0.000000e+00   0.000000e+00      0s\n",
      "       0    1.7700000e+02   0.000000e+00   0.000000e+00      0s\n",
      "\n",
      "Solved in 0 iterations and 0.03 seconds\n",
      "Optimal objective  1.770000000e+02\n",
      "Warning: variable name \"arc_traversed.Honolulu.San Francisco\" has a space\n",
      "Warning: constraint name \"flow.San Francisco\" has a space\n",
      "Warning: to let Gurobi read it back, use rlp format\n",
      "('Honolulu', 'Los Angeles')\n",
      "('Los Angeles', 'New York')\n",
      "('New York', 'Heathrow London')\n",
      "Total distance = 177.0\n"
     ]
    }
   ],
   "source": [
    "naive_shortest_path(cities, arcs, 'Honolulu', 'Heathrow London')"
   ]
  },
  {
   "cell_type": "code",
   "execution_count": 3,
   "metadata": {
    "scrolled": true
   },
   "outputs": [
    {
     "name": "stdout",
     "output_type": "stream",
     "text": [
      "cat: naive.lp: No such file or directory\r\n"
     ]
    }
   ],
   "source": [
    "!cat naive.lp"
   ]
  },
  {
   "cell_type": "markdown",
   "metadata": {},
   "source": [
    "We can check the lp file to verify that this approach did actually build the correct model. However, we are doing two lookups on the arc list every time we add a flow balance constraint for a city, which is needlessly inefficient. Let's look at some ways of eliminating this inefficiency."
   ]
  },
  {
   "cell_type": "markdown",
   "metadata": {},
   "source": [
    "<H3>Modeling with tuplelist</H3>"
   ]
  },
  {
   "cell_type": "markdown",
   "metadata": {},
   "source": [
    "Many optimization models involve sums over dynamic sets such as forward star and reverse star above. When each constraint uses a different subset of variables, we should take care to ensure that we aren't doing an inefficient lookup of that subset.\n",
    "\n",
    "It is commonplace to have a group of variables with a pair or tuple for an index, and constraints that fix some elements of the tuple and sum over the remaining elements. For the shortest path problem, each variable is indexed by two cities, the source and the destination, and the sums in the constraints either fix the source and sum over the destinations, or vice versa. \n",
    "\n",
    "It's important to efficiently determine which variables participate in each constraint. Fortunately, this pattern shows up frequently enough in optimization models that Gurobi has provided a special data structure called a tuplelist which does exactly what we need quickly and with clean syntax that reads close to a pure modeling language.\n",
    "\n",
    "The list of tuples that you create a tuplelist out of will typically be the key set of a decision variable dictionary. In the shortest path example, each key in our arc_traversed dictionary is a source, destination city pair."
   ]
  },
  {
   "cell_type": "code",
   "execution_count": 11,
   "metadata": {},
   "outputs": [
    {
     "name": "stdout",
     "output_type": "stream",
     "text": [
      "<gurobi.tuplelist (13 tuples, 2 values each):\n",
      " ( Honolulu      , Chicago         )\n",
      " ( Honolulu      , San Francisco   )\n",
      " ( Honolulu      , Los Angeles     )\n",
      " ( Chicago       , Boston          )\n",
      " ( Chicago       , New York        )\n",
      " ( San Francisco , Boston          )\n",
      " ( San Francisco , New York        )\n",
      " ( San Francisco , Atlanta         )\n",
      " ( Los Angeles   , New York        )\n",
      " ( Los Angeles   , Atlanta         )\n",
      " ( Boston        , Heathrow London )\n",
      " ( New York      , Heathrow London )\n",
      " ( Atlanta       , Heathrow London )\n",
      ">\n"
     ]
    }
   ],
   "source": [
    "arc_tuple_list = grb.tuplelist([(arc.source, arc.destination) for arc in arcs])\n",
    "print(arc_tuple_list)"
   ]
  },
  {
   "cell_type": "markdown",
   "metadata": {},
   "source": [
    "Since every element of arc_tuple_list is a key in the arc_traversed dictionary, if we select a subset of these tuples, we can use them to sum over a subset of the Var objects in the dictionary. Every tuplelist has a select method which selects the subset of tuples which matches a pattern. The pattern to match on can include wildcards for any element of the tuple. For example, here's how we'd use the select method to pull the set of inbound and outbound arcs for Atlanta:"
   ]
  },
  {
   "cell_type": "code",
   "execution_count": 12,
   "metadata": {},
   "outputs": [
    {
     "name": "stdout",
     "output_type": "stream",
     "text": [
      "<gurobi.tuplelist (2 tuples, 2 values each):\n",
      " ( San Francisco , Atlanta )\n",
      " ( Los Angeles   , Atlanta )\n",
      ">\n",
      "<gurobi.tuplelist (1 tuples, 2 values each):\n",
      " ( Atlanta , Heathrow London )\n",
      ">\n"
     ]
    }
   ],
   "source": [
    "print(arc_tuple_list.select('*', 'Atlanta'))\n",
    "print(arc_tuple_list.select('Atlanta', '*'))"
   ]
  },
  {
   "cell_type": "markdown",
   "metadata": {},
   "source": [
    "The tuplelist data structure exists to do this particular type of lookup, so the select method is much faster than the brute force lookups we performed in the naive implementation. Let's replace those lookups with tuplelist's select method."
   ]
  },
  {
   "cell_type": "code",
   "execution_count": 13,
   "metadata": {},
   "outputs": [],
   "source": [
    "def tuplelist_shortest_path(cities, arcs, origin, destination):   \n",
    "    model = grb.Model()\n",
    "    arc_traversed = {(arc.source, arc.destination): model.addVar(...)\n",
    "                     for arc in arcs} #The same as before\n",
    "    model.update()\n",
    "    #Create a tuplelist of source, destination pairs\n",
    "    arc_tuple_list = ... \n",
    "    flow_balance = {}\n",
    "    for city in cities:\n",
    "        #Utilize the new select method to more efficiently find these values\n",
    "        num_times_leaving = grb.quicksum(...)\n",
    "        num_times_entering = grb.quicksum(...)\n",
    "        flow_balance[city] = model.addConstr(...)\n",
    "    model.update()\n",
    "    flow_balance[origin].RHS = -1\n",
    "    flow_balance[destination].RHS = 1\n",
    "    model.optimize()\n",
    "    model.write('tuplelist.lp')\n",
    "    for arc, var in arc_traversed.items():\n",
    "        if var.X > 0.5:\n",
    "            print (arc)\n",
    "    print (\"Total distance =\", model.ObjVal)"
   ]
  },
  {
   "cell_type": "code",
   "execution_count": 14,
   "metadata": {},
   "outputs": [
    {
     "name": "stdout",
     "output_type": "stream",
     "text": [
      "Gurobi Optimizer version 9.0.2 build v9.0.2rc0 (win64)\n",
      "Optimize a model with 8 rows, 13 columns and 26 nonzeros\n",
      "Model fingerprint: 0x84db7682\n",
      "Coefficient statistics:\n",
      "  Matrix range     [1e+00, 1e+00]\n",
      "  Objective range  [4e+01, 1e+02]\n",
      "  Bounds range     [0e+00, 0e+00]\n",
      "  RHS range        [1e+00, 1e+00]\n",
      "Presolve removed 6 rows and 6 columns\n",
      "Presolve time: 0.02s\n",
      "Presolved: 2 rows, 7 columns, 14 nonzeros\n",
      "\n",
      "Iteration    Objective       Primal Inf.    Dual Inf.      Time\n",
      "       0    1.7700000e+02   0.000000e+00   0.000000e+00      0s\n",
      "       0    1.7700000e+02   0.000000e+00   0.000000e+00      0s\n",
      "\n",
      "Solved in 0 iterations and 0.03 seconds\n",
      "Optimal objective  1.770000000e+02\n",
      "Warning: variable name \"arc_traversed.Honolulu.San Francisco\" has a space\n",
      "Warning: constraint name \"flow.San Francisco\" has a space\n",
      "Warning: to let Gurobi read it back, use rlp format\n",
      "('Honolulu', 'Los Angeles')\n",
      "('Los Angeles', 'New York')\n",
      "('New York', 'Heathrow London')\n",
      "Total distance = 177.0\n"
     ]
    }
   ],
   "source": [
    "tuplelist_shortest_path(cities, arcs, 'Honolulu', 'Heathrow London')"
   ]
  },
  {
   "cell_type": "code",
   "execution_count": 15,
   "metadata": {},
   "outputs": [
    {
     "name": "stdout",
     "output_type": "stream",
     "text": [
      "\\ LP format - for model browsing. Use MPS format to capture full model detail.\n",
      "Minimize\n",
      "  105 arc_traversed.Honolulu.Chicago\n",
      "   + 75 arc_traversed.Honolulu.San_Francisco\n",
      "   + 68 arc_traversed.Honolulu.Los_Angeles\n",
      "   + 45 arc_traversed.Chicago.Boston + 56 arc_traversed.Chicago.New_York\n",
      "   + 71 arc_traversed.San_Francisco.Boston\n",
      "   + 48 arc_traversed.San_Francisco.New_York\n",
      "   + 63 arc_traversed.San_Francisco.Atlanta\n",
      "   + 44 arc_traversed.Los_Angeles.New_York\n",
      "   + 57 arc_traversed.Los_Angeles.Atlanta\n",
      "   + 88 arc_traversed.Boston.Heathrow_London\n",
      "   + 65 arc_traversed.New_York.Heathrow_London\n",
      "   + 76 arc_traversed.Atlanta.Heathrow_London\n",
      "Subject To\n",
      " flow.Honolulu: - arc_traversed.Honolulu.Chicago\n",
      "   - arc_traversed.Honolulu.San_Francisco\n",
      "   - arc_traversed.Honolulu.Los_Angeles = -1\n",
      " flow.Chicago: arc_traversed.Honolulu.Chicago\n",
      "   - arc_traversed.Chicago.Boston - arc_traversed.Chicago.New_York = 0\n",
      " flow.San_Francisco: arc_traversed.Honolulu.San_Francisco\n",
      "   - arc_traversed.San_Francisco.Boston\n",
      "   - arc_traversed.San_Francisco.New_York\n",
      "   - arc_traversed.San_Francisco.Atlanta = 0\n",
      " flow.Los_Angeles: arc_traversed.Honolulu.Los_Angeles\n",
      "   - arc_traversed.Los_Angeles.New_York - arc_traversed.Los_Angeles.Atlanta\n",
      "   = 0\n",
      " flow.Boston: arc_traversed.Chicago.Boston\n",
      "   + arc_traversed.San_Francisco.Boston\n",
      "   - arc_traversed.Boston.Heathrow_London = 0\n",
      " flow.New_York: arc_traversed.Chicago.New_York\n",
      "   + arc_traversed.San_Francisco.New_York\n",
      "   + arc_traversed.Los_Angeles.New_York\n",
      "   - arc_traversed.New_York.Heathrow_London = 0\n",
      " flow.Atlanta: arc_traversed.San_Francisco.Atlanta\n",
      "   + arc_traversed.Los_Angeles.Atlanta\n",
      "   - arc_traversed.Atlanta.Heathrow_London = 0\n",
      " flow.Heathrow_London: arc_traversed.Boston.Heathrow_London\n",
      "   + arc_traversed.New_York.Heathrow_London\n",
      "   + arc_traversed.Atlanta.Heathrow_London = 1\n",
      "Bounds\n",
      "End\n"
     ]
    }
   ],
   "source": [
    "!type tuplelist.lp"
   ]
  },
  {
   "cell_type": "markdown",
   "metadata": {},
   "source": [
    "<H3>Modeling with Columns</H3>\n",
    "\n",
    "When building a Gurobi model, it can be useful to focus on a single constraint or row, and ask what variables participate in that constraint. \n",
    "\n",
    "While this row-wise view is frequently the most intuitive view of the model, there are some cases in which it is difficult to describe the set of variables corresponding to a constraint. In these cases it may actually be easier to focus on a single variable or column, and ask what constraints that variable participates in. That is, we may wish to think about what a specific column in the constraint matrix looks like.\n",
    "\n",
    "Both the row-wise and column-wise approaches can lead us to a correct representation of the model, there are reasons to prefer one over the other depending on the context. Generally speaking, we will prefer the column-wise perspective when each variable appears in a fixed number of constraints.\n",
    "\n",
    "In the context of the shortest path formulation above, each variable indicates whether we traverse a particular arc, and each constraint enforces a conservation of flow for a particular city. Consider one of these constraints, say the one corresponding to Chicago. Each of the rows in the arc DataFrame above corresponds to a decision variable. We can certainly look up the arcs that are incident to Chicago -- there is an inbound arc from Honolulu and two outbound arcs to Boston and New York -- and write down a constraint that says that we only traverse an outbound arc if we traversed an inbound arc. We could repeat this arc lookup for each city to build the full model, with each lookup returning a different subset of arcs depending on the city.\n",
    "\n",
    "Now consider one of the variables in the model, say the one corresponding to the arc from Los Angeles to New York. Determining which constraints this variable participates in requires no lookup. It participates in the constraint for Los Angeles and the constraint for New York. In fact, every variable in the model participates in exactly two constraints-- one for the source and one for the destination city. If we follow the convention that flow in to a city is positive and flow out is negative, each column in the constraint matrix has exactly two non-zero entries, a 1 for the destination city and a -1 for the source city. That each column has a very easily-defined structure is an indication that the model is amenable to a column-wise approach."
   ]
  },
  {
   "cell_type": "markdown",
   "metadata": {},
   "source": [
    "Let's create a column for our shortest path model. Gurobi provides a Column object for this purpose, which takes in a list of coefficients and a list of constraints. This means we'll need to add the constraints to the model before we create columns. When we create the constraints, we intentionally omit the variables as they haven't even been created yet. This can be counterintuitive but will make sense once we demonstrate it."
   ]
  },
  {
   "cell_type": "code",
   "execution_count": 16,
   "metadata": {},
   "outputs": [
    {
     "name": "stdout",
     "output_type": "stream",
     "text": [
      "{'Honolulu': <gurobi.Constr flow.Honolulu>, 'Chicago': <gurobi.Constr flow.Chicago>, 'San Francisco': <gurobi.Constr flow.San Francisco>, 'Los Angeles': <gurobi.Constr flow.Los Angeles>, 'Boston': <gurobi.Constr flow.Boston>, 'New York': <gurobi.Constr flow.New York>, 'Atlanta': <gurobi.Constr flow.Atlanta>, 'Heathrow London': <gurobi.Constr flow.Heathrow London>}\n"
     ]
    }
   ],
   "source": [
    "m = grb.Model()\n",
    "flow_balance = {city: m.addConstr(grb.LinExpr() == 0, name='flow.' + str(city)) for city in cities}\n",
    "m.update()\n",
    "print (flow_balance)"
   ]
  },
  {
   "cell_type": "markdown",
   "metadata": {},
   "source": [
    "Now let's create the column for the Los Angeles to New York arc traversal variable. This variable contributes a +1 to the New York flow constraint, and a -1 to the Los Angeles flow constraint."
   ]
  },
  {
   "cell_type": "code",
   "execution_count": 17,
   "metadata": {},
   "outputs": [
    {
     "name": "stdout",
     "output_type": "stream",
     "text": [
      "<gurobi.Column: 1.0 flow.New York -1.0 flow.Los Angeles >\n"
     ]
    }
   ],
   "source": [
    "column = grb.Column(coeffs=[1, -1], constrs=[flow_balance['New York'], flow_balance['Los Angeles']])\n",
    "print (column)"
   ]
  },
  {
   "cell_type": "markdown",
   "metadata": {},
   "source": [
    "The Column object looks a lot like the LinExpr object, except that it represents a list of constraints instead of variables. And, where we normally use a LinExpr when we call addConstr, we can pass a Column in as a parameter to addVar."
   ]
  },
  {
   "cell_type": "code",
   "execution_count": 18,
   "metadata": {},
   "outputs": [],
   "source": [
    "var = m.addVar(obj=44, name='arc_traversed.Los_Angeles.New_York', column=column)"
   ]
  },
  {
   "cell_type": "markdown",
   "metadata": {},
   "source": [
    "This will retroactively add the variable we just created to the two constraints it participated in. If we do this in a loop over all arcs in the network, we can build the full shortest path model."
   ]
  },
  {
   "cell_type": "code",
   "execution_count": 19,
   "metadata": {},
   "outputs": [],
   "source": [
    "def solve_shortest_path(cities, arcs, origin, destination):\n",
    "    def get_column(arc):\n",
    "        #Return a Column object with the appropriate coefficients and constraints for each arc\n",
    "        return grb.Column(coeffs=[...], constrs=[...])\n",
    "\n",
    "    model = grb.Model()\n",
    "    #Create a flow balance constraint for each city, but this time use an empty LinExpr in place of the variables\n",
    "    flow_balance = {city: model.addConstr(...)\n",
    "                    for city in cities}\n",
    "    model.update()\n",
    "    flow_balance[origin].RHS = -1\n",
    "    flow_balance[destination].RHS = 1\n",
    "    #Use the column attribute of addVar when generating the arc_traversed dictionary\n",
    "    arc_traversed = {(arc.source, arc.destination): model.addVar(...)\n",
    "                     for arc in arcs}\n",
    "    model.optimize()\n",
    "    for arc, var in arc_traversed.items():\n",
    "        if var.X > 0.5:\n",
    "            print (arc)\n",
    "    print (\"Total distance =\", model.ObjVal)"
   ]
  },
  {
   "cell_type": "code",
   "execution_count": 20,
   "metadata": {},
   "outputs": [
    {
     "name": "stdout",
     "output_type": "stream",
     "text": [
      "Gurobi Optimizer version 9.0.2 build v9.0.2rc0 (win64)\n",
      "Optimize a model with 8 rows, 13 columns and 26 nonzeros\n",
      "Model fingerprint: 0x15b76e4e\n",
      "Coefficient statistics:\n",
      "  Matrix range     [1e+00, 1e+00]\n",
      "  Objective range  [4e+01, 1e+02]\n",
      "  Bounds range     [0e+00, 0e+00]\n",
      "  RHS range        [1e+00, 1e+00]\n",
      "Presolve removed 6 rows and 6 columns\n",
      "Presolve time: 0.01s\n",
      "Presolved: 2 rows, 7 columns, 14 nonzeros\n",
      "\n",
      "Iteration    Objective       Primal Inf.    Dual Inf.      Time\n",
      "       0    1.7700000e+02   0.000000e+00   0.000000e+00      0s\n",
      "       0    1.7700000e+02   0.000000e+00   0.000000e+00      0s\n",
      "\n",
      "Solved in 0 iterations and 0.03 seconds\n",
      "Optimal objective  1.770000000e+02\n",
      "('Honolulu', 'Los Angeles')\n",
      "('Los Angeles', 'New York')\n",
      "('New York', 'Heathrow London')\n",
      "Total distance = 177.0\n"
     ]
    }
   ],
   "source": [
    "solve_shortest_path(cities, arcs, 'Honolulu', 'Heathrow London')"
   ]
  },
  {
   "cell_type": "code",
   "execution_count": null,
   "metadata": {},
   "outputs": [],
   "source": []
  },
  {
   "cell_type": "code",
   "execution_count": null,
   "metadata": {},
   "outputs": [],
   "source": []
  }
 ],
 "metadata": {
  "kernelspec": {
   "display_name": "Python 3",
   "language": "python",
   "name": "python3"
  },
  "language_info": {
   "codemirror_mode": {
    "name": "ipython",
    "version": 3
   },
   "file_extension": ".py",
   "mimetype": "text/x-python",
   "name": "python",
   "nbconvert_exporter": "python",
   "pygments_lexer": "ipython3",
   "version": "3.7.1"
  }
 },
 "nbformat": 4,
 "nbformat_minor": 1
}

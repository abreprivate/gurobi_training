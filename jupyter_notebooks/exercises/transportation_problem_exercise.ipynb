{
 "cells": [
  {
   "cell_type": "markdown",
   "metadata": {},
   "source": [
    "<H1>The Transportation Problem</H1>\n",
    "* Consider a set of warehouses each with a given inventory of widgets, and a set of demand centers each with a given demand for widgets. \n",
    "* How many widgets should we ship from each warehouse to each demand center such that all demand is satisfied and shipping costs are minimized?"
   ]
  },
  {
   "cell_type": "markdown",
   "metadata": {},
   "source": [
    "![Transportation Problem](transportation_problem.png)\n",
    "<H3> Sets and Indices </H3>\n",
    "* $i \\in I$: Warehouses\n",
    "* $j \\in J$: Customers (demand centers)\n",
    "\n",
    "<H3>Data</H3>\n",
    "* $u_i$: capacity for warehouse $i$ (widgets)\n",
    "* $d_j$: demand at demand center $j$ (widgets)\n",
    "* $c_{ij}$: shipping cost from warehouse $i$ to customer $j$ ($/widget)\n",
    "\n",
    "<H3>Decision Variables</H3>\n",
    "* $x_{ij}$: number of widgets to ship from warehouse $i$ to customer $j$\n",
    "\n",
    "<H3>Linear Programming Formulation</H3>\n",
    "\\begin{eqnarray}\n",
    "\\min_{x} && \\sum_{i \\in I} \\sum_{j \\in J} c_{ij} x_{ij} \\;\\; \\mbox{(minimize shipping costs)} \\nonumber \\\\\n",
    "\\mbox{s.t.} && \\sum_{i \\in I} x_{ij} = d_j,\\;\\;j \\in J \\;\\; \\mbox{(satisfy demand)}\\nonumber \\\\\n",
    "&& \\sum_{j \\in J} x_{ij} \\le u_i,\\;\\;i \\in I \\;\\; \\mbox{(don't exceed capacity)} \\nonumber \\\\\n",
    "&& x_{ij} \\ge 0, \\;\\;i \\in I,\\;j \\in J \\;\\; \\mbox{(ship nonnegative quantities)} \\nonumber\n",
    "\\end{eqnarray}"
   ]
  },
  {
   "cell_type": "markdown",
   "metadata": {},
   "source": [
    "<H3>Inputs</H3>\n",
    "\n",
    "We'll consider a test data set with four demand centers that have the following demands:"
   ]
  },
  {
   "cell_type": "code",
   "execution_count": 1,
   "metadata": {},
   "outputs": [],
   "source": [
    "demands = [15, 18, 14, 20]"
   ]
  },
  {
   "cell_type": "markdown",
   "metadata": {},
   "source": [
    "And with five warehouses that have the following widget capacities:"
   ]
  },
  {
   "cell_type": "code",
   "execution_count": 2,
   "metadata": {},
   "outputs": [],
   "source": [
    "capacities = [20, 22, 17, 19, 18]"
   ]
  },
  {
   "cell_type": "code",
   "execution_count": 3,
   "metadata": {},
   "outputs": [
    {
     "name": "stdout",
     "output_type": "stream",
     "text": [
      "range(0, 5)\n"
     ]
    }
   ],
   "source": [
    "warehouses = range(len(capacities))\n",
    "print (warehouses)"
   ]
  },
  {
   "cell_type": "markdown",
   "metadata": {},
   "source": [
    "Finally, we'll need to know the per unit shipping costs between each warehouse and demand center."
   ]
  },
  {
   "cell_type": "code",
   "execution_count": 4,
   "metadata": {},
   "outputs": [],
   "source": [
    "ship_costs =  [[4000, 2500, 1200, 2200],\n",
    "               [2000, 2600, 1800, 2600],\n",
    "               [3000, 3400, 2600, 3100],\n",
    "               [2500, 3000, 4100, 3700],\n",
    "               [4500, 4000, 3000, 3200]]"
   ]
  },
  {
   "cell_type": "markdown",
   "metadata": {},
   "source": [
    "<H3>Decision Variables</H3>\n",
    "\n",
    "For each warehouse, customer pair, we'll need to decide how many units to ship. After adding those variables, we can think about how to generate the linear expressions needed to create the model."
   ]
  },
  {
   "cell_type": "code",
   "execution_count": 5,
   "metadata": {},
   "outputs": [],
   "source": [
    "def get_ship_vars(model, warehouses, customers):\n",
    "    return {(warehouse, customer): model.addVar(...)\n",
    "                                   for customer in customers\n",
    "                                   for warehouse in warehouses}"
   ]
  },
  {
   "cell_type": "markdown",
   "metadata": {},
   "source": [
    "<H3>Linear Expressions</H3>\n",
    "\n",
    "This transportation model has two families of constraints. It is important to understand for each constraint which index set is being looped over, and which is being summed over. For demands, there exists one constraint per customer and each constraint involves a sum over the warehouses, and for supplies there exists one constraint per warehouse and each constraint involves a sum over the customers.\n",
    "\n",
    "Let's create a test model and experiment with generating expressions out of the ship variables."
   ]
  },
  {
   "cell_type": "code",
   "execution_count": 6,
   "metadata": {},
   "outputs": [
    {
     "name": "stdout",
     "output_type": "stream",
     "text": [
      "Using license file C:\\Users\\liaml\\gurobi.lic\n",
      "Academic license - for non-commercial use only\n"
     ]
    },
    {
     "data": {
      "text/plain": [
       "{(0, 0): <gurobi.Var ship.w0.c0>,\n",
       " (1, 0): <gurobi.Var ship.w1.c0>,\n",
       " (2, 0): <gurobi.Var ship.w2.c0>,\n",
       " (3, 0): <gurobi.Var ship.w3.c0>,\n",
       " (4, 0): <gurobi.Var ship.w4.c0>,\n",
       " (0, 1): <gurobi.Var ship.w0.c1>,\n",
       " (1, 1): <gurobi.Var ship.w1.c1>,\n",
       " (2, 1): <gurobi.Var ship.w2.c1>,\n",
       " (3, 1): <gurobi.Var ship.w3.c1>,\n",
       " (4, 1): <gurobi.Var ship.w4.c1>,\n",
       " (0, 2): <gurobi.Var ship.w0.c2>,\n",
       " (1, 2): <gurobi.Var ship.w1.c2>,\n",
       " (2, 2): <gurobi.Var ship.w2.c2>,\n",
       " (3, 2): <gurobi.Var ship.w3.c2>,\n",
       " (4, 2): <gurobi.Var ship.w4.c2>,\n",
       " (0, 3): <gurobi.Var ship.w0.c3>,\n",
       " (1, 3): <gurobi.Var ship.w1.c3>,\n",
       " (2, 3): <gurobi.Var ship.w2.c3>,\n",
       " (3, 3): <gurobi.Var ship.w3.c3>,\n",
       " (4, 3): <gurobi.Var ship.w4.c3>}"
      ]
     },
     "execution_count": 6,
     "metadata": {},
     "output_type": "execute_result"
    }
   ],
   "source": [
    "import gurobipy as grb\n",
    "m = grb.Model()\n",
    "warehouses = range(len(capacities))\n",
    "customers = range(len(demands))\n",
    "to_ship = get_ship_vars(m, warehouses, customers)\n",
    "m.update()\n",
    "to_ship"
   ]
  },
  {
   "cell_type": "markdown",
   "metadata": {},
   "source": [
    "We'll pick a customer first, say customer 0, and generate an expression for the number of units that customer received."
   ]
  },
  {
   "cell_type": "code",
   "execution_count": 7,
   "metadata": {},
   "outputs": [
    {
     "data": {
      "text/plain": [
       "<gurobi.LinExpr: ship.w0.c0 + ship.w1.c0 + ship.w2.c0 + ship.w3.c0 + ship.w4.c0>"
      ]
     },
     "execution_count": 7,
     "metadata": {},
     "output_type": "execute_result"
    }
   ],
   "source": [
    "grb.quicksum(...)"
   ]
  },
  {
   "cell_type": "markdown",
   "metadata": {},
   "source": [
    "This fixes customer $c_0$, and sums over the warehouses $w_0,\\ldots,w_4$. If this works for customer $c_0$, it should work for the rest of the customers if we add an outer loop."
   ]
  },
  {
   "cell_type": "code",
   "execution_count": 8,
   "metadata": {},
   "outputs": [
    {
     "name": "stdout",
     "output_type": "stream",
     "text": [
      "<gurobi.LinExpr: ship.w0.c0 + ship.w1.c0 + ship.w2.c0 + ship.w3.c0 + ship.w4.c0>\n",
      "<gurobi.LinExpr: ship.w0.c1 + ship.w1.c1 + ship.w2.c1 + ship.w3.c1 + ship.w4.c1>\n",
      "<gurobi.LinExpr: ship.w0.c2 + ship.w1.c2 + ship.w2.c2 + ship.w3.c2 + ship.w4.c2>\n",
      "<gurobi.LinExpr: ship.w0.c3 + ship.w1.c3 + ship.w2.c3 + ship.w3.c3 + ship.w4.c3>\n"
     ]
    }
   ],
   "source": [
    "for customer in customers:\n",
    "    print (grb.quicksum(...))"
   ]
  },
  {
   "cell_type": "markdown",
   "metadata": {},
   "source": [
    "This should have generated a linear expression for each customer $c_0,\\ldots,c_3$. If so, these are the LinExpr objects we need to construct demand constraints. The takeaway is that the set we are summing over should participate in the inner loop, and the set we are writing the constraint over should participate in the outer loop.\n",
    "\n",
    "To generate expressions for the supply constraints, we'll need to fix a warehouse and sum over the customers, so we'll want customers on the inner loop and warehouses on the outer."
   ]
  },
  {
   "cell_type": "code",
   "execution_count": 9,
   "metadata": {},
   "outputs": [
    {
     "name": "stdout",
     "output_type": "stream",
     "text": [
      "<gurobi.LinExpr: ship.w0.c0 + ship.w0.c1 + ship.w0.c2 + ship.w0.c3>\n",
      "<gurobi.LinExpr: ship.w1.c0 + ship.w1.c1 + ship.w1.c2 + ship.w1.c3>\n",
      "<gurobi.LinExpr: ship.w2.c0 + ship.w2.c1 + ship.w2.c2 + ship.w2.c3>\n",
      "<gurobi.LinExpr: ship.w3.c0 + ship.w3.c1 + ship.w3.c2 + ship.w3.c3>\n",
      "<gurobi.LinExpr: ship.w4.c0 + ship.w4.c1 + ship.w4.c2 + ship.w4.c3>\n"
     ]
    }
   ],
   "source": [
    "for warehouse in warehouses:\n",
    "    print (grb.quicksum(...))"
   ]
  },
  {
   "cell_type": "markdown",
   "metadata": {},
   "source": [
    "Each LinExpr object we just generated should consider a single warehouse and sum over all customers."
   ]
  },
  {
   "cell_type": "markdown",
   "metadata": {},
   "source": [
    "<H3>Constraints</H3>\n",
    "\n",
    "Generating the correct LinExpr objects for each demand and supply is most of the challenge. We can turn each LinExpr into a constraint by using the overloaded $<=$, $>=$, and $==$ operators.\n",
    "\n",
    "For the demand constraints, we'll loop over the customers and sum over the warehouses.\n",
    "\n",
    "Note: We are using Python's list comprehension syntax here, which puts the outer for loop inside the []. It is still the case that the outer loop iterates over the customer, and the inner loop sums over the warehouses."
   ]
  },
  {
   "cell_type": "code",
   "execution_count": 10,
   "metadata": {},
   "outputs": [],
   "source": [
    "def get_demand_constrs(model, to_ship, demands):\n",
    "    #Return a list of demand constraints for each cutomer\n",
    "    return [model.addConstr(...)\n",
    "           for customer, demand in enumerate(demands)]"
   ]
  },
  {
   "cell_type": "markdown",
   "metadata": {},
   "source": [
    "We can write a similar method to generate the capacity constraints."
   ]
  },
  {
   "cell_type": "code",
   "execution_count": 11,
   "metadata": {},
   "outputs": [],
   "source": [
    "def get_capacity_constrs(model, to_ship, capacities):\n",
    "    #Return a list of capacity constraints for each warehouse\n",
    "    return [model.addConstr(...)\n",
    "            for warehouse, capacity in enumerate(capacities)]"
   ]
  },
  {
   "cell_type": "markdown",
   "metadata": {},
   "source": [
    "<H3>Solving the Model</H3>\n",
    "\n",
    "Now we have the building blocks needed to build and solve a transportation model. Let's put it all together."
   ]
  },
  {
   "cell_type": "code",
   "execution_count": 12,
   "metadata": {},
   "outputs": [],
   "source": [
    "import gurobipy as grb\n",
    "GRB = grb.GRB\n",
    "def solve_transportation_model(capacities, demands):\n",
    "    model = grb.Model()\n",
    "    warehouses = range(len(capacities))\n",
    "    customers = range(len(demands))\n",
    "    to_ship = get_ship_vars(model, warehouses, customers)\n",
    "    model.update()\n",
    "    capacity_constrs = get_capacity_constrs(model, to_ship, capacities)\n",
    "    demand_constrs = get_demand_constrs(model, to_ship, demands)\n",
    "    \n",
    "    #Minimize the total cost to ship, using the shipping costs and the amount shipped on each arc\n",
    "    model.setObjective(grb.quicksum(...))\n",
    "    \n",
    "    model.optimize()\n",
    "    if model.Status == GRB.OPTIMAL:\n",
    "        for (warehouse, customer), var in sorted(to_ship.items()):\n",
    "            if var.X > 1e-4:\n",
    "                print (\"Ship\", var.X, \"units from warehouse\", warehouse, \"to customer\", customer)"
   ]
  },
  {
   "cell_type": "code",
   "execution_count": 13,
   "metadata": {},
   "outputs": [
    {
     "name": "stdout",
     "output_type": "stream",
     "text": [
      "Gurobi Optimizer version 9.0.2 build v9.0.2rc0 (win64)\n",
      "Optimize a model with 9 rows, 20 columns and 40 nonzeros\n",
      "Model fingerprint: 0xd56d0caf\n",
      "Coefficient statistics:\n",
      "  Matrix range     [1e+00, 1e+00]\n",
      "  Objective range  [1e+03, 5e+03]\n",
      "  Bounds range     [0e+00, 0e+00]\n",
      "  RHS range        [1e+01, 2e+01]\n",
      "Presolve time: 0.01s\n",
      "Presolved: 9 rows, 20 columns, 40 nonzeros\n",
      "\n",
      "Iteration    Objective       Primal Inf.    Dual Inf.      Time\n",
      "       0    1.3580000e+05   3.200000e+01   0.000000e+00      0s\n",
      "       5    1.5390000e+05   0.000000e+00   0.000000e+00      0s\n",
      "\n",
      "Solved in 5 iterations and 0.01 seconds\n",
      "Optimal objective  1.539000000e+05\n",
      "Ship 14.0 units from warehouse 0 to customer 2\n",
      "Ship 6.0 units from warehouse 0 to customer 3\n",
      "Ship 14.0 units from warehouse 1 to customer 0\n",
      "Ship 8.0 units from warehouse 1 to customer 3\n",
      "Ship 6.0 units from warehouse 2 to customer 3\n",
      "Ship 1.0 units from warehouse 3 to customer 0\n",
      "Ship 18.0 units from warehouse 3 to customer 1\n"
     ]
    }
   ],
   "source": [
    "solve_transportation_model(capacities, demands)"
   ]
  },
  {
   "cell_type": "code",
   "execution_count": null,
   "metadata": {},
   "outputs": [],
   "source": []
  }
 ],
 "metadata": {
  "kernelspec": {
   "display_name": "Python 3",
   "language": "python",
   "name": "python3"
  },
  "language_info": {
   "codemirror_mode": {
    "name": "ipython",
    "version": 3
   },
   "file_extension": ".py",
   "mimetype": "text/x-python",
   "name": "python",
   "nbconvert_exporter": "python",
   "pygments_lexer": "ipython3",
   "version": "3.7.6"
  }
 },
 "nbformat": 4,
 "nbformat_minor": 1
}

{
 "cells": [
  {
   "cell_type": "markdown",
   "metadata": {},
   "source": [
    "<H1>The Transportation Problem</H1>\n",
    "\n",
    "Consider a set of warehouses each with a given inventory of widgets, and a set of demand centers each with a given demand for widgets. \n",
    "\n",
    "How many widgets should we ship from each warehouse to each demand center such that all demand is satisfied and shipping costs are minimized?"
   ]
  },
  {
   "cell_type": "markdown",
   "metadata": {},
   "source": [
    "![Transportation Problem](transportation_problem.png)\n",
    "<H3> Sets and Indices </H3>\n",
    "\n",
    "$i \\in I$: Warehouses\n",
    "\n",
    "$j \\in J$: Customers (demand centers)\n",
    "\n",
    "<H3>Data</H3>\n",
    "\n",
    "$u_i$: capacity for warehouse $i$ (widgets)\n",
    "\n",
    "$d_j$: demand at demand center $j$ (widgets)\n",
    "\n",
    "$c_{ij}$: shipping cost from warehouse $i$ to customer $j$ ($/widget)\n",
    "\n",
    "<H3>Decision Variables</H3>\n",
    "\n",
    "$x_{ij}$: number of widgets to ship from warehouse $i$ to customer $j$\n",
    "\n",
    "<H3>Linear Programming Formulation</H3>\n",
    "\n",
    "\\begin{eqnarray}\n",
    "\\min_{x} && \\sum_{i \\in I} \\sum_{j \\in J} c_{ij} x_{ij} \\;\\; \\mbox{(minimize shipping costs)} \\nonumber \\\\\n",
    "\\mbox{s.t.} && \\sum_{i \\in I} x_{ij} = d_j,\\;\\;j \\in J \\;\\; \\mbox{(satisfy demand)}\\nonumber \\\\\n",
    "&& \\sum_{j \\in J} x_{ij} \\le u_i,\\;\\;i \\in I \\;\\; \\mbox{(don't exceed capacity)} \\nonumber \\\\\n",
    "&& x_{ij} \\ge 0, \\;\\;i \\in I,\\;j \\in J \\;\\; \\mbox{(ship nonnegative quantities)} \\nonumber\n",
    "\\end{eqnarray}"
   ]
  },
  {
   "cell_type": "markdown",
   "metadata": {},
   "source": [
    "<H3>Inputs</H3>\n",
    "\n",
    "We'll consider a test data set with four demand centers that have the following demands:"
   ]
  },
  {
   "cell_type": "code",
   "execution_count": null,
   "metadata": {},
   "outputs": [],
   "source": [
    "demands = [15, 18, 14, 20]"
   ]
  },
  {
   "cell_type": "markdown",
   "metadata": {},
   "source": [
    "And with five warehouses that have the following widget capacities:"
   ]
  },
  {
   "cell_type": "code",
   "execution_count": null,
   "metadata": {},
   "outputs": [],
   "source": [
    "capacities = [20, 22, 17, 19, 18]"
   ]
  },
  {
   "cell_type": "code",
   "execution_count": null,
   "metadata": {},
   "outputs": [],
   "source": [
    "warehouses = range(len(capacities))\n",
    "print (warehouses)"
   ]
  },
  {
   "cell_type": "markdown",
   "metadata": {},
   "source": [
    "Finally, we'll need to know the per unit shipping costs between each warehouse and demand center."
   ]
  },
  {
   "cell_type": "code",
   "execution_count": null,
   "metadata": {},
   "outputs": [],
   "source": [
    "ship_costs =  [[4000, 2500, 1200, 2200],\n",
    "               [2000, 2600, 1800, 2600],\n",
    "               [3000, 3400, 2600, 3100],\n",
    "               [2500, 3000, 4100, 3700],\n",
    "               [4500, 4000, 3000, 3200]]"
   ]
  },
  {
   "cell_type": "markdown",
   "metadata": {},
   "source": [
    "<H3>Decision Variables</H3>\n",
    "\n",
    "For each warehouse, customer pair, we'll need to decide how many units to ship. After adding those variables, we can think about how to generate the linear expressions needed to create the model."
   ]
  },
  {
   "cell_type": "code",
   "execution_count": null,
   "metadata": {},
   "outputs": [],
   "source": [
    "def get_ship_vars(model, warehouses, customers):\n",
    "    return {(warehouse, customer): model.addVar(...)\n",
    "                                   for customer in customers\n",
    "                                   for warehouse in warehouses}"
   ]
  },
  {
   "cell_type": "markdown",
   "metadata": {},
   "source": [
    "<H3>Linear Expressions</H3>\n",
    "\n",
    "This transportation model has two families of constraints. It is important to understand for each constraint which index set is being looped over, and which is being summed over. For demands, there exists one constraint per customer and each constraint involves a sum over the warehouses, and for supplies there exists one constraint per warehouse and each constraint involves a sum over the customers.\n",
    "\n",
    "Let's create a test model and experiment with generating expressions out of the ship variables."
   ]
  },
  {
   "cell_type": "code",
   "execution_count": null,
   "metadata": {},
   "outputs": [],
   "source": [
    "import gurobipy as grb\n",
    "m = grb.Model()\n",
    "warehouses = range(len(capacities))\n",
    "customers = range(len(demands))\n",
    "to_ship = get_ship_vars(m, warehouses, customers)\n",
    "m.update()\n",
    "to_ship"
   ]
  },
  {
   "cell_type": "markdown",
   "metadata": {},
   "source": [
    "We'll pick a customer first, say customer 0, and generate an expression for the number of units that customer received."
   ]
  },
  {
   "cell_type": "code",
   "execution_count": null,
   "metadata": {},
   "outputs": [],
   "source": [
    "grb.quicksum(...)"
   ]
  },
  {
   "cell_type": "markdown",
   "metadata": {},
   "source": [
    "This fixes customer $c_0$, and sums over the warehouses $w_0,\\ldots,w_4$. If this works for customer $c_0$, it should work for the rest of the customers if we add an outer loop."
   ]
  },
  {
   "cell_type": "code",
   "execution_count": null,
   "metadata": {},
   "outputs": [],
   "source": [
    "for customer in customers:\n",
    "    print (grb.quicksum(...))"
   ]
  },
  {
   "cell_type": "markdown",
   "metadata": {},
   "source": [
    "This should have generated a linear expression for each customer $c_0,\\ldots,c_3$. If so, these are the LinExpr objects we need to construct demand constraints. The takeaway is that the set we are summing over should participate in the inner loop, and the set we are writing the constraint over should participate in the outer loop.\n",
    "\n",
    "To generate expressions for the supply constraints, we'll need to fix a warehouse and sum over the customers, so we'll want customers on the inner loop and warehouses on the outer."
   ]
  },
  {
   "cell_type": "code",
   "execution_count": null,
   "metadata": {},
   "outputs": [],
   "source": [
    "for warehouse in warehouses:\n",
    "    print (grb.quicksum(...))"
   ]
  },
  {
   "cell_type": "markdown",
   "metadata": {},
   "source": [
    "Each LinExpr object we just generated should consider a single warehouse and sum over all customers."
   ]
  },
  {
   "cell_type": "markdown",
   "metadata": {},
   "source": [
    "<H3>Constraints</H3>\n",
    "\n",
    "Generating the correct LinExpr objects for each demand and supply is most of the challenge. We can turn each LinExpr into a constraint by using the overloaded $<=$, $>=$, and $==$ operators.\n",
    "\n",
    "For the demand constraints, we'll loop over the customers and sum over the warehouses.\n",
    "\n",
    "Note: We are using Python's list comprehension syntax here, which puts the outer for loop inside the []. It is still the case that the outer loop iterates over the customer, and the inner loop sums over the warehouses."
   ]
  },
  {
   "cell_type": "code",
   "execution_count": null,
   "metadata": {},
   "outputs": [],
   "source": [
    "def get_demand_constrs(model, to_ship, demands):\n",
    "    #Return a list of demand constraints for each cutomer\n",
    "    return [model.addConstr(...)\n",
    "           for customer, demand in enumerate(demands)]"
   ]
  },
  {
   "cell_type": "markdown",
   "metadata": {},
   "source": [
    "We can write a similar method to generate the capacity constraints."
   ]
  },
  {
   "cell_type": "code",
   "execution_count": null,
   "metadata": {},
   "outputs": [],
   "source": [
    "def get_capacity_constrs(model, to_ship, capacities):\n",
    "    #Return a list of capacity constraints for each warehouse\n",
    "    return [model.addConstr(...)\n",
    "            for warehouse, capacity in enumerate(capacities)]"
   ]
  },
  {
   "cell_type": "markdown",
   "metadata": {},
   "source": [
    "<H3>Solving the Model</H3>\n",
    "\n",
    "Now we have the building blocks needed to build and solve a transportation model. Let's put it all together."
   ]
  },
  {
   "cell_type": "code",
   "execution_count": null,
   "metadata": {},
   "outputs": [],
   "source": [
    "import gurobipy as grb\n",
    "GRB = grb.GRB\n",
    "def solve_transportation_model(capacities, demands):\n",
    "    model = grb.Model()\n",
    "    warehouses = range(len(capacities))\n",
    "    customers = range(len(demands))\n",
    "    to_ship = get_ship_vars(model, warehouses, customers)\n",
    "    model.update()\n",
    "    capacity_constrs = get_capacity_constrs(model, to_ship, capacities)\n",
    "    demand_constrs = get_demand_constrs(model, to_ship, demands)\n",
    "    \n",
    "    #Minimize the total cost to ship, using the shipping costs and the amount shipped on each arc\n",
    "    model.setObjective(grb.quicksum(...))\n",
    "    \n",
    "    model.optimize()\n",
    "    if model.Status == GRB.OPTIMAL:\n",
    "        for (warehouse, customer), var in sorted(to_ship.items()):\n",
    "            if var.X > 1e-4:\n",
    "                print (\"Ship\", var.X, \"units from warehouse\", warehouse, \"to customer\", customer)"
   ]
  },
  {
   "cell_type": "code",
   "execution_count": null,
   "metadata": {},
   "outputs": [],
   "source": [
    "solve_transportation_model(capacities, demands)"
   ]
  },
  {
   "cell_type": "markdown",
   "metadata": {},
   "source": [
    "<H3>Streamlining with addVars and tupledict</H3>"
   ]
  },
  {
   "cell_type": "markdown",
   "metadata": {},
   "source": [
    "Gurobi is continually updating the Python API to make it look as similar to pure modeling languages (such as AMPL) as possible. A newer feature is the Model.addVars method, which eliminates the need to write a loop to generate a set of decision variables."
   ]
  },
  {
   "cell_type": "code",
   "execution_count": null,
   "metadata": {},
   "outputs": [],
   "source": [
    "m = grb.Model()\n",
    "m.addVars?"
   ]
  },
  {
   "cell_type": "markdown",
   "metadata": {},
   "source": [
    "The first argument to addVars is an index set. This is the only required argument, and will typically be a list, dict, or compatible data structure. If a dict is passed in, addVars will use the key set of the dict to generate the decision variables. You can pass in multiple lists for the indexes, and addVars will use the Cartesian product of those lists as the index set. For example, the following is roughly equivalent to the loop used above to generate the to_ship variables."
   ]
  },
  {
   "cell_type": "code",
   "execution_count": null,
   "metadata": {},
   "outputs": [],
   "source": [
    "to_ship = m.addVars(warehouses, customers, name='to_ship')\n",
    "m.update()\n",
    "to_ship"
   ]
  },
  {
   "cell_type": "markdown",
   "metadata": {},
   "source": [
    "The return value of addVars looks like a standard Python dictionary, but upon further inspection:"
   ]
  },
  {
   "cell_type": "code",
   "execution_count": null,
   "metadata": {},
   "outputs": [],
   "source": [
    "type(to_ship)"
   ]
  },
  {
   "cell_type": "markdown",
   "metadata": {},
   "source": [
    "The tupledict is special data structure provided by Gurobi. It has the same functionality as a standard Python dictionary but supports wild-carded key lookups like the following:"
   ]
  },
  {
   "cell_type": "code",
   "execution_count": null,
   "metadata": {},
   "outputs": [],
   "source": [
    "to_ship.sum(2, '*') # sum up all shipments out of warehouse 2"
   ]
  },
  {
   "cell_type": "code",
   "execution_count": null,
   "metadata": {},
   "outputs": [],
   "source": [
    "to_ship.sum('*', 1) # sum up all shipments in to demand center 1"
   ]
  },
  {
   "cell_type": "code",
   "execution_count": null,
   "metadata": {},
   "outputs": [],
   "source": [
    "demand_constrs = m.addConstrs((to_ship.sum('*', customer) == demand for customer, demand in enumerate(demands)),\n",
    "                              name='demand')\n",
    "m.update()"
   ]
  },
  {
   "cell_type": "code",
   "execution_count": null,
   "metadata": {},
   "outputs": [],
   "source": [
    "demand_constrs"
   ]
  },
  {
   "cell_type": "code",
   "execution_count": null,
   "metadata": {},
   "outputs": [],
   "source": [
    "supply_constrs = m.addConstrs(...)\n",
    "m.update()"
   ]
  },
  {
   "cell_type": "code",
   "execution_count": null,
   "metadata": {},
   "outputs": [],
   "source": [
    "m.setObjective(grb.quicksum(ship_costs[warehouse][customer]*to_ship[warehouse, customer]\n",
    "                            for warehouse in warehouses\n",
    "                            for customer in customers))"
   ]
  },
  {
   "cell_type": "code",
   "execution_count": null,
   "metadata": {},
   "outputs": [],
   "source": [
    "m.optimize()"
   ]
  },
  {
   "cell_type": "code",
   "execution_count": null,
   "metadata": {},
   "outputs": [],
   "source": [
    "m.write('add_vars.lp')"
   ]
  },
  {
   "cell_type": "code",
   "execution_count": null,
   "metadata": {},
   "outputs": [],
   "source": [
    "!pfile add_vars.lp"
   ]
  }
 ],
 "metadata": {
  "kernelspec": {
   "display_name": "Python 3",
   "language": "python",
   "name": "python3"
  },
  "language_info": {
   "codemirror_mode": {
    "name": "ipython",
    "version": 3
   },
   "file_extension": ".py",
   "mimetype": "text/x-python",
   "name": "python",
   "nbconvert_exporter": "python",
   "pygments_lexer": "ipython3",
   "version": "3.7.1"
  }
 },
 "nbformat": 4,
 "nbformat_minor": 1
}

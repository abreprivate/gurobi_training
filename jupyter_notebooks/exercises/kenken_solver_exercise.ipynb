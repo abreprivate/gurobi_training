{
 "cells": [
  {
   "cell_type": "code",
   "execution_count": 1,
   "metadata": {},
   "outputs": [],
   "source": [
    "from collections import namedtuple\n",
    "from itertools import product\n",
    "from functools import reduce\n",
    "from operator import mul\n",
    "import gurobipy as grb\n",
    "GRB = grb.GRB"
   ]
  },
  {
   "cell_type": "code",
   "execution_count": 2,
   "metadata": {},
   "outputs": [],
   "source": [
    "CellDef = namedtuple('CellDef', 'cell_list formula')"
   ]
  },
  {
   "cell_type": "markdown",
   "metadata": {},
   "source": [
    "## Add variables for each square"
   ]
  },
  {
   "cell_type": "code",
   "execution_count": 3,
   "metadata": {},
   "outputs": [],
   "source": [
    "def add_variables(m, size):\n",
    "    v = {}\n",
    "    for i in range(1, size+1):\n",
    "        for j in range(1, size+1):\n",
    "            #Every cell needs an integer variable that contains its value\n",
    "            v[(i,j)] = m.addVar(...)\n",
    "            for k in range(1, size+1):\n",
    "                #This line creates binary indicator variables for each cell, \n",
    "                #that are 1 if cell [i,j] contains value k and 0 otherwise.\n",
    "                v[(i,j,k)] = m.addVar(lb=0, ub=1, vtype=GRB.BINARY, name='vi'+str(i)+str(j)+str(k))\n",
    "    return v"
   ]
  },
  {
   "cell_type": "markdown",
   "metadata": {},
   "source": [
    "## Add basic constraints"
   ]
  },
  {
   "cell_type": "code",
   "execution_count": 4,
   "metadata": {},
   "outputs": [],
   "source": [
    "def add_basic_constraints(m, v, size):\n",
    "    # Connect indicator vars to cell variables\n",
    "    for i in range(1, size+1):\n",
    "        for j in range(1, size+1):\n",
    "            sqr_expr = 0\n",
    "            sum_ind = 0\n",
    "            for k in range(1, size+1):\n",
    "                sqr_expr += k * v[(i,j,k)]\n",
    "                sum_ind += v[(i,j,k)]\n",
    "            #Write a constraint that links sqr_expr to the cell value variable\n",
    "            m.addConstr(...)\n",
    "            #Write a constraint ensuring sum_ind has the correct value\n",
    "            m.addConstr(...)\n",
    "\n",
    "    for i in range(1, size+1):\n",
    "        for k in range(1, size+1):\n",
    "            row_expr = 0\n",
    "            for j in range(1, size+1):\n",
    "                #Ensure that each row has only one of each digit\n",
    "                row_expr += (...)\n",
    "            m.addConstr(...)\n",
    "\n",
    "    for j in range(1, size+1):\n",
    "        for k in range(1, size+1):\n",
    "            col_expr = 0\n",
    "            for i in range(1, size+1):\n",
    "                #Ensure that each column has only one of each digit\n",
    "                col_expr += (...)\n",
    "            m.addConstr(...)"
   ]
  },
  {
   "cell_type": "markdown",
   "metadata": {},
   "source": [
    "## Kenken cell constraints"
   ]
  },
  {
   "cell_type": "code",
   "execution_count": 5,
   "metadata": {},
   "outputs": [],
   "source": [
    "def extract_int(formula):\n",
    "    if formula[-1].isdigit():\n",
    "        return int(formula)\n",
    "    else:\n",
    "        return int(formula[:-1])"
   ]
  },
  {
   "cell_type": "code",
   "execution_count": 6,
   "metadata": {},
   "outputs": [],
   "source": [
    "def plus_constrs(m, v, cell_list, num, namestr):\n",
    "    expr = 0\n",
    "    for (i, j) in cell_list:\n",
    "        expr += v[(i,j)]\n",
    "    m.addConstr(expr, GRB.EQUAL, num, name='plus' + str(num) + namestr)"
   ]
  },
  {
   "cell_type": "code",
   "execution_count": 7,
   "metadata": {},
   "outputs": [],
   "source": [
    "def find_next(size, n, num):\n",
    "    \"\"\"\n",
    "    Yield all lists of n integers between 1 and size that multiply to num\n",
    "    \"\"\"\n",
    "    for p in product(range(1, size+1), repeat=n):\n",
    "        if reduce(mul, p, 1) == num:\n",
    "            yield(p)\n",
    "    return\n",
    "        \n",
    "def times_constrs(m, v, cell_list, num, namestr):\n",
    "    varlist = []\n",
    "    for mult_list in find_next(size, len(cell_list), num):\n",
    "        mult_name = str(mult_list).replace(' ','')\n",
    "        varlist.append(m.addVar(lb=0, ub=1, vtype=GRB.BINARY, name='mult_and'+namestr + mult_name))\n",
    "        vlist = []\n",
    "        for ((i,j), val) in zip(cell_list, mult_list):\n",
    "            vlist.append(v[(i,j,val)])\n",
    "        m.addGenConstrAnd(varlist[-1], vlist)\n",
    "    vor = m.addVar(lb=0, ub=1, vtype=GRB.BINARY, name='mul'+namestr)\n",
    "    m.addGenConstrOr(vor, varlist)"
   ]
  },
  {
   "cell_type": "code",
   "execution_count": 8,
   "metadata": {},
   "outputs": [],
   "source": [
    "def minus_constrs(m, v, cell_list, num, namestr):\n",
    "    #Minus and divide cell groups can't have any amount of cells other than 2\n",
    "    if len(cell_list) != 2:\n",
    "        print('Illegal minus cell: {}'.format(cell_list))\n",
    "        return\n",
    "    v1 = v[(cell_list[0][0], cell_list[0][1])]\n",
    "    v2 = v[(cell_list[1][0], cell_list[1][1])]\n",
    "    mv = m.addVar(lb=-size, ub=size, vtype=GRB.INTEGER, name='mv'+namestr)\n",
    "    av = m.addVar(lb=0, ub=size, vtype=GRB.INTEGER, name='rv'+namestr)\n",
    "    m.addGenConstrAbs(av, mv, name='minus'+namestr)\n",
    "    m.addConstr(mv, GRB.EQUAL, v1 - v2, name='minus' + str(num) + namestr)\n",
    "    m.addConstr(av, GRB.EQUAL, num, name='minus_abs' + str(num) + namestr)"
   ]
  },
  {
   "cell_type": "code",
   "execution_count": 9,
   "metadata": {},
   "outputs": [],
   "source": [
    "def divide_constrs(m, v, cell_list, num, namestr):\n",
    "    if len(cell_list) != 2:\n",
    "        print('Illegal minus cell: {}'.format(cell_list))\n",
    "        return\n",
    "    (i1, j1) = (cell_list[0][0], cell_list[0][1])\n",
    "    (i2, j2) = (cell_list[1][0], cell_list[1][1])\n",
    "    varlist = []\n",
    "    for d1 in range(1, size // num + 1):\n",
    "        d2 = d1 * num\n",
    "        varlist.append(m.addVar(lb=0, ub=1, vtype=GRB.BINARY, name='div'+namestr + str(d1) + str(d2)))\n",
    "        m.addGenConstrAnd(varlist[-1], [v[(i1, j1, d1)], v[(i2, j2, d2)]])\n",
    "        varlist.append(m.addVar(lb=0, ub=1, vtype=GRB.BINARY, name='div'+namestr + str(d2) + str(d1)))\n",
    "        m.addGenConstrAnd(varlist[-1], [v[(i1, j1, d2)], v[(i2, j2, d1)]])\n",
    "    vor = m.addVar(lb=0, ub=1, vtype=GRB.BINARY, name='div'+namestr)\n",
    "    m.addGenConstrOr(vor, varlist)\n",
    "    return"
   ]
  },
  {
   "cell_type": "code",
   "execution_count": 10,
   "metadata": {},
   "outputs": [],
   "source": [
    "def singleton(m, v, cell_list, num, namestr):\n",
    "    i = cell_list[0][0]\n",
    "    j = cell_list[0][1]\n",
    "    m.addConstr(v[(i,j)], GRB.EQUAL, num, name='single' + str(num) + namestr)"
   ]
  },
  {
   "cell_type": "code",
   "execution_count": 11,
   "metadata": {},
   "outputs": [],
   "source": [
    "op_method = {\n",
    "    '+': plus_constrs,\n",
    "    '*': times_constrs,\n",
    "    'x': times_constrs,\n",
    "    '-': minus_constrs,\n",
    "    '/': divide_constrs,\n",
    "    's': singleton\n",
    "}"
   ]
  },
  {
   "cell_type": "code",
   "execution_count": 12,
   "metadata": {},
   "outputs": [],
   "source": [
    "def add_cell_constraints(m, v, cells):\n",
    "    for cell in cells:\n",
    "        ncell = CellDef(*cell)\n",
    "        formula = ncell.formula\n",
    "        num = extract_int(formula)\n",
    "        op = formula[-1] if len(formula) > 1 else 's'\n",
    "        cell_list = ncell.cell_list\n",
    "        namestr = str(cell_list).replace(' ','')\n",
    "        print('Forming {} constraints for squares {}'.format(formula, namestr))\n",
    "        op_method[op](m, v, cell_list, num, namestr)\n",
    "    print()"
   ]
  },
  {
   "cell_type": "markdown",
   "metadata": {},
   "source": [
    "## Show square"
   ]
  },
  {
   "cell_type": "code",
   "execution_count": 13,
   "metadata": {},
   "outputs": [],
   "source": [
    "def show_square(size, v):\n",
    "    print('\\nSolution:\\n')\n",
    "    for i in range(1, size+1):\n",
    "        for j in range(1, size+1):\n",
    "            print(round(v[(i,j)].x), ' ', end='')\n",
    "        print()"
   ]
  },
  {
   "cell_type": "code",
   "execution_count": 14,
   "metadata": {},
   "outputs": [],
   "source": [
    "def solve_kenken(size, cells):\n",
    "    m = grb.Model()\n",
    "    v = add_variables(m, size)\n",
    "    add_basic_constraints(m, v, size)\n",
    "    add_cell_constraints(m, v, cells)\n",
    "    m.write('kenken.lp')\n",
    "    m.optimize()\n",
    "    show_square(size, v)"
   ]
  },
  {
   "cell_type": "code",
   "execution_count": null,
   "metadata": {},
   "outputs": [],
   "source": []
  },
  {
   "cell_type": "code",
   "execution_count": 15,
   "metadata": {},
   "outputs": [],
   "source": [
    "size = 5\n",
    "cells = [\n",
    "    ([(1,1), (1,2)], '2/'),\n",
    "    ([(1,3), (1,4), (1,4)], '60x'),\n",
    "    ([(2,1), (3,1)], '5+'),\n",
    "    ([(2,2), (3,2)], '2-'),\n",
    "    ([(2,5)], '2'),\n",
    "    ([(3,3), (4,3), (4,4)], '7+'),\n",
    "    ([(3,4), (3,5)], '4-'),\n",
    "    ([(4,1), (4,2)], '1-'),\n",
    "    ([(4,5), (5,5)], '2-'),\n",
    "    ([(5,1)], '4'),\n",
    "    ([(5,2), (5,3), (5,4)], '10+')\n",
    "]"
   ]
  },
  {
   "cell_type": "code",
   "execution_count": 16,
   "metadata": {},
   "outputs": [
    {
     "name": "stdout",
     "output_type": "stream",
     "text": [
      "Using license file C:\\Users\\liaml\\gurobi.lic\n",
      "Academic license - for non-commercial use only\n",
      "{(1, 1): <gurobi.Var *Awaiting Model Update*>, (1, 1, 1): <gurobi.Var *Awaiting Model Update*>, (1, 1, 2): <gurobi.Var *Awaiting Model Update*>, (1, 1, 3): <gurobi.Var *Awaiting Model Update*>, (1, 1, 4): <gurobi.Var *Awaiting Model Update*>, (1, 1, 5): <gurobi.Var *Awaiting Model Update*>, (1, 2): <gurobi.Var *Awaiting Model Update*>, (1, 2, 1): <gurobi.Var *Awaiting Model Update*>, (1, 2, 2): <gurobi.Var *Awaiting Model Update*>, (1, 2, 3): <gurobi.Var *Awaiting Model Update*>, (1, 2, 4): <gurobi.Var *Awaiting Model Update*>, (1, 2, 5): <gurobi.Var *Awaiting Model Update*>, (1, 3): <gurobi.Var *Awaiting Model Update*>, (1, 3, 1): <gurobi.Var *Awaiting Model Update*>, (1, 3, 2): <gurobi.Var *Awaiting Model Update*>, (1, 3, 3): <gurobi.Var *Awaiting Model Update*>, (1, 3, 4): <gurobi.Var *Awaiting Model Update*>, (1, 3, 5): <gurobi.Var *Awaiting Model Update*>, (1, 4): <gurobi.Var *Awaiting Model Update*>, (1, 4, 1): <gurobi.Var *Awaiting Model Update*>, (1, 4, 2): <gurobi.Var *Awaiting Model Update*>, (1, 4, 3): <gurobi.Var *Awaiting Model Update*>, (1, 4, 4): <gurobi.Var *Awaiting Model Update*>, (1, 4, 5): <gurobi.Var *Awaiting Model Update*>, (1, 5): <gurobi.Var *Awaiting Model Update*>, (1, 5, 1): <gurobi.Var *Awaiting Model Update*>, (1, 5, 2): <gurobi.Var *Awaiting Model Update*>, (1, 5, 3): <gurobi.Var *Awaiting Model Update*>, (1, 5, 4): <gurobi.Var *Awaiting Model Update*>, (1, 5, 5): <gurobi.Var *Awaiting Model Update*>, (2, 1): <gurobi.Var *Awaiting Model Update*>, (2, 1, 1): <gurobi.Var *Awaiting Model Update*>, (2, 1, 2): <gurobi.Var *Awaiting Model Update*>, (2, 1, 3): <gurobi.Var *Awaiting Model Update*>, (2, 1, 4): <gurobi.Var *Awaiting Model Update*>, (2, 1, 5): <gurobi.Var *Awaiting Model Update*>, (2, 2): <gurobi.Var *Awaiting Model Update*>, (2, 2, 1): <gurobi.Var *Awaiting Model Update*>, (2, 2, 2): <gurobi.Var *Awaiting Model Update*>, (2, 2, 3): <gurobi.Var *Awaiting Model Update*>, (2, 2, 4): <gurobi.Var *Awaiting Model Update*>, (2, 2, 5): <gurobi.Var *Awaiting Model Update*>, (2, 3): <gurobi.Var *Awaiting Model Update*>, (2, 3, 1): <gurobi.Var *Awaiting Model Update*>, (2, 3, 2): <gurobi.Var *Awaiting Model Update*>, (2, 3, 3): <gurobi.Var *Awaiting Model Update*>, (2, 3, 4): <gurobi.Var *Awaiting Model Update*>, (2, 3, 5): <gurobi.Var *Awaiting Model Update*>, (2, 4): <gurobi.Var *Awaiting Model Update*>, (2, 4, 1): <gurobi.Var *Awaiting Model Update*>, (2, 4, 2): <gurobi.Var *Awaiting Model Update*>, (2, 4, 3): <gurobi.Var *Awaiting Model Update*>, (2, 4, 4): <gurobi.Var *Awaiting Model Update*>, (2, 4, 5): <gurobi.Var *Awaiting Model Update*>, (2, 5): <gurobi.Var *Awaiting Model Update*>, (2, 5, 1): <gurobi.Var *Awaiting Model Update*>, (2, 5, 2): <gurobi.Var *Awaiting Model Update*>, (2, 5, 3): <gurobi.Var *Awaiting Model Update*>, (2, 5, 4): <gurobi.Var *Awaiting Model Update*>, (2, 5, 5): <gurobi.Var *Awaiting Model Update*>, (3, 1): <gurobi.Var *Awaiting Model Update*>, (3, 1, 1): <gurobi.Var *Awaiting Model Update*>, (3, 1, 2): <gurobi.Var *Awaiting Model Update*>, (3, 1, 3): <gurobi.Var *Awaiting Model Update*>, (3, 1, 4): <gurobi.Var *Awaiting Model Update*>, (3, 1, 5): <gurobi.Var *Awaiting Model Update*>, (3, 2): <gurobi.Var *Awaiting Model Update*>, (3, 2, 1): <gurobi.Var *Awaiting Model Update*>, (3, 2, 2): <gurobi.Var *Awaiting Model Update*>, (3, 2, 3): <gurobi.Var *Awaiting Model Update*>, (3, 2, 4): <gurobi.Var *Awaiting Model Update*>, (3, 2, 5): <gurobi.Var *Awaiting Model Update*>, (3, 3): <gurobi.Var *Awaiting Model Update*>, (3, 3, 1): <gurobi.Var *Awaiting Model Update*>, (3, 3, 2): <gurobi.Var *Awaiting Model Update*>, (3, 3, 3): <gurobi.Var *Awaiting Model Update*>, (3, 3, 4): <gurobi.Var *Awaiting Model Update*>, (3, 3, 5): <gurobi.Var *Awaiting Model Update*>, (3, 4): <gurobi.Var *Awaiting Model Update*>, (3, 4, 1): <gurobi.Var *Awaiting Model Update*>, (3, 4, 2): <gurobi.Var *Awaiting Model Update*>, (3, 4, 3): <gurobi.Var *Awaiting Model Update*>, (3, 4, 4): <gurobi.Var *Awaiting Model Update*>, (3, 4, 5): <gurobi.Var *Awaiting Model Update*>, (3, 5): <gurobi.Var *Awaiting Model Update*>, (3, 5, 1): <gurobi.Var *Awaiting Model Update*>, (3, 5, 2): <gurobi.Var *Awaiting Model Update*>, (3, 5, 3): <gurobi.Var *Awaiting Model Update*>, (3, 5, 4): <gurobi.Var *Awaiting Model Update*>, (3, 5, 5): <gurobi.Var *Awaiting Model Update*>, (4, 1): <gurobi.Var *Awaiting Model Update*>, (4, 1, 1): <gurobi.Var *Awaiting Model Update*>, (4, 1, 2): <gurobi.Var *Awaiting Model Update*>, (4, 1, 3): <gurobi.Var *Awaiting Model Update*>, (4, 1, 4): <gurobi.Var *Awaiting Model Update*>, (4, 1, 5): <gurobi.Var *Awaiting Model Update*>, (4, 2): <gurobi.Var *Awaiting Model Update*>, (4, 2, 1): <gurobi.Var *Awaiting Model Update*>, (4, 2, 2): <gurobi.Var *Awaiting Model Update*>, (4, 2, 3): <gurobi.Var *Awaiting Model Update*>, (4, 2, 4): <gurobi.Var *Awaiting Model Update*>, (4, 2, 5): <gurobi.Var *Awaiting Model Update*>, (4, 3): <gurobi.Var *Awaiting Model Update*>, (4, 3, 1): <gurobi.Var *Awaiting Model Update*>, (4, 3, 2): <gurobi.Var *Awaiting Model Update*>, (4, 3, 3): <gurobi.Var *Awaiting Model Update*>, (4, 3, 4): <gurobi.Var *Awaiting Model Update*>, (4, 3, 5): <gurobi.Var *Awaiting Model Update*>, (4, 4): <gurobi.Var *Awaiting Model Update*>, (4, 4, 1): <gurobi.Var *Awaiting Model Update*>, (4, 4, 2): <gurobi.Var *Awaiting Model Update*>, (4, 4, 3): <gurobi.Var *Awaiting Model Update*>, (4, 4, 4): <gurobi.Var *Awaiting Model Update*>, (4, 4, 5): <gurobi.Var *Awaiting Model Update*>, (4, 5): <gurobi.Var *Awaiting Model Update*>, (4, 5, 1): <gurobi.Var *Awaiting Model Update*>, (4, 5, 2): <gurobi.Var *Awaiting Model Update*>, (4, 5, 3): <gurobi.Var *Awaiting Model Update*>, (4, 5, 4): <gurobi.Var *Awaiting Model Update*>, (4, 5, 5): <gurobi.Var *Awaiting Model Update*>, (5, 1): <gurobi.Var *Awaiting Model Update*>, (5, 1, 1): <gurobi.Var *Awaiting Model Update*>, (5, 1, 2): <gurobi.Var *Awaiting Model Update*>, (5, 1, 3): <gurobi.Var *Awaiting Model Update*>, (5, 1, 4): <gurobi.Var *Awaiting Model Update*>, (5, 1, 5): <gurobi.Var *Awaiting Model Update*>, (5, 2): <gurobi.Var *Awaiting Model Update*>, (5, 2, 1): <gurobi.Var *Awaiting Model Update*>, (5, 2, 2): <gurobi.Var *Awaiting Model Update*>, (5, 2, 3): <gurobi.Var *Awaiting Model Update*>, (5, 2, 4): <gurobi.Var *Awaiting Model Update*>, (5, 2, 5): <gurobi.Var *Awaiting Model Update*>, (5, 3): <gurobi.Var *Awaiting Model Update*>, (5, 3, 1): <gurobi.Var *Awaiting Model Update*>, (5, 3, 2): <gurobi.Var *Awaiting Model Update*>, (5, 3, 3): <gurobi.Var *Awaiting Model Update*>, (5, 3, 4): <gurobi.Var *Awaiting Model Update*>, (5, 3, 5): <gurobi.Var *Awaiting Model Update*>, (5, 4): <gurobi.Var *Awaiting Model Update*>, (5, 4, 1): <gurobi.Var *Awaiting Model Update*>, (5, 4, 2): <gurobi.Var *Awaiting Model Update*>, (5, 4, 3): <gurobi.Var *Awaiting Model Update*>, (5, 4, 4): <gurobi.Var *Awaiting Model Update*>, (5, 4, 5): <gurobi.Var *Awaiting Model Update*>, (5, 5): <gurobi.Var *Awaiting Model Update*>, (5, 5, 1): <gurobi.Var *Awaiting Model Update*>, (5, 5, 2): <gurobi.Var *Awaiting Model Update*>, (5, 5, 3): <gurobi.Var *Awaiting Model Update*>, (5, 5, 4): <gurobi.Var *Awaiting Model Update*>, (5, 5, 5): <gurobi.Var *Awaiting Model Update*>}\n",
      "Forming 2/ constraints for squares [(1,1),(1,2)]\n",
      "Forming 60x constraints for squares [(1,3),(1,4),(1,4)]\n",
      "Forming 5+ constraints for squares [(2,1),(3,1)]\n",
      "Forming 2- constraints for squares [(2,2),(3,2)]\n",
      "Forming 2 constraints for squares [(2,5)]\n",
      "Forming 7+ constraints for squares [(3,3),(4,3),(4,4)]\n",
      "Forming 4- constraints for squares [(3,4),(3,5)]\n",
      "Forming 1- constraints for squares [(4,1),(4,2)]\n",
      "Forming 2- constraints for squares [(4,5),(5,5)]\n",
      "Forming 4 constraints for squares [(5,1)]\n",
      "Forming 10+ constraints for squares [(5,2),(5,3),(5,4)]\n",
      "\n",
      "Gurobi Optimizer version 9.0.2 build v9.0.2rc0 (win64)\n",
      "Optimize a model with 113 rows, 170 columns and 551 nonzeros\n",
      "Model fingerprint: 0x26906196\n",
      "Model has 16 general constraints\n",
      "Variable types: 0 continuous, 170 integer (137 binary)\n",
      "Coefficient statistics:\n",
      "  Matrix range     [1e+00, 5e+00]\n"
     ]
    },
    {
     "name": "stdout",
     "output_type": "stream",
     "text": [
      "  Objective range  [0e+00, 0e+00]\n",
      "  Bounds range     [1e+00, 5e+00]\n",
      "  RHS range        [1e+00, 1e+01]\n",
      "Presolve removed 113 rows and 170 columns\n",
      "Presolve time: 0.02s\n",
      "Presolve: All rows and columns removed\n",
      "\n",
      "Explored 0 nodes (0 simplex iterations) in 0.03 seconds\n",
      "Thread count was 1 (of 12 available processors)\n",
      "\n",
      "Solution count 1: 0 \n",
      "\n",
      "Optimal solution found (tolerance 1.00e-04)\n",
      "Best objective 0.000000000000e+00, best bound 0.000000000000e+00, gap 0.0000%\n",
      "\n",
      "Solution:\n",
      "\n",
      "1  5  2  3  4  \n",
      "3  1  5  4  2  \n",
      "2  3  4  1  5  \n",
      "5  4  1  2  3  \n",
      "4  2  3  5  1  \n"
     ]
    }
   ],
   "source": [
    "solve_kenken(5, cells)"
   ]
  },
  {
   "cell_type": "code",
   "execution_count": null,
   "metadata": {},
   "outputs": [],
   "source": []
  },
  {
   "cell_type": "code",
   "execution_count": 17,
   "metadata": {},
   "outputs": [],
   "source": [
    "size = 7\n",
    "cells = [\n",
    "    ([(1,1), (1,2), (1,3)], '140x'),\n",
    "    ([(1,4), (2,4)], '2/'),\n",
    "    ([(1,5), (2,5), (2,6)], '8+'),\n",
    "    ([(1,6), (1,7)], '5-'),\n",
    "    ([(2,1), (2,2)], '2-'),\n",
    "    ([(2,3)], '7'),\n",
    "    ([(2,7), (3,7)], '3-'),\n",
    "    ([(3,1), (4,1)], '1-'),\n",
    "    ([(5,1), (6,1)], '2-'),\n",
    "    ([(3,2), (3,3)], '7+'),\n",
    "    ([(4,2), (4,3)], '6x'),\n",
    "    ([(5,2), (5,3)], '2/'),\n",
    "    ([(6,2), (6,3)], '1-'),\n",
    "    ([(7,1), (7,2)], '5-'),\n",
    "    ([(3,4), (4,4)], '1-'),\n",
    "    ([(5,4)], '3'),\n",
    "    ([(3,5), (3,6), (4,5), (5,5)], '840x'),\n",
    "    ([(4,6), (5,6)], '11+'),\n",
    "    ([(4,7), (5,7)], '21x'),\n",
    "    ([(6,4), (7,3), (7,4)], '14+'),\n",
    "    ([(6,5), (7,5), (7,6)], '12+'),\n",
    "    ([(6,6)], '2'),\n",
    "    ([(6,7), (7,7)], '5+')\n",
    "]"
   ]
  },
  {
   "cell_type": "code",
   "execution_count": 18,
   "metadata": {},
   "outputs": [
    {
     "name": "stdout",
     "output_type": "stream",
     "text": [
      "{(1, 1): <gurobi.Var *Awaiting Model Update*>, (1, 1, 1): <gurobi.Var *Awaiting Model Update*>, (1, 1, 2): <gurobi.Var *Awaiting Model Update*>, (1, 1, 3): <gurobi.Var *Awaiting Model Update*>, (1, 1, 4): <gurobi.Var *Awaiting Model Update*>, (1, 1, 5): <gurobi.Var *Awaiting Model Update*>, (1, 1, 6): <gurobi.Var *Awaiting Model Update*>, (1, 1, 7): <gurobi.Var *Awaiting Model Update*>, (1, 2): <gurobi.Var *Awaiting Model Update*>, (1, 2, 1): <gurobi.Var *Awaiting Model Update*>, (1, 2, 2): <gurobi.Var *Awaiting Model Update*>, (1, 2, 3): <gurobi.Var *Awaiting Model Update*>, (1, 2, 4): <gurobi.Var *Awaiting Model Update*>, (1, 2, 5): <gurobi.Var *Awaiting Model Update*>, (1, 2, 6): <gurobi.Var *Awaiting Model Update*>, (1, 2, 7): <gurobi.Var *Awaiting Model Update*>, (1, 3): <gurobi.Var *Awaiting Model Update*>, (1, 3, 1): <gurobi.Var *Awaiting Model Update*>, (1, 3, 2): <gurobi.Var *Awaiting Model Update*>, (1, 3, 3): <gurobi.Var *Awaiting Model Update*>, (1, 3, 4): <gurobi.Var *Awaiting Model Update*>, (1, 3, 5): <gurobi.Var *Awaiting Model Update*>, (1, 3, 6): <gurobi.Var *Awaiting Model Update*>, (1, 3, 7): <gurobi.Var *Awaiting Model Update*>, (1, 4): <gurobi.Var *Awaiting Model Update*>, (1, 4, 1): <gurobi.Var *Awaiting Model Update*>, (1, 4, 2): <gurobi.Var *Awaiting Model Update*>, (1, 4, 3): <gurobi.Var *Awaiting Model Update*>, (1, 4, 4): <gurobi.Var *Awaiting Model Update*>, (1, 4, 5): <gurobi.Var *Awaiting Model Update*>, (1, 4, 6): <gurobi.Var *Awaiting Model Update*>, (1, 4, 7): <gurobi.Var *Awaiting Model Update*>, (1, 5): <gurobi.Var *Awaiting Model Update*>, (1, 5, 1): <gurobi.Var *Awaiting Model Update*>, (1, 5, 2): <gurobi.Var *Awaiting Model Update*>, (1, 5, 3): <gurobi.Var *Awaiting Model Update*>, (1, 5, 4): <gurobi.Var *Awaiting Model Update*>, (1, 5, 5): <gurobi.Var *Awaiting Model Update*>, (1, 5, 6): <gurobi.Var *Awaiting Model Update*>, (1, 5, 7): <gurobi.Var *Awaiting Model Update*>, (1, 6): <gurobi.Var *Awaiting Model Update*>, (1, 6, 1): <gurobi.Var *Awaiting Model Update*>, (1, 6, 2): <gurobi.Var *Awaiting Model Update*>, (1, 6, 3): <gurobi.Var *Awaiting Model Update*>, (1, 6, 4): <gurobi.Var *Awaiting Model Update*>, (1, 6, 5): <gurobi.Var *Awaiting Model Update*>, (1, 6, 6): <gurobi.Var *Awaiting Model Update*>, (1, 6, 7): <gurobi.Var *Awaiting Model Update*>, (1, 7): <gurobi.Var *Awaiting Model Update*>, (1, 7, 1): <gurobi.Var *Awaiting Model Update*>, (1, 7, 2): <gurobi.Var *Awaiting Model Update*>, (1, 7, 3): <gurobi.Var *Awaiting Model Update*>, (1, 7, 4): <gurobi.Var *Awaiting Model Update*>, (1, 7, 5): <gurobi.Var *Awaiting Model Update*>, (1, 7, 6): <gurobi.Var *Awaiting Model Update*>, (1, 7, 7): <gurobi.Var *Awaiting Model Update*>, (2, 1): <gurobi.Var *Awaiting Model Update*>, (2, 1, 1): <gurobi.Var *Awaiting Model Update*>, (2, 1, 2): <gurobi.Var *Awaiting Model Update*>, (2, 1, 3): <gurobi.Var *Awaiting Model Update*>, (2, 1, 4): <gurobi.Var *Awaiting Model Update*>, (2, 1, 5): <gurobi.Var *Awaiting Model Update*>, (2, 1, 6): <gurobi.Var *Awaiting Model Update*>, (2, 1, 7): <gurobi.Var *Awaiting Model Update*>, (2, 2): <gurobi.Var *Awaiting Model Update*>, (2, 2, 1): <gurobi.Var *Awaiting Model Update*>, (2, 2, 2): <gurobi.Var *Awaiting Model Update*>, (2, 2, 3): <gurobi.Var *Awaiting Model Update*>, (2, 2, 4): <gurobi.Var *Awaiting Model Update*>, (2, 2, 5): <gurobi.Var *Awaiting Model Update*>, (2, 2, 6): <gurobi.Var *Awaiting Model Update*>, (2, 2, 7): <gurobi.Var *Awaiting Model Update*>, (2, 3): <gurobi.Var *Awaiting Model Update*>, (2, 3, 1): <gurobi.Var *Awaiting Model Update*>, (2, 3, 2): <gurobi.Var *Awaiting Model Update*>, (2, 3, 3): <gurobi.Var *Awaiting Model Update*>, (2, 3, 4): <gurobi.Var *Awaiting Model Update*>, (2, 3, 5): <gurobi.Var *Awaiting Model Update*>, (2, 3, 6): <gurobi.Var *Awaiting Model Update*>, (2, 3, 7): <gurobi.Var *Awaiting Model Update*>, (2, 4): <gurobi.Var *Awaiting Model Update*>, (2, 4, 1): <gurobi.Var *Awaiting Model Update*>, (2, 4, 2): <gurobi.Var *Awaiting Model Update*>, (2, 4, 3): <gurobi.Var *Awaiting Model Update*>, (2, 4, 4): <gurobi.Var *Awaiting Model Update*>, (2, 4, 5): <gurobi.Var *Awaiting Model Update*>, (2, 4, 6): <gurobi.Var *Awaiting Model Update*>, (2, 4, 7): <gurobi.Var *Awaiting Model Update*>, (2, 5): <gurobi.Var *Awaiting Model Update*>, (2, 5, 1): <gurobi.Var *Awaiting Model Update*>, (2, 5, 2): <gurobi.Var *Awaiting Model Update*>, (2, 5, 3): <gurobi.Var *Awaiting Model Update*>, (2, 5, 4): <gurobi.Var *Awaiting Model Update*>, (2, 5, 5): <gurobi.Var *Awaiting Model Update*>, (2, 5, 6): <gurobi.Var *Awaiting Model Update*>, (2, 5, 7): <gurobi.Var *Awaiting Model Update*>, (2, 6): <gurobi.Var *Awaiting Model Update*>, (2, 6, 1): <gurobi.Var *Awaiting Model Update*>, (2, 6, 2): <gurobi.Var *Awaiting Model Update*>, (2, 6, 3): <gurobi.Var *Awaiting Model Update*>, (2, 6, 4): <gurobi.Var *Awaiting Model Update*>, (2, 6, 5): <gurobi.Var *Awaiting Model Update*>, (2, 6, 6): <gurobi.Var *Awaiting Model Update*>, (2, 6, 7): <gurobi.Var *Awaiting Model Update*>, (2, 7): <gurobi.Var *Awaiting Model Update*>, (2, 7, 1): <gurobi.Var *Awaiting Model Update*>, (2, 7, 2): <gurobi.Var *Awaiting Model Update*>, (2, 7, 3): <gurobi.Var *Awaiting Model Update*>, (2, 7, 4): <gurobi.Var *Awaiting Model Update*>, (2, 7, 5): <gurobi.Var *Awaiting Model Update*>, (2, 7, 6): <gurobi.Var *Awaiting Model Update*>, (2, 7, 7): <gurobi.Var *Awaiting Model Update*>, (3, 1): <gurobi.Var *Awaiting Model Update*>, (3, 1, 1): <gurobi.Var *Awaiting Model Update*>, (3, 1, 2): <gurobi.Var *Awaiting Model Update*>, (3, 1, 3): <gurobi.Var *Awaiting Model Update*>, (3, 1, 4): <gurobi.Var *Awaiting Model Update*>, (3, 1, 5): <gurobi.Var *Awaiting Model Update*>, (3, 1, 6): <gurobi.Var *Awaiting Model Update*>, (3, 1, 7): <gurobi.Var *Awaiting Model Update*>, (3, 2): <gurobi.Var *Awaiting Model Update*>, (3, 2, 1): <gurobi.Var *Awaiting Model Update*>, (3, 2, 2): <gurobi.Var *Awaiting Model Update*>, (3, 2, 3): <gurobi.Var *Awaiting Model Update*>, (3, 2, 4): <gurobi.Var *Awaiting Model Update*>, (3, 2, 5): <gurobi.Var *Awaiting Model Update*>, (3, 2, 6): <gurobi.Var *Awaiting Model Update*>, (3, 2, 7): <gurobi.Var *Awaiting Model Update*>, (3, 3): <gurobi.Var *Awaiting Model Update*>, (3, 3, 1): <gurobi.Var *Awaiting Model Update*>, (3, 3, 2): <gurobi.Var *Awaiting Model Update*>, (3, 3, 3): <gurobi.Var *Awaiting Model Update*>, (3, 3, 4): <gurobi.Var *Awaiting Model Update*>, (3, 3, 5): <gurobi.Var *Awaiting Model Update*>, (3, 3, 6): <gurobi.Var *Awaiting Model Update*>, (3, 3, 7): <gurobi.Var *Awaiting Model Update*>, (3, 4): <gurobi.Var *Awaiting Model Update*>, (3, 4, 1): <gurobi.Var *Awaiting Model Update*>, (3, 4, 2): <gurobi.Var *Awaiting Model Update*>, (3, 4, 3): <gurobi.Var *Awaiting Model Update*>, (3, 4, 4): <gurobi.Var *Awaiting Model Update*>, (3, 4, 5): <gurobi.Var *Awaiting Model Update*>, (3, 4, 6): <gurobi.Var *Awaiting Model Update*>, (3, 4, 7): <gurobi.Var *Awaiting Model Update*>, (3, 5): <gurobi.Var *Awaiting Model Update*>, (3, 5, 1): <gurobi.Var *Awaiting Model Update*>, (3, 5, 2): <gurobi.Var *Awaiting Model Update*>, (3, 5, 3): <gurobi.Var *Awaiting Model Update*>, (3, 5, 4): <gurobi.Var *Awaiting Model Update*>, (3, 5, 5): <gurobi.Var *Awaiting Model Update*>, (3, 5, 6): <gurobi.Var *Awaiting Model Update*>, (3, 5, 7): <gurobi.Var *Awaiting Model Update*>, (3, 6): <gurobi.Var *Awaiting Model Update*>, (3, 6, 1): <gurobi.Var *Awaiting Model Update*>, (3, 6, 2): <gurobi.Var *Awaiting Model Update*>, (3, 6, 3): <gurobi.Var *Awaiting Model Update*>, (3, 6, 4): <gurobi.Var *Awaiting Model Update*>, (3, 6, 5): <gurobi.Var *Awaiting Model Update*>, (3, 6, 6): <gurobi.Var *Awaiting Model Update*>, (3, 6, 7): <gurobi.Var *Awaiting Model Update*>, (3, 7): <gurobi.Var *Awaiting Model Update*>, (3, 7, 1): <gurobi.Var *Awaiting Model Update*>, (3, 7, 2): <gurobi.Var *Awaiting Model Update*>, (3, 7, 3): <gurobi.Var *Awaiting Model Update*>, (3, 7, 4): <gurobi.Var *Awaiting Model Update*>, (3, 7, 5): <gurobi.Var *Awaiting Model Update*>, (3, 7, 6): <gurobi.Var *Awaiting Model Update*>, (3, 7, 7): <gurobi.Var *Awaiting Model Update*>, (4, 1): <gurobi.Var *Awaiting Model Update*>, (4, 1, 1): <gurobi.Var *Awaiting Model Update*>, (4, 1, 2): <gurobi.Var *Awaiting Model Update*>, (4, 1, 3): <gurobi.Var *Awaiting Model Update*>, (4, 1, 4): <gurobi.Var *Awaiting Model Update*>, (4, 1, 5): <gurobi.Var *Awaiting Model Update*>, (4, 1, 6): <gurobi.Var *Awaiting Model Update*>, (4, 1, 7): <gurobi.Var *Awaiting Model Update*>, (4, 2): <gurobi.Var *Awaiting Model Update*>, (4, 2, 1): <gurobi.Var *Awaiting Model Update*>, (4, 2, 2): <gurobi.Var *Awaiting Model Update*>, (4, 2, 3): <gurobi.Var *Awaiting Model Update*>, (4, 2, 4): <gurobi.Var *Awaiting Model Update*>, (4, 2, 5): <gurobi.Var *Awaiting Model Update*>, (4, 2, 6): <gurobi.Var *Awaiting Model Update*>, (4, 2, 7): <gurobi.Var *Awaiting Model Update*>, (4, 3): <gurobi.Var *Awaiting Model Update*>, (4, 3, 1): <gurobi.Var *Awaiting Model Update*>, (4, 3, 2): <gurobi.Var *Awaiting Model Update*>, (4, 3, 3): <gurobi.Var *Awaiting Model Update*>, (4, 3, 4): <gurobi.Var *Awaiting Model Update*>, (4, 3, 5): <gurobi.Var *Awaiting Model Update*>, (4, 3, 6): <gurobi.Var *Awaiting Model Update*>, (4, 3, 7): <gurobi.Var *Awaiting Model Update*>, (4, 4): <gurobi.Var *Awaiting Model Update*>, (4, 4, 1): <gurobi.Var *Awaiting Model Update*>, (4, 4, 2): <gurobi.Var *Awaiting Model Update*>, (4, 4, 3): <gurobi.Var *Awaiting Model Update*>, (4, 4, 4): <gurobi.Var *Awaiting Model Update*>, (4, 4, 5): <gurobi.Var *Awaiting Model Update*>, (4, 4, 6): <gurobi.Var *Awaiting Model Update*>, (4, 4, 7): <gurobi.Var *Awaiting Model Update*>, (4, 5): <gurobi.Var *Awaiting Model Update*>, (4, 5, 1): <gurobi.Var *Awaiting Model Update*>, (4, 5, 2): <gurobi.Var *Awaiting Model Update*>, (4, 5, 3): <gurobi.Var *Awaiting Model Update*>, (4, 5, 4): <gurobi.Var *Awaiting Model Update*>, (4, 5, 5): <gurobi.Var *Awaiting Model Update*>, (4, 5, 6): <gurobi.Var *Awaiting Model Update*>, (4, 5, 7): <gurobi.Var *Awaiting Model Update*>, (4, 6): <gurobi.Var *Awaiting Model Update*>, (4, 6, 1): <gurobi.Var *Awaiting Model Update*>, (4, 6, 2): <gurobi.Var *Awaiting Model Update*>, (4, 6, 3): <gurobi.Var *Awaiting Model Update*>, (4, 6, 4): <gurobi.Var *Awaiting Model Update*>, (4, 6, 5): <gurobi.Var *Awaiting Model Update*>, (4, 6, 6): <gurobi.Var *Awaiting Model Update*>, (4, 6, 7): <gurobi.Var *Awaiting Model Update*>, (4, 7): <gurobi.Var *Awaiting Model Update*>, (4, 7, 1): <gurobi.Var *Awaiting Model Update*>, (4, 7, 2): <gurobi.Var *Awaiting Model Update*>, (4, 7, 3): <gurobi.Var *Awaiting Model Update*>, (4, 7, 4): <gurobi.Var *Awaiting Model Update*>, (4, 7, 5): <gurobi.Var *Awaiting Model Update*>, (4, 7, 6): <gurobi.Var *Awaiting Model Update*>, (4, 7, 7): <gurobi.Var *Awaiting Model Update*>, (5, 1): <gurobi.Var *Awaiting Model Update*>, (5, 1, 1): <gurobi.Var *Awaiting Model Update*>, (5, 1, 2): <gurobi.Var *Awaiting Model Update*>, (5, 1, 3): <gurobi.Var *Awaiting Model Update*>, (5, 1, 4): <gurobi.Var *Awaiting Model Update*>, (5, 1, 5): <gurobi.Var *Awaiting Model Update*>, (5, 1, 6): <gurobi.Var *Awaiting Model Update*>, (5, 1, 7): <gurobi.Var *Awaiting Model Update*>, (5, 2): <gurobi.Var *Awaiting Model Update*>, (5, 2, 1): <gurobi.Var *Awaiting Model Update*>, (5, 2, 2): <gurobi.Var *Awaiting Model Update*>, (5, 2, 3): <gurobi.Var *Awaiting Model Update*>, (5, 2, 4): <gurobi.Var *Awaiting Model Update*>, (5, 2, 5): <gurobi.Var *Awaiting Model Update*>, (5, 2, 6): <gurobi.Var *Awaiting Model Update*>, (5, 2, 7): <gurobi.Var *Awaiting Model Update*>, (5, 3): <gurobi.Var *Awaiting Model Update*>, (5, 3, 1): <gurobi.Var *Awaiting Model Update*>, (5, 3, 2): <gurobi.Var *Awaiting Model Update*>, (5, 3, 3): <gurobi.Var *Awaiting Model Update*>, (5, 3, 4): <gurobi.Var *Awaiting Model Update*>, (5, 3, 5): <gurobi.Var *Awaiting Model Update*>, (5, 3, 6): <gurobi.Var *Awaiting Model Update*>, (5, 3, 7): <gurobi.Var *Awaiting Model Update*>, (5, 4): <gurobi.Var *Awaiting Model Update*>, (5, 4, 1): <gurobi.Var *Awaiting Model Update*>, (5, 4, 2): <gurobi.Var *Awaiting Model Update*>, (5, 4, 3): <gurobi.Var *Awaiting Model Update*>, (5, 4, 4): <gurobi.Var *Awaiting Model Update*>, (5, 4, 5): <gurobi.Var *Awaiting Model Update*>, (5, 4, 6): <gurobi.Var *Awaiting Model Update*>, (5, 4, 7): <gurobi.Var *Awaiting Model Update*>, (5, 5): <gurobi.Var *Awaiting Model Update*>, (5, 5, 1): <gurobi.Var *Awaiting Model Update*>, (5, 5, 2): <gurobi.Var *Awaiting Model Update*>, (5, 5, 3): <gurobi.Var *Awaiting Model Update*>, (5, 5, 4): <gurobi.Var *Awaiting Model Update*>, (5, 5, 5): <gurobi.Var *Awaiting Model Update*>, (5, 5, 6): <gurobi.Var *Awaiting Model Update*>, (5, 5, 7): <gurobi.Var *Awaiting Model Update*>, (5, 6): <gurobi.Var *Awaiting Model Update*>, (5, 6, 1): <gurobi.Var *Awaiting Model Update*>, (5, 6, 2): <gurobi.Var *Awaiting Model Update*>, (5, 6, 3): <gurobi.Var *Awaiting Model Update*>, (5, 6, 4): <gurobi.Var *Awaiting Model Update*>, (5, 6, 5): <gurobi.Var *Awaiting Model Update*>, (5, 6, 6): <gurobi.Var *Awaiting Model Update*>, (5, 6, 7): <gurobi.Var *Awaiting Model Update*>, (5, 7): <gurobi.Var *Awaiting Model Update*>, (5, 7, 1): <gurobi.Var *Awaiting Model Update*>, (5, 7, 2): <gurobi.Var *Awaiting Model Update*>, (5, 7, 3): <gurobi.Var *Awaiting Model Update*>, (5, 7, 4): <gurobi.Var *Awaiting Model Update*>, (5, 7, 5): <gurobi.Var *Awaiting Model Update*>, (5, 7, 6): <gurobi.Var *Awaiting Model Update*>, (5, 7, 7): <gurobi.Var *Awaiting Model Update*>, (6, 1): <gurobi.Var *Awaiting Model Update*>, (6, 1, 1): <gurobi.Var *Awaiting Model Update*>, (6, 1, 2): <gurobi.Var *Awaiting Model Update*>, (6, 1, 3): <gurobi.Var *Awaiting Model Update*>, (6, 1, 4): <gurobi.Var *Awaiting Model Update*>, (6, 1, 5): <gurobi.Var *Awaiting Model Update*>, (6, 1, 6): <gurobi.Var *Awaiting Model Update*>, (6, 1, 7): <gurobi.Var *Awaiting Model Update*>, (6, 2): <gurobi.Var *Awaiting Model Update*>, (6, 2, 1): <gurobi.Var *Awaiting Model Update*>, (6, 2, 2): <gurobi.Var *Awaiting Model Update*>, (6, 2, 3): <gurobi.Var *Awaiting Model Update*>, (6, 2, 4): <gurobi.Var *Awaiting Model Update*>, (6, 2, 5): <gurobi.Var *Awaiting Model Update*>, (6, 2, 6): <gurobi.Var *Awaiting Model Update*>, (6, 2, 7): <gurobi.Var *Awaiting Model Update*>, (6, 3): <gurobi.Var *Awaiting Model Update*>, (6, 3, 1): <gurobi.Var *Awaiting Model Update*>, (6, 3, 2): <gurobi.Var *Awaiting Model Update*>, (6, 3, 3): <gurobi.Var *Awaiting Model Update*>, (6, 3, 4): <gurobi.Var *Awaiting Model Update*>, (6, 3, 5): <gurobi.Var *Awaiting Model Update*>, (6, 3, 6): <gurobi.Var *Awaiting Model Update*>, (6, 3, 7): <gurobi.Var *Awaiting Model Update*>, (6, 4): <gurobi.Var *Awaiting Model Update*>, (6, 4, 1): <gurobi.Var *Awaiting Model Update*>, (6, 4, 2): <gurobi.Var *Awaiting Model Update*>, (6, 4, 3): <gurobi.Var *Awaiting Model Update*>, (6, 4, 4): <gurobi.Var *Awaiting Model Update*>, (6, 4, 5): <gurobi.Var *Awaiting Model Update*>, (6, 4, 6): <gurobi.Var *Awaiting Model Update*>, (6, 4, 7): <gurobi.Var *Awaiting Model Update*>, (6, 5): <gurobi.Var *Awaiting Model Update*>, (6, 5, 1): <gurobi.Var *Awaiting Model Update*>, (6, 5, 2): <gurobi.Var *Awaiting Model Update*>, (6, 5, 3): <gurobi.Var *Awaiting Model Update*>, (6, 5, 4): <gurobi.Var *Awaiting Model Update*>, (6, 5, 5): <gurobi.Var *Awaiting Model Update*>, (6, 5, 6): <gurobi.Var *Awaiting Model Update*>, (6, 5, 7): <gurobi.Var *Awaiting Model Update*>, (6, 6): <gurobi.Var *Awaiting Model Update*>, (6, 6, 1): <gurobi.Var *Awaiting Model Update*>, (6, 6, 2): <gurobi.Var *Awaiting Model Update*>, (6, 6, 3): <gurobi.Var *Awaiting Model Update*>, (6, 6, 4): <gurobi.Var *Awaiting Model Update*>, (6, 6, 5): <gurobi.Var *Awaiting Model Update*>, (6, 6, 6): <gurobi.Var *Awaiting Model Update*>, (6, 6, 7): <gurobi.Var *Awaiting Model Update*>, (6, 7): <gurobi.Var *Awaiting Model Update*>, (6, 7, 1): <gurobi.Var *Awaiting Model Update*>, (6, 7, 2): <gurobi.Var *Awaiting Model Update*>, (6, 7, 3): <gurobi.Var *Awaiting Model Update*>, (6, 7, 4): <gurobi.Var *Awaiting Model Update*>, (6, 7, 5): <gurobi.Var *Awaiting Model Update*>, (6, 7, 6): <gurobi.Var *Awaiting Model Update*>, (6, 7, 7): <gurobi.Var *Awaiting Model Update*>, (7, 1): <gurobi.Var *Awaiting Model Update*>, (7, 1, 1): <gurobi.Var *Awaiting Model Update*>, (7, 1, 2): <gurobi.Var *Awaiting Model Update*>, (7, 1, 3): <gurobi.Var *Awaiting Model Update*>, (7, 1, 4): <gurobi.Var *Awaiting Model Update*>, (7, 1, 5): <gurobi.Var *Awaiting Model Update*>, (7, 1, 6): <gurobi.Var *Awaiting Model Update*>, (7, 1, 7): <gurobi.Var *Awaiting Model Update*>, (7, 2): <gurobi.Var *Awaiting Model Update*>, (7, 2, 1): <gurobi.Var *Awaiting Model Update*>, (7, 2, 2): <gurobi.Var *Awaiting Model Update*>, (7, 2, 3): <gurobi.Var *Awaiting Model Update*>, (7, 2, 4): <gurobi.Var *Awaiting Model Update*>, (7, 2, 5): <gurobi.Var *Awaiting Model Update*>, (7, 2, 6): <gurobi.Var *Awaiting Model Update*>, (7, 2, 7): <gurobi.Var *Awaiting Model Update*>, (7, 3): <gurobi.Var *Awaiting Model Update*>, (7, 3, 1): <gurobi.Var *Awaiting Model Update*>, (7, 3, 2): <gurobi.Var *Awaiting Model Update*>, (7, 3, 3): <gurobi.Var *Awaiting Model Update*>, (7, 3, 4): <gurobi.Var *Awaiting Model Update*>, (7, 3, 5): <gurobi.Var *Awaiting Model Update*>, (7, 3, 6): <gurobi.Var *Awaiting Model Update*>, (7, 3, 7): <gurobi.Var *Awaiting Model Update*>, (7, 4): <gurobi.Var *Awaiting Model Update*>, (7, 4, 1): <gurobi.Var *Awaiting Model Update*>, (7, 4, 2): <gurobi.Var *Awaiting Model Update*>, (7, 4, 3): <gurobi.Var *Awaiting Model Update*>, (7, 4, 4): <gurobi.Var *Awaiting Model Update*>, (7, 4, 5): <gurobi.Var *Awaiting Model Update*>, (7, 4, 6): <gurobi.Var *Awaiting Model Update*>, (7, 4, 7): <gurobi.Var *Awaiting Model Update*>, (7, 5): <gurobi.Var *Awaiting Model Update*>, (7, 5, 1): <gurobi.Var *Awaiting Model Update*>, (7, 5, 2): <gurobi.Var *Awaiting Model Update*>, (7, 5, 3): <gurobi.Var *Awaiting Model Update*>, (7, 5, 4): <gurobi.Var *Awaiting Model Update*>, (7, 5, 5): <gurobi.Var *Awaiting Model Update*>, (7, 5, 6): <gurobi.Var *Awaiting Model Update*>, (7, 5, 7): <gurobi.Var *Awaiting Model Update*>, (7, 6): <gurobi.Var *Awaiting Model Update*>, (7, 6, 1): <gurobi.Var *Awaiting Model Update*>, (7, 6, 2): <gurobi.Var *Awaiting Model Update*>, (7, 6, 3): <gurobi.Var *Awaiting Model Update*>, (7, 6, 4): <gurobi.Var *Awaiting Model Update*>, (7, 6, 5): <gurobi.Var *Awaiting Model Update*>, (7, 6, 6): <gurobi.Var *Awaiting Model Update*>, (7, 6, 7): <gurobi.Var *Awaiting Model Update*>, (7, 7): <gurobi.Var *Awaiting Model Update*>, (7, 7, 1): <gurobi.Var *Awaiting Model Update*>, (7, 7, 2): <gurobi.Var *Awaiting Model Update*>, (7, 7, 3): <gurobi.Var *Awaiting Model Update*>, (7, 7, 4): <gurobi.Var *Awaiting Model Update*>, (7, 7, 5): <gurobi.Var *Awaiting Model Update*>, (7, 7, 6): <gurobi.Var *Awaiting Model Update*>, (7, 7, 7): <gurobi.Var *Awaiting Model Update*>}\n",
      "Forming 140x constraints for squares [(1,1),(1,2),(1,3)]\n",
      "Forming 2/ constraints for squares [(1,4),(2,4)]\n",
      "Forming 8+ constraints for squares [(1,5),(2,5),(2,6)]\n",
      "Forming 5- constraints for squares [(1,6),(1,7)]\n",
      "Forming 2- constraints for squares [(2,1),(2,2)]\n",
      "Forming 7 constraints for squares [(2,3)]\n",
      "Forming 3- constraints for squares [(2,7),(3,7)]\n",
      "Forming 1- constraints for squares [(3,1),(4,1)]\n",
      "Forming 2- constraints for squares [(5,1),(6,1)]\n",
      "Forming 7+ constraints for squares [(3,2),(3,3)]\n",
      "Forming 6x constraints for squares [(4,2),(4,3)]\n",
      "Forming 2/ constraints for squares [(5,2),(5,3)]\n",
      "Forming 1- constraints for squares [(6,2),(6,3)]\n",
      "Forming 5- constraints for squares [(7,1),(7,2)]\n",
      "Forming 1- constraints for squares [(3,4),(4,4)]\n",
      "Forming 3 constraints for squares [(5,4)]\n",
      "Forming 840x constraints for squares [(3,5),(3,6),(4,5),(5,5)]\n",
      "Forming 11+ constraints for squares [(4,6),(5,6)]\n",
      "Forming 21x constraints for squares [(4,7),(5,7)]\n",
      "Forming 14+ constraints for squares [(6,4),(7,3),(7,4)]\n",
      "Forming 12+ constraints for squares [(6,5),(7,5),(7,6)]\n",
      "Forming 2 constraints for squares [(6,6)]\n",
      "Forming 5+ constraints for squares [(6,7),(7,7)]\n",
      "\n",
      "Gurobi Optimizer version 9.0.2 build v9.0.2rc0 (win64)\n"
     ]
    },
    {
     "name": "stdout",
     "output_type": "stream",
     "text": [
      "Optimize a model with 221 rows, 462 columns and 1471 nonzeros\n",
      "Model fingerprint: 0xb9fcb499\n",
      "Model has 62 general constraints\n",
      "Variable types: 0 continuous, 462 integer (397 binary)\n",
      "Coefficient statistics:\n",
      "  Matrix range     [1e+00, 7e+00]\n",
      "  Objective range  [0e+00, 0e+00]\n",
      "  Bounds range     [1e+00, 7e+00]\n",
      "  RHS range        [1e+00, 1e+01]\n",
      "Presolve added 66 rows and 0 columns\n",
      "Presolve removed 0 rows and 185 columns\n",
      "Presolve time: 0.03s\n",
      "Presolved: 287 rows, 277 columns, 1222 nonzeros\n",
      "Variable types: 0 continuous, 277 integer (256 binary)\n",
      "\n",
      "Root relaxation: objective 0.000000e+00, 272 iterations, 0.01 seconds\n",
      "\n",
      "    Nodes    |    Current Node    |     Objective Bounds      |     Work\n",
      " Expl Unexpl |  Obj  Depth IntInf | Incumbent    BestBd   Gap | It/Node Time\n",
      "\n",
      "     0     0    0.00000    0  127          -    0.00000      -     -    0s\n",
      "     0     0    0.00000    0  152          -    0.00000      -     -    0s\n",
      "     0     0    0.00000    0  130          -    0.00000      -     -    0s\n",
      "H    0     0                       0.0000000    0.00000  0.00%     -    0s\n",
      "     0     0    0.00000    0  142    0.00000    0.00000  0.00%     -    0s\n",
      "\n",
      "Cutting planes:\n",
      "  Cover: 5\n",
      "  Clique: 7\n",
      "  MIR: 1\n",
      "  Zero half: 3\n",
      "  RLT: 1\n",
      "  Relax-and-lift: 1\n",
      "\n",
      "Explored 1 nodes (1280 simplex iterations) in 0.24 seconds\n",
      "Thread count was 12 (of 12 available processors)\n",
      "\n",
      "Solution count 1: 0 \n",
      "\n",
      "Optimal solution found (tolerance 1.00e-04)\n",
      "Best objective 0.000000000000e+00, best bound 0.000000000000e+00, gap 0.0000%\n",
      "\n",
      "Solution:\n",
      "\n",
      "4  7  5  2  3  1  6  \n",
      "6  4  7  1  2  3  5  \n",
      "1  3  4  6  7  5  2  \n",
      "2  6  1  5  4  7  3  \n",
      "5  1  2  3  6  4  7  \n",
      "3  5  6  7  1  2  4  \n",
      "7  2  3  4  5  6  1  \n"
     ]
    }
   ],
   "source": [
    "solve_kenken(size, cells)"
   ]
  },
  {
   "cell_type": "code",
   "execution_count": null,
   "metadata": {},
   "outputs": [],
   "source": []
  },
  {
   "cell_type": "code",
   "execution_count": 19,
   "metadata": {},
   "outputs": [],
   "source": [
    "size = 5\n",
    "cells = [\n",
    "    ([(1,1)], '3'),\n",
    "    ([(1,2), (2,2)], '6+'),\n",
    "    ([(1,3), (2,3)], '9+'),\n",
    "    ([(1,4), (2,4)], '2/'),\n",
    "    ([(1,5), (2,5)], '4+'),\n",
    "    ([(2,1), (3,1)], '1-'),\n",
    "    ([(3,2)], '2'),\n",
    "    ([(3,5), (4,5)], '1-'),\n",
    "    ([(4,1), (5,1)], '1-'),\n",
    "    ([(4,2), (5,2)], '1-'),\n",
    "    ([(4,3), (4,4)], '1-'),\n",
    "    ([(5,4), (5,5)], '6x'),\n",
    "    ([(5,3)], '1')\n",
    "]"
   ]
  },
  {
   "cell_type": "code",
   "execution_count": 20,
   "metadata": {},
   "outputs": [
    {
     "name": "stdout",
     "output_type": "stream",
     "text": [
      "{(1, 1): <gurobi.Var *Awaiting Model Update*>, (1, 1, 1): <gurobi.Var *Awaiting Model Update*>, (1, 1, 2): <gurobi.Var *Awaiting Model Update*>, (1, 1, 3): <gurobi.Var *Awaiting Model Update*>, (1, 1, 4): <gurobi.Var *Awaiting Model Update*>, (1, 1, 5): <gurobi.Var *Awaiting Model Update*>, (1, 2): <gurobi.Var *Awaiting Model Update*>, (1, 2, 1): <gurobi.Var *Awaiting Model Update*>, (1, 2, 2): <gurobi.Var *Awaiting Model Update*>, (1, 2, 3): <gurobi.Var *Awaiting Model Update*>, (1, 2, 4): <gurobi.Var *Awaiting Model Update*>, (1, 2, 5): <gurobi.Var *Awaiting Model Update*>, (1, 3): <gurobi.Var *Awaiting Model Update*>, (1, 3, 1): <gurobi.Var *Awaiting Model Update*>, (1, 3, 2): <gurobi.Var *Awaiting Model Update*>, (1, 3, 3): <gurobi.Var *Awaiting Model Update*>, (1, 3, 4): <gurobi.Var *Awaiting Model Update*>, (1, 3, 5): <gurobi.Var *Awaiting Model Update*>, (1, 4): <gurobi.Var *Awaiting Model Update*>, (1, 4, 1): <gurobi.Var *Awaiting Model Update*>, (1, 4, 2): <gurobi.Var *Awaiting Model Update*>, (1, 4, 3): <gurobi.Var *Awaiting Model Update*>, (1, 4, 4): <gurobi.Var *Awaiting Model Update*>, (1, 4, 5): <gurobi.Var *Awaiting Model Update*>, (1, 5): <gurobi.Var *Awaiting Model Update*>, (1, 5, 1): <gurobi.Var *Awaiting Model Update*>, (1, 5, 2): <gurobi.Var *Awaiting Model Update*>, (1, 5, 3): <gurobi.Var *Awaiting Model Update*>, (1, 5, 4): <gurobi.Var *Awaiting Model Update*>, (1, 5, 5): <gurobi.Var *Awaiting Model Update*>, (2, 1): <gurobi.Var *Awaiting Model Update*>, (2, 1, 1): <gurobi.Var *Awaiting Model Update*>, (2, 1, 2): <gurobi.Var *Awaiting Model Update*>, (2, 1, 3): <gurobi.Var *Awaiting Model Update*>, (2, 1, 4): <gurobi.Var *Awaiting Model Update*>, (2, 1, 5): <gurobi.Var *Awaiting Model Update*>, (2, 2): <gurobi.Var *Awaiting Model Update*>, (2, 2, 1): <gurobi.Var *Awaiting Model Update*>, (2, 2, 2): <gurobi.Var *Awaiting Model Update*>, (2, 2, 3): <gurobi.Var *Awaiting Model Update*>, (2, 2, 4): <gurobi.Var *Awaiting Model Update*>, (2, 2, 5): <gurobi.Var *Awaiting Model Update*>, (2, 3): <gurobi.Var *Awaiting Model Update*>, (2, 3, 1): <gurobi.Var *Awaiting Model Update*>, (2, 3, 2): <gurobi.Var *Awaiting Model Update*>, (2, 3, 3): <gurobi.Var *Awaiting Model Update*>, (2, 3, 4): <gurobi.Var *Awaiting Model Update*>, (2, 3, 5): <gurobi.Var *Awaiting Model Update*>, (2, 4): <gurobi.Var *Awaiting Model Update*>, (2, 4, 1): <gurobi.Var *Awaiting Model Update*>, (2, 4, 2): <gurobi.Var *Awaiting Model Update*>, (2, 4, 3): <gurobi.Var *Awaiting Model Update*>, (2, 4, 4): <gurobi.Var *Awaiting Model Update*>, (2, 4, 5): <gurobi.Var *Awaiting Model Update*>, (2, 5): <gurobi.Var *Awaiting Model Update*>, (2, 5, 1): <gurobi.Var *Awaiting Model Update*>, (2, 5, 2): <gurobi.Var *Awaiting Model Update*>, (2, 5, 3): <gurobi.Var *Awaiting Model Update*>, (2, 5, 4): <gurobi.Var *Awaiting Model Update*>, (2, 5, 5): <gurobi.Var *Awaiting Model Update*>, (3, 1): <gurobi.Var *Awaiting Model Update*>, (3, 1, 1): <gurobi.Var *Awaiting Model Update*>, (3, 1, 2): <gurobi.Var *Awaiting Model Update*>, (3, 1, 3): <gurobi.Var *Awaiting Model Update*>, (3, 1, 4): <gurobi.Var *Awaiting Model Update*>, (3, 1, 5): <gurobi.Var *Awaiting Model Update*>, (3, 2): <gurobi.Var *Awaiting Model Update*>, (3, 2, 1): <gurobi.Var *Awaiting Model Update*>, (3, 2, 2): <gurobi.Var *Awaiting Model Update*>, (3, 2, 3): <gurobi.Var *Awaiting Model Update*>, (3, 2, 4): <gurobi.Var *Awaiting Model Update*>, (3, 2, 5): <gurobi.Var *Awaiting Model Update*>, (3, 3): <gurobi.Var *Awaiting Model Update*>, (3, 3, 1): <gurobi.Var *Awaiting Model Update*>, (3, 3, 2): <gurobi.Var *Awaiting Model Update*>, (3, 3, 3): <gurobi.Var *Awaiting Model Update*>, (3, 3, 4): <gurobi.Var *Awaiting Model Update*>, (3, 3, 5): <gurobi.Var *Awaiting Model Update*>, (3, 4): <gurobi.Var *Awaiting Model Update*>, (3, 4, 1): <gurobi.Var *Awaiting Model Update*>, (3, 4, 2): <gurobi.Var *Awaiting Model Update*>, (3, 4, 3): <gurobi.Var *Awaiting Model Update*>, (3, 4, 4): <gurobi.Var *Awaiting Model Update*>, (3, 4, 5): <gurobi.Var *Awaiting Model Update*>, (3, 5): <gurobi.Var *Awaiting Model Update*>, (3, 5, 1): <gurobi.Var *Awaiting Model Update*>, (3, 5, 2): <gurobi.Var *Awaiting Model Update*>, (3, 5, 3): <gurobi.Var *Awaiting Model Update*>, (3, 5, 4): <gurobi.Var *Awaiting Model Update*>, (3, 5, 5): <gurobi.Var *Awaiting Model Update*>, (4, 1): <gurobi.Var *Awaiting Model Update*>, (4, 1, 1): <gurobi.Var *Awaiting Model Update*>, (4, 1, 2): <gurobi.Var *Awaiting Model Update*>, (4, 1, 3): <gurobi.Var *Awaiting Model Update*>, (4, 1, 4): <gurobi.Var *Awaiting Model Update*>, (4, 1, 5): <gurobi.Var *Awaiting Model Update*>, (4, 2): <gurobi.Var *Awaiting Model Update*>, (4, 2, 1): <gurobi.Var *Awaiting Model Update*>, (4, 2, 2): <gurobi.Var *Awaiting Model Update*>, (4, 2, 3): <gurobi.Var *Awaiting Model Update*>, (4, 2, 4): <gurobi.Var *Awaiting Model Update*>, (4, 2, 5): <gurobi.Var *Awaiting Model Update*>, (4, 3): <gurobi.Var *Awaiting Model Update*>, (4, 3, 1): <gurobi.Var *Awaiting Model Update*>, (4, 3, 2): <gurobi.Var *Awaiting Model Update*>, (4, 3, 3): <gurobi.Var *Awaiting Model Update*>, (4, 3, 4): <gurobi.Var *Awaiting Model Update*>, (4, 3, 5): <gurobi.Var *Awaiting Model Update*>, (4, 4): <gurobi.Var *Awaiting Model Update*>, (4, 4, 1): <gurobi.Var *Awaiting Model Update*>, (4, 4, 2): <gurobi.Var *Awaiting Model Update*>, (4, 4, 3): <gurobi.Var *Awaiting Model Update*>, (4, 4, 4): <gurobi.Var *Awaiting Model Update*>, (4, 4, 5): <gurobi.Var *Awaiting Model Update*>, (4, 5): <gurobi.Var *Awaiting Model Update*>, (4, 5, 1): <gurobi.Var *Awaiting Model Update*>, (4, 5, 2): <gurobi.Var *Awaiting Model Update*>, (4, 5, 3): <gurobi.Var *Awaiting Model Update*>, (4, 5, 4): <gurobi.Var *Awaiting Model Update*>, (4, 5, 5): <gurobi.Var *Awaiting Model Update*>, (5, 1): <gurobi.Var *Awaiting Model Update*>, (5, 1, 1): <gurobi.Var *Awaiting Model Update*>, (5, 1, 2): <gurobi.Var *Awaiting Model Update*>, (5, 1, 3): <gurobi.Var *Awaiting Model Update*>, (5, 1, 4): <gurobi.Var *Awaiting Model Update*>, (5, 1, 5): <gurobi.Var *Awaiting Model Update*>, (5, 2): <gurobi.Var *Awaiting Model Update*>, (5, 2, 1): <gurobi.Var *Awaiting Model Update*>, (5, 2, 2): <gurobi.Var *Awaiting Model Update*>, (5, 2, 3): <gurobi.Var *Awaiting Model Update*>, (5, 2, 4): <gurobi.Var *Awaiting Model Update*>, (5, 2, 5): <gurobi.Var *Awaiting Model Update*>, (5, 3): <gurobi.Var *Awaiting Model Update*>, (5, 3, 1): <gurobi.Var *Awaiting Model Update*>, (5, 3, 2): <gurobi.Var *Awaiting Model Update*>, (5, 3, 3): <gurobi.Var *Awaiting Model Update*>, (5, 3, 4): <gurobi.Var *Awaiting Model Update*>, (5, 3, 5): <gurobi.Var *Awaiting Model Update*>, (5, 4): <gurobi.Var *Awaiting Model Update*>, (5, 4, 1): <gurobi.Var *Awaiting Model Update*>, (5, 4, 2): <gurobi.Var *Awaiting Model Update*>, (5, 4, 3): <gurobi.Var *Awaiting Model Update*>, (5, 4, 4): <gurobi.Var *Awaiting Model Update*>, (5, 4, 5): <gurobi.Var *Awaiting Model Update*>, (5, 5): <gurobi.Var *Awaiting Model Update*>, (5, 5, 1): <gurobi.Var *Awaiting Model Update*>, (5, 5, 2): <gurobi.Var *Awaiting Model Update*>, (5, 5, 3): <gurobi.Var *Awaiting Model Update*>, (5, 5, 4): <gurobi.Var *Awaiting Model Update*>, (5, 5, 5): <gurobi.Var *Awaiting Model Update*>}\n",
      "Forming 3 constraints for squares [(1,1)]\n",
      "Forming 6+ constraints for squares [(1,2),(2,2)]\n",
      "Forming 9+ constraints for squares [(1,3),(2,3)]\n",
      "Forming 2/ constraints for squares [(1,4),(2,4)]\n",
      "Forming 4+ constraints for squares [(1,5),(2,5)]\n",
      "Forming 1- constraints for squares [(2,1),(3,1)]\n",
      "Forming 2 constraints for squares [(3,2)]\n",
      "Forming 1- constraints for squares [(3,5),(4,5)]\n",
      "Forming 1- constraints for squares [(4,1),(5,1)]\n",
      "Forming 1- constraints for squares [(4,2),(5,2)]\n",
      "Forming 1- constraints for squares [(4,3),(4,4)]\n",
      "Forming 6x constraints for squares [(5,4),(5,5)]\n",
      "Forming 1 constraints for squares [(5,3)]\n",
      "\n",
      "Gurobi Optimizer version 9.0.2 build v9.0.2rc0 (win64)\n",
      "Optimize a model with 116 rows, 168 columns and 554 nonzeros\n",
      "Model fingerprint: 0x7f3a1631\n",
      "Model has 13 general constraints\n",
      "Variable types: 0 continuous, 168 integer (133 binary)\n",
      "Coefficient statistics:\n",
      "  Matrix range     [1e+00, 5e+00]\n",
      "  Objective range  [0e+00, 0e+00]\n"
     ]
    },
    {
     "name": "stdout",
     "output_type": "stream",
     "text": [
      "  Bounds range     [1e+00, 5e+00]\n",
      "  RHS range        [1e+00, 9e+00]\n",
      "Presolve removed 116 rows and 168 columns\n",
      "Presolve time: 0.00s\n",
      "Presolve: All rows and columns removed\n",
      "\n",
      "Explored 0 nodes (0 simplex iterations) in 0.01 seconds\n",
      "Thread count was 1 (of 12 available processors)\n",
      "\n",
      "Solution count 1: 0 \n",
      "\n",
      "Optimal solution found (tolerance 1.00e-04)\n",
      "Best objective 0.000000000000e+00, best bound 0.000000000000e+00, gap 0.0000%\n",
      "\n",
      "Solution:\n",
      "\n",
      "3  5  4  2  1  \n",
      "2  1  5  4  3  \n",
      "1  2  3  5  4  \n",
      "4  3  2  1  5  \n",
      "5  4  1  3  2  \n"
     ]
    }
   ],
   "source": [
    "solve_kenken(size, cells)"
   ]
  },
  {
   "cell_type": "code",
   "execution_count": 21,
   "metadata": {},
   "outputs": [],
   "source": [
    "size = 7\n",
    "cells = [\n",
    "    ([(1,1), (2,1)], '20x'),\n",
    "    ([(1,2), (2,2)], '2-'),\n",
    "    ([(1,3), (1,4)], '10+'),\n",
    "    ([(2,3), (2,4)], '8+'),\n",
    "    ([(1,5), (2,5)], '3-'),\n",
    "    ([(1,6), (1,7)], '2/'),\n",
    "    ([(3,1), (4,1)], '3/'),\n",
    "    ([(3,2), (3,3)], '2/'),\n",
    "    ([(4,2), (4,3)], '2-'),\n",
    "    ([(3,4), (3,5)], '1-'),\n",
    "    ([(2,6), (2,7), (3,6)], '10+'),\n",
    "    ([(3,7)], '7'),\n",
    "    ([(4,4), (4,5), (5,4), (5,5)], '70x'),\n",
    "    ([(4,6), (5,6)], '7+'),\n",
    "    ([(4,7), (5,7), (6,7)], '12+'),\n",
    "    ([(5,1), (6,1)], '6-'),\n",
    "    ([(5,2), (6,2)], '10+'),\n",
    "    ([(5,3), (6,3)], '2/'),\n",
    "    ([(7,1), (7,2)], '5+'),\n",
    "    ([(6,4), (7,4)], '2/'),\n",
    "    ([(6,5), (7,5)], '2-'),\n",
    "    ([(7,6), (7,7)], '1-'),\n",
    "    ([(6,6)], '4'),\n",
    "    ([(7,3)], '1')\n",
    "]"
   ]
  },
  {
   "cell_type": "code",
   "execution_count": 22,
   "metadata": {},
   "outputs": [
    {
     "name": "stdout",
     "output_type": "stream",
     "text": [
      "{(1, 1): <gurobi.Var *Awaiting Model Update*>, (1, 1, 1): <gurobi.Var *Awaiting Model Update*>, (1, 1, 2): <gurobi.Var *Awaiting Model Update*>, (1, 1, 3): <gurobi.Var *Awaiting Model Update*>, (1, 1, 4): <gurobi.Var *Awaiting Model Update*>, (1, 1, 5): <gurobi.Var *Awaiting Model Update*>, (1, 1, 6): <gurobi.Var *Awaiting Model Update*>, (1, 1, 7): <gurobi.Var *Awaiting Model Update*>, (1, 2): <gurobi.Var *Awaiting Model Update*>, (1, 2, 1): <gurobi.Var *Awaiting Model Update*>, (1, 2, 2): <gurobi.Var *Awaiting Model Update*>, (1, 2, 3): <gurobi.Var *Awaiting Model Update*>, (1, 2, 4): <gurobi.Var *Awaiting Model Update*>, (1, 2, 5): <gurobi.Var *Awaiting Model Update*>, (1, 2, 6): <gurobi.Var *Awaiting Model Update*>, (1, 2, 7): <gurobi.Var *Awaiting Model Update*>, (1, 3): <gurobi.Var *Awaiting Model Update*>, (1, 3, 1): <gurobi.Var *Awaiting Model Update*>, (1, 3, 2): <gurobi.Var *Awaiting Model Update*>, (1, 3, 3): <gurobi.Var *Awaiting Model Update*>, (1, 3, 4): <gurobi.Var *Awaiting Model Update*>, (1, 3, 5): <gurobi.Var *Awaiting Model Update*>, (1, 3, 6): <gurobi.Var *Awaiting Model Update*>, (1, 3, 7): <gurobi.Var *Awaiting Model Update*>, (1, 4): <gurobi.Var *Awaiting Model Update*>, (1, 4, 1): <gurobi.Var *Awaiting Model Update*>, (1, 4, 2): <gurobi.Var *Awaiting Model Update*>, (1, 4, 3): <gurobi.Var *Awaiting Model Update*>, (1, 4, 4): <gurobi.Var *Awaiting Model Update*>, (1, 4, 5): <gurobi.Var *Awaiting Model Update*>, (1, 4, 6): <gurobi.Var *Awaiting Model Update*>, (1, 4, 7): <gurobi.Var *Awaiting Model Update*>, (1, 5): <gurobi.Var *Awaiting Model Update*>, (1, 5, 1): <gurobi.Var *Awaiting Model Update*>, (1, 5, 2): <gurobi.Var *Awaiting Model Update*>, (1, 5, 3): <gurobi.Var *Awaiting Model Update*>, (1, 5, 4): <gurobi.Var *Awaiting Model Update*>, (1, 5, 5): <gurobi.Var *Awaiting Model Update*>, (1, 5, 6): <gurobi.Var *Awaiting Model Update*>, (1, 5, 7): <gurobi.Var *Awaiting Model Update*>, (1, 6): <gurobi.Var *Awaiting Model Update*>, (1, 6, 1): <gurobi.Var *Awaiting Model Update*>, (1, 6, 2): <gurobi.Var *Awaiting Model Update*>, (1, 6, 3): <gurobi.Var *Awaiting Model Update*>, (1, 6, 4): <gurobi.Var *Awaiting Model Update*>, (1, 6, 5): <gurobi.Var *Awaiting Model Update*>, (1, 6, 6): <gurobi.Var *Awaiting Model Update*>, (1, 6, 7): <gurobi.Var *Awaiting Model Update*>, (1, 7): <gurobi.Var *Awaiting Model Update*>, (1, 7, 1): <gurobi.Var *Awaiting Model Update*>, (1, 7, 2): <gurobi.Var *Awaiting Model Update*>, (1, 7, 3): <gurobi.Var *Awaiting Model Update*>, (1, 7, 4): <gurobi.Var *Awaiting Model Update*>, (1, 7, 5): <gurobi.Var *Awaiting Model Update*>, (1, 7, 6): <gurobi.Var *Awaiting Model Update*>, (1, 7, 7): <gurobi.Var *Awaiting Model Update*>, (2, 1): <gurobi.Var *Awaiting Model Update*>, (2, 1, 1): <gurobi.Var *Awaiting Model Update*>, (2, 1, 2): <gurobi.Var *Awaiting Model Update*>, (2, 1, 3): <gurobi.Var *Awaiting Model Update*>, (2, 1, 4): <gurobi.Var *Awaiting Model Update*>, (2, 1, 5): <gurobi.Var *Awaiting Model Update*>, (2, 1, 6): <gurobi.Var *Awaiting Model Update*>, (2, 1, 7): <gurobi.Var *Awaiting Model Update*>, (2, 2): <gurobi.Var *Awaiting Model Update*>, (2, 2, 1): <gurobi.Var *Awaiting Model Update*>, (2, 2, 2): <gurobi.Var *Awaiting Model Update*>, (2, 2, 3): <gurobi.Var *Awaiting Model Update*>, (2, 2, 4): <gurobi.Var *Awaiting Model Update*>, (2, 2, 5): <gurobi.Var *Awaiting Model Update*>, (2, 2, 6): <gurobi.Var *Awaiting Model Update*>, (2, 2, 7): <gurobi.Var *Awaiting Model Update*>, (2, 3): <gurobi.Var *Awaiting Model Update*>, (2, 3, 1): <gurobi.Var *Awaiting Model Update*>, (2, 3, 2): <gurobi.Var *Awaiting Model Update*>, (2, 3, 3): <gurobi.Var *Awaiting Model Update*>, (2, 3, 4): <gurobi.Var *Awaiting Model Update*>, (2, 3, 5): <gurobi.Var *Awaiting Model Update*>, (2, 3, 6): <gurobi.Var *Awaiting Model Update*>, (2, 3, 7): <gurobi.Var *Awaiting Model Update*>, (2, 4): <gurobi.Var *Awaiting Model Update*>, (2, 4, 1): <gurobi.Var *Awaiting Model Update*>, (2, 4, 2): <gurobi.Var *Awaiting Model Update*>, (2, 4, 3): <gurobi.Var *Awaiting Model Update*>, (2, 4, 4): <gurobi.Var *Awaiting Model Update*>, (2, 4, 5): <gurobi.Var *Awaiting Model Update*>, (2, 4, 6): <gurobi.Var *Awaiting Model Update*>, (2, 4, 7): <gurobi.Var *Awaiting Model Update*>, (2, 5): <gurobi.Var *Awaiting Model Update*>, (2, 5, 1): <gurobi.Var *Awaiting Model Update*>, (2, 5, 2): <gurobi.Var *Awaiting Model Update*>, (2, 5, 3): <gurobi.Var *Awaiting Model Update*>, (2, 5, 4): <gurobi.Var *Awaiting Model Update*>, (2, 5, 5): <gurobi.Var *Awaiting Model Update*>, (2, 5, 6): <gurobi.Var *Awaiting Model Update*>, (2, 5, 7): <gurobi.Var *Awaiting Model Update*>, (2, 6): <gurobi.Var *Awaiting Model Update*>, (2, 6, 1): <gurobi.Var *Awaiting Model Update*>, (2, 6, 2): <gurobi.Var *Awaiting Model Update*>, (2, 6, 3): <gurobi.Var *Awaiting Model Update*>, (2, 6, 4): <gurobi.Var *Awaiting Model Update*>, (2, 6, 5): <gurobi.Var *Awaiting Model Update*>, (2, 6, 6): <gurobi.Var *Awaiting Model Update*>, (2, 6, 7): <gurobi.Var *Awaiting Model Update*>, (2, 7): <gurobi.Var *Awaiting Model Update*>, (2, 7, 1): <gurobi.Var *Awaiting Model Update*>, (2, 7, 2): <gurobi.Var *Awaiting Model Update*>, (2, 7, 3): <gurobi.Var *Awaiting Model Update*>, (2, 7, 4): <gurobi.Var *Awaiting Model Update*>, (2, 7, 5): <gurobi.Var *Awaiting Model Update*>, (2, 7, 6): <gurobi.Var *Awaiting Model Update*>, (2, 7, 7): <gurobi.Var *Awaiting Model Update*>, (3, 1): <gurobi.Var *Awaiting Model Update*>, (3, 1, 1): <gurobi.Var *Awaiting Model Update*>, (3, 1, 2): <gurobi.Var *Awaiting Model Update*>, (3, 1, 3): <gurobi.Var *Awaiting Model Update*>, (3, 1, 4): <gurobi.Var *Awaiting Model Update*>, (3, 1, 5): <gurobi.Var *Awaiting Model Update*>, (3, 1, 6): <gurobi.Var *Awaiting Model Update*>, (3, 1, 7): <gurobi.Var *Awaiting Model Update*>, (3, 2): <gurobi.Var *Awaiting Model Update*>, (3, 2, 1): <gurobi.Var *Awaiting Model Update*>, (3, 2, 2): <gurobi.Var *Awaiting Model Update*>, (3, 2, 3): <gurobi.Var *Awaiting Model Update*>, (3, 2, 4): <gurobi.Var *Awaiting Model Update*>, (3, 2, 5): <gurobi.Var *Awaiting Model Update*>, (3, 2, 6): <gurobi.Var *Awaiting Model Update*>, (3, 2, 7): <gurobi.Var *Awaiting Model Update*>, (3, 3): <gurobi.Var *Awaiting Model Update*>, (3, 3, 1): <gurobi.Var *Awaiting Model Update*>, (3, 3, 2): <gurobi.Var *Awaiting Model Update*>, (3, 3, 3): <gurobi.Var *Awaiting Model Update*>, (3, 3, 4): <gurobi.Var *Awaiting Model Update*>, (3, 3, 5): <gurobi.Var *Awaiting Model Update*>, (3, 3, 6): <gurobi.Var *Awaiting Model Update*>, (3, 3, 7): <gurobi.Var *Awaiting Model Update*>, (3, 4): <gurobi.Var *Awaiting Model Update*>, (3, 4, 1): <gurobi.Var *Awaiting Model Update*>, (3, 4, 2): <gurobi.Var *Awaiting Model Update*>, (3, 4, 3): <gurobi.Var *Awaiting Model Update*>, (3, 4, 4): <gurobi.Var *Awaiting Model Update*>, (3, 4, 5): <gurobi.Var *Awaiting Model Update*>, (3, 4, 6): <gurobi.Var *Awaiting Model Update*>, (3, 4, 7): <gurobi.Var *Awaiting Model Update*>, (3, 5): <gurobi.Var *Awaiting Model Update*>, (3, 5, 1): <gurobi.Var *Awaiting Model Update*>, (3, 5, 2): <gurobi.Var *Awaiting Model Update*>, (3, 5, 3): <gurobi.Var *Awaiting Model Update*>, (3, 5, 4): <gurobi.Var *Awaiting Model Update*>, (3, 5, 5): <gurobi.Var *Awaiting Model Update*>, (3, 5, 6): <gurobi.Var *Awaiting Model Update*>, (3, 5, 7): <gurobi.Var *Awaiting Model Update*>, (3, 6): <gurobi.Var *Awaiting Model Update*>, (3, 6, 1): <gurobi.Var *Awaiting Model Update*>, (3, 6, 2): <gurobi.Var *Awaiting Model Update*>, (3, 6, 3): <gurobi.Var *Awaiting Model Update*>, (3, 6, 4): <gurobi.Var *Awaiting Model Update*>, (3, 6, 5): <gurobi.Var *Awaiting Model Update*>, (3, 6, 6): <gurobi.Var *Awaiting Model Update*>, (3, 6, 7): <gurobi.Var *Awaiting Model Update*>, (3, 7): <gurobi.Var *Awaiting Model Update*>, (3, 7, 1): <gurobi.Var *Awaiting Model Update*>, (3, 7, 2): <gurobi.Var *Awaiting Model Update*>, (3, 7, 3): <gurobi.Var *Awaiting Model Update*>, (3, 7, 4): <gurobi.Var *Awaiting Model Update*>, (3, 7, 5): <gurobi.Var *Awaiting Model Update*>, (3, 7, 6): <gurobi.Var *Awaiting Model Update*>, (3, 7, 7): <gurobi.Var *Awaiting Model Update*>, (4, 1): <gurobi.Var *Awaiting Model Update*>, (4, 1, 1): <gurobi.Var *Awaiting Model Update*>, (4, 1, 2): <gurobi.Var *Awaiting Model Update*>, (4, 1, 3): <gurobi.Var *Awaiting Model Update*>, (4, 1, 4): <gurobi.Var *Awaiting Model Update*>, (4, 1, 5): <gurobi.Var *Awaiting Model Update*>, (4, 1, 6): <gurobi.Var *Awaiting Model Update*>, (4, 1, 7): <gurobi.Var *Awaiting Model Update*>, (4, 2): <gurobi.Var *Awaiting Model Update*>, (4, 2, 1): <gurobi.Var *Awaiting Model Update*>, (4, 2, 2): <gurobi.Var *Awaiting Model Update*>, (4, 2, 3): <gurobi.Var *Awaiting Model Update*>, (4, 2, 4): <gurobi.Var *Awaiting Model Update*>, (4, 2, 5): <gurobi.Var *Awaiting Model Update*>, (4, 2, 6): <gurobi.Var *Awaiting Model Update*>, (4, 2, 7): <gurobi.Var *Awaiting Model Update*>, (4, 3): <gurobi.Var *Awaiting Model Update*>, (4, 3, 1): <gurobi.Var *Awaiting Model Update*>, (4, 3, 2): <gurobi.Var *Awaiting Model Update*>, (4, 3, 3): <gurobi.Var *Awaiting Model Update*>, (4, 3, 4): <gurobi.Var *Awaiting Model Update*>, (4, 3, 5): <gurobi.Var *Awaiting Model Update*>, (4, 3, 6): <gurobi.Var *Awaiting Model Update*>, (4, 3, 7): <gurobi.Var *Awaiting Model Update*>, (4, 4): <gurobi.Var *Awaiting Model Update*>, (4, 4, 1): <gurobi.Var *Awaiting Model Update*>, (4, 4, 2): <gurobi.Var *Awaiting Model Update*>, (4, 4, 3): <gurobi.Var *Awaiting Model Update*>, (4, 4, 4): <gurobi.Var *Awaiting Model Update*>, (4, 4, 5): <gurobi.Var *Awaiting Model Update*>, (4, 4, 6): <gurobi.Var *Awaiting Model Update*>, (4, 4, 7): <gurobi.Var *Awaiting Model Update*>, (4, 5): <gurobi.Var *Awaiting Model Update*>, (4, 5, 1): <gurobi.Var *Awaiting Model Update*>, (4, 5, 2): <gurobi.Var *Awaiting Model Update*>, (4, 5, 3): <gurobi.Var *Awaiting Model Update*>, (4, 5, 4): <gurobi.Var *Awaiting Model Update*>, (4, 5, 5): <gurobi.Var *Awaiting Model Update*>, (4, 5, 6): <gurobi.Var *Awaiting Model Update*>, (4, 5, 7): <gurobi.Var *Awaiting Model Update*>, (4, 6): <gurobi.Var *Awaiting Model Update*>, (4, 6, 1): <gurobi.Var *Awaiting Model Update*>, (4, 6, 2): <gurobi.Var *Awaiting Model Update*>, (4, 6, 3): <gurobi.Var *Awaiting Model Update*>, (4, 6, 4): <gurobi.Var *Awaiting Model Update*>, (4, 6, 5): <gurobi.Var *Awaiting Model Update*>, (4, 6, 6): <gurobi.Var *Awaiting Model Update*>, (4, 6, 7): <gurobi.Var *Awaiting Model Update*>, (4, 7): <gurobi.Var *Awaiting Model Update*>, (4, 7, 1): <gurobi.Var *Awaiting Model Update*>, (4, 7, 2): <gurobi.Var *Awaiting Model Update*>, (4, 7, 3): <gurobi.Var *Awaiting Model Update*>, (4, 7, 4): <gurobi.Var *Awaiting Model Update*>, (4, 7, 5): <gurobi.Var *Awaiting Model Update*>, (4, 7, 6): <gurobi.Var *Awaiting Model Update*>, (4, 7, 7): <gurobi.Var *Awaiting Model Update*>, (5, 1): <gurobi.Var *Awaiting Model Update*>, (5, 1, 1): <gurobi.Var *Awaiting Model Update*>, (5, 1, 2): <gurobi.Var *Awaiting Model Update*>, (5, 1, 3): <gurobi.Var *Awaiting Model Update*>, (5, 1, 4): <gurobi.Var *Awaiting Model Update*>, (5, 1, 5): <gurobi.Var *Awaiting Model Update*>, (5, 1, 6): <gurobi.Var *Awaiting Model Update*>, (5, 1, 7): <gurobi.Var *Awaiting Model Update*>, (5, 2): <gurobi.Var *Awaiting Model Update*>, (5, 2, 1): <gurobi.Var *Awaiting Model Update*>, (5, 2, 2): <gurobi.Var *Awaiting Model Update*>, (5, 2, 3): <gurobi.Var *Awaiting Model Update*>, (5, 2, 4): <gurobi.Var *Awaiting Model Update*>, (5, 2, 5): <gurobi.Var *Awaiting Model Update*>, (5, 2, 6): <gurobi.Var *Awaiting Model Update*>, (5, 2, 7): <gurobi.Var *Awaiting Model Update*>, (5, 3): <gurobi.Var *Awaiting Model Update*>, (5, 3, 1): <gurobi.Var *Awaiting Model Update*>, (5, 3, 2): <gurobi.Var *Awaiting Model Update*>, (5, 3, 3): <gurobi.Var *Awaiting Model Update*>, (5, 3, 4): <gurobi.Var *Awaiting Model Update*>, (5, 3, 5): <gurobi.Var *Awaiting Model Update*>, (5, 3, 6): <gurobi.Var *Awaiting Model Update*>, (5, 3, 7): <gurobi.Var *Awaiting Model Update*>, (5, 4): <gurobi.Var *Awaiting Model Update*>, (5, 4, 1): <gurobi.Var *Awaiting Model Update*>, (5, 4, 2): <gurobi.Var *Awaiting Model Update*>, (5, 4, 3): <gurobi.Var *Awaiting Model Update*>, (5, 4, 4): <gurobi.Var *Awaiting Model Update*>, (5, 4, 5): <gurobi.Var *Awaiting Model Update*>, (5, 4, 6): <gurobi.Var *Awaiting Model Update*>, (5, 4, 7): <gurobi.Var *Awaiting Model Update*>, (5, 5): <gurobi.Var *Awaiting Model Update*>, (5, 5, 1): <gurobi.Var *Awaiting Model Update*>, (5, 5, 2): <gurobi.Var *Awaiting Model Update*>, (5, 5, 3): <gurobi.Var *Awaiting Model Update*>, (5, 5, 4): <gurobi.Var *Awaiting Model Update*>, (5, 5, 5): <gurobi.Var *Awaiting Model Update*>, (5, 5, 6): <gurobi.Var *Awaiting Model Update*>, (5, 5, 7): <gurobi.Var *Awaiting Model Update*>, (5, 6): <gurobi.Var *Awaiting Model Update*>, (5, 6, 1): <gurobi.Var *Awaiting Model Update*>, (5, 6, 2): <gurobi.Var *Awaiting Model Update*>, (5, 6, 3): <gurobi.Var *Awaiting Model Update*>, (5, 6, 4): <gurobi.Var *Awaiting Model Update*>, (5, 6, 5): <gurobi.Var *Awaiting Model Update*>, (5, 6, 6): <gurobi.Var *Awaiting Model Update*>, (5, 6, 7): <gurobi.Var *Awaiting Model Update*>, (5, 7): <gurobi.Var *Awaiting Model Update*>, (5, 7, 1): <gurobi.Var *Awaiting Model Update*>, (5, 7, 2): <gurobi.Var *Awaiting Model Update*>, (5, 7, 3): <gurobi.Var *Awaiting Model Update*>, (5, 7, 4): <gurobi.Var *Awaiting Model Update*>, (5, 7, 5): <gurobi.Var *Awaiting Model Update*>, (5, 7, 6): <gurobi.Var *Awaiting Model Update*>, (5, 7, 7): <gurobi.Var *Awaiting Model Update*>, (6, 1): <gurobi.Var *Awaiting Model Update*>, (6, 1, 1): <gurobi.Var *Awaiting Model Update*>, (6, 1, 2): <gurobi.Var *Awaiting Model Update*>, (6, 1, 3): <gurobi.Var *Awaiting Model Update*>, (6, 1, 4): <gurobi.Var *Awaiting Model Update*>, (6, 1, 5): <gurobi.Var *Awaiting Model Update*>, (6, 1, 6): <gurobi.Var *Awaiting Model Update*>, (6, 1, 7): <gurobi.Var *Awaiting Model Update*>, (6, 2): <gurobi.Var *Awaiting Model Update*>, (6, 2, 1): <gurobi.Var *Awaiting Model Update*>, (6, 2, 2): <gurobi.Var *Awaiting Model Update*>, (6, 2, 3): <gurobi.Var *Awaiting Model Update*>, (6, 2, 4): <gurobi.Var *Awaiting Model Update*>, (6, 2, 5): <gurobi.Var *Awaiting Model Update*>, (6, 2, 6): <gurobi.Var *Awaiting Model Update*>, (6, 2, 7): <gurobi.Var *Awaiting Model Update*>, (6, 3): <gurobi.Var *Awaiting Model Update*>, (6, 3, 1): <gurobi.Var *Awaiting Model Update*>, (6, 3, 2): <gurobi.Var *Awaiting Model Update*>, (6, 3, 3): <gurobi.Var *Awaiting Model Update*>, (6, 3, 4): <gurobi.Var *Awaiting Model Update*>, (6, 3, 5): <gurobi.Var *Awaiting Model Update*>, (6, 3, 6): <gurobi.Var *Awaiting Model Update*>, (6, 3, 7): <gurobi.Var *Awaiting Model Update*>, (6, 4): <gurobi.Var *Awaiting Model Update*>, (6, 4, 1): <gurobi.Var *Awaiting Model Update*>, (6, 4, 2): <gurobi.Var *Awaiting Model Update*>, (6, 4, 3): <gurobi.Var *Awaiting Model Update*>, (6, 4, 4): <gurobi.Var *Awaiting Model Update*>, (6, 4, 5): <gurobi.Var *Awaiting Model Update*>, (6, 4, 6): <gurobi.Var *Awaiting Model Update*>, (6, 4, 7): <gurobi.Var *Awaiting Model Update*>, (6, 5): <gurobi.Var *Awaiting Model Update*>, (6, 5, 1): <gurobi.Var *Awaiting Model Update*>, (6, 5, 2): <gurobi.Var *Awaiting Model Update*>, (6, 5, 3): <gurobi.Var *Awaiting Model Update*>, (6, 5, 4): <gurobi.Var *Awaiting Model Update*>, (6, 5, 5): <gurobi.Var *Awaiting Model Update*>, (6, 5, 6): <gurobi.Var *Awaiting Model Update*>, (6, 5, 7): <gurobi.Var *Awaiting Model Update*>, (6, 6): <gurobi.Var *Awaiting Model Update*>, (6, 6, 1): <gurobi.Var *Awaiting Model Update*>, (6, 6, 2): <gurobi.Var *Awaiting Model Update*>, (6, 6, 3): <gurobi.Var *Awaiting Model Update*>, (6, 6, 4): <gurobi.Var *Awaiting Model Update*>, (6, 6, 5): <gurobi.Var *Awaiting Model Update*>, (6, 6, 6): <gurobi.Var *Awaiting Model Update*>, (6, 6, 7): <gurobi.Var *Awaiting Model Update*>, (6, 7): <gurobi.Var *Awaiting Model Update*>, (6, 7, 1): <gurobi.Var *Awaiting Model Update*>, (6, 7, 2): <gurobi.Var *Awaiting Model Update*>, (6, 7, 3): <gurobi.Var *Awaiting Model Update*>, (6, 7, 4): <gurobi.Var *Awaiting Model Update*>, (6, 7, 5): <gurobi.Var *Awaiting Model Update*>, (6, 7, 6): <gurobi.Var *Awaiting Model Update*>, (6, 7, 7): <gurobi.Var *Awaiting Model Update*>, (7, 1): <gurobi.Var *Awaiting Model Update*>, (7, 1, 1): <gurobi.Var *Awaiting Model Update*>, (7, 1, 2): <gurobi.Var *Awaiting Model Update*>, (7, 1, 3): <gurobi.Var *Awaiting Model Update*>, (7, 1, 4): <gurobi.Var *Awaiting Model Update*>, (7, 1, 5): <gurobi.Var *Awaiting Model Update*>, (7, 1, 6): <gurobi.Var *Awaiting Model Update*>, (7, 1, 7): <gurobi.Var *Awaiting Model Update*>, (7, 2): <gurobi.Var *Awaiting Model Update*>, (7, 2, 1): <gurobi.Var *Awaiting Model Update*>, (7, 2, 2): <gurobi.Var *Awaiting Model Update*>, (7, 2, 3): <gurobi.Var *Awaiting Model Update*>, (7, 2, 4): <gurobi.Var *Awaiting Model Update*>, (7, 2, 5): <gurobi.Var *Awaiting Model Update*>, (7, 2, 6): <gurobi.Var *Awaiting Model Update*>, (7, 2, 7): <gurobi.Var *Awaiting Model Update*>, (7, 3): <gurobi.Var *Awaiting Model Update*>, (7, 3, 1): <gurobi.Var *Awaiting Model Update*>, (7, 3, 2): <gurobi.Var *Awaiting Model Update*>, (7, 3, 3): <gurobi.Var *Awaiting Model Update*>, (7, 3, 4): <gurobi.Var *Awaiting Model Update*>, (7, 3, 5): <gurobi.Var *Awaiting Model Update*>, (7, 3, 6): <gurobi.Var *Awaiting Model Update*>, (7, 3, 7): <gurobi.Var *Awaiting Model Update*>, (7, 4): <gurobi.Var *Awaiting Model Update*>, (7, 4, 1): <gurobi.Var *Awaiting Model Update*>, (7, 4, 2): <gurobi.Var *Awaiting Model Update*>, (7, 4, 3): <gurobi.Var *Awaiting Model Update*>, (7, 4, 4): <gurobi.Var *Awaiting Model Update*>, (7, 4, 5): <gurobi.Var *Awaiting Model Update*>, (7, 4, 6): <gurobi.Var *Awaiting Model Update*>, (7, 4, 7): <gurobi.Var *Awaiting Model Update*>, (7, 5): <gurobi.Var *Awaiting Model Update*>, (7, 5, 1): <gurobi.Var *Awaiting Model Update*>, (7, 5, 2): <gurobi.Var *Awaiting Model Update*>, (7, 5, 3): <gurobi.Var *Awaiting Model Update*>, (7, 5, 4): <gurobi.Var *Awaiting Model Update*>, (7, 5, 5): <gurobi.Var *Awaiting Model Update*>, (7, 5, 6): <gurobi.Var *Awaiting Model Update*>, (7, 5, 7): <gurobi.Var *Awaiting Model Update*>, (7, 6): <gurobi.Var *Awaiting Model Update*>, (7, 6, 1): <gurobi.Var *Awaiting Model Update*>, (7, 6, 2): <gurobi.Var *Awaiting Model Update*>, (7, 6, 3): <gurobi.Var *Awaiting Model Update*>, (7, 6, 4): <gurobi.Var *Awaiting Model Update*>, (7, 6, 5): <gurobi.Var *Awaiting Model Update*>, (7, 6, 6): <gurobi.Var *Awaiting Model Update*>, (7, 6, 7): <gurobi.Var *Awaiting Model Update*>, (7, 7): <gurobi.Var *Awaiting Model Update*>, (7, 7, 1): <gurobi.Var *Awaiting Model Update*>, (7, 7, 2): <gurobi.Var *Awaiting Model Update*>, (7, 7, 3): <gurobi.Var *Awaiting Model Update*>, (7, 7, 4): <gurobi.Var *Awaiting Model Update*>, (7, 7, 5): <gurobi.Var *Awaiting Model Update*>, (7, 7, 6): <gurobi.Var *Awaiting Model Update*>, (7, 7, 7): <gurobi.Var *Awaiting Model Update*>}\n",
      "Forming 20x constraints for squares [(1,1),(2,1)]\n",
      "Forming 2- constraints for squares [(1,2),(2,2)]\n",
      "Forming 10+ constraints for squares [(1,3),(1,4)]\n",
      "Forming 8+ constraints for squares [(2,3),(2,4)]\n",
      "Forming 3- constraints for squares [(1,5),(2,5)]\n",
      "Forming 2/ constraints for squares [(1,6),(1,7)]\n",
      "Forming 3/ constraints for squares [(3,1),(4,1)]\n",
      "Forming 2/ constraints for squares [(3,2),(3,3)]\n",
      "Forming 2- constraints for squares [(4,2),(4,3)]\n",
      "Forming 1- constraints for squares [(3,4),(3,5)]\n",
      "Forming 10+ constraints for squares [(2,6),(2,7),(3,6)]\n",
      "Forming 7 constraints for squares [(3,7)]\n",
      "Forming 70x constraints for squares [(4,4),(4,5),(5,4),(5,5)]\n",
      "Forming 7+ constraints for squares [(4,6),(5,6)]\n",
      "Forming 12+ constraints for squares [(4,7),(5,7),(6,7)]\n",
      "Forming 6- constraints for squares [(5,1),(6,1)]\n",
      "Forming 10+ constraints for squares [(5,2),(6,2)]\n",
      "Forming 2/ constraints for squares [(5,3),(6,3)]\n",
      "Forming 5+ constraints for squares [(7,1),(7,2)]\n",
      "Forming 2/ constraints for squares [(6,4),(7,4)]\n",
      "Forming 2- constraints for squares [(6,5),(7,5)]\n",
      "Forming 1- constraints for squares [(7,6),(7,7)]\n",
      "Forming 4 constraints for squares [(6,6)]\n",
      "Forming 1 constraints for squares [(7,3)]\n",
      "\n",
      "Gurobi Optimizer version 9.0.2 build v9.0.2rc0 (win64)\n"
     ]
    },
    {
     "name": "stdout",
     "output_type": "stream",
     "text": [
      "Optimize a model with 220 rows, 467 columns and 1468 nonzeros\n",
      "Model fingerprint: 0xd0a7ce7f\n",
      "Model has 68 general constraints\n",
      "Variable types: 0 continuous, 467 integer (404 binary)\n",
      "Coefficient statistics:\n",
      "  Matrix range     [1e+00, 7e+00]\n",
      "  Objective range  [0e+00, 0e+00]\n",
      "  Bounds range     [1e+00, 7e+00]\n",
      "  RHS range        [1e+00, 1e+01]\n",
      "Presolve added 25 rows and 0 columns\n",
      "Presolve removed 0 rows and 232 columns\n",
      "Presolve time: 0.02s\n",
      "Presolved: 245 rows, 235 columns, 1014 nonzeros\n",
      "Variable types: 0 continuous, 235 integer (218 binary)\n",
      "\n",
      "Root relaxation: objective 0.000000e+00, 238 iterations, 0.01 seconds\n",
      "\n",
      "    Nodes    |    Current Node    |     Objective Bounds      |     Work\n",
      " Expl Unexpl |  Obj  Depth IntInf | Incumbent    BestBd   Gap | It/Node Time\n",
      "\n",
      "     0     0    0.00000    0  105          -    0.00000      -     -    0s\n",
      "     0     0    0.00000    0  145          -    0.00000      -     -    0s\n",
      "     0     0    0.00000    0  139          -    0.00000      -     -    0s\n",
      "     0     0    0.00000    0   70          -    0.00000      -     -    0s\n",
      "H    0     0                       0.0000000    0.00000  0.00%     -    0s\n",
      "\n",
      "Cutting planes:\n",
      "  Cover: 12\n",
      "  Implied bound: 2\n",
      "  Clique: 14\n",
      "  MIR: 6\n",
      "  GUB cover: 4\n",
      "  Zero half: 6\n",
      "  RLT: 7\n",
      "  Relax-and-lift: 3\n",
      "\n",
      "Explored 1 nodes (1238 simplex iterations) in 0.23 seconds\n",
      "Thread count was 12 (of 12 available processors)\n",
      "\n",
      "Solution count 1: 0 \n",
      "\n",
      "Optimal solution found (tolerance 1.00e-04)\n",
      "Best objective 0.000000000000e+00, best bound 0.000000000000e+00, gap 0.0000%\n",
      "\n",
      "Solution:\n",
      "\n",
      "5  7  4  6  3  2  1  \n",
      "4  5  7  1  6  3  2  \n",
      "6  1  2  3  4  5  7  \n",
      "2  3  5  7  1  6  4  \n",
      "7  4  6  5  2  1  3  \n",
      "1  6  3  2  7  4  5  \n",
      "3  2  1  4  5  7  6  \n"
     ]
    }
   ],
   "source": [
    "solve_kenken(size, cells)"
   ]
  },
  {
   "cell_type": "code",
   "execution_count": null,
   "metadata": {},
   "outputs": [],
   "source": []
  }
 ],
 "metadata": {
  "anaconda-cloud": {},
  "kernelspec": {
   "display_name": "Python 3",
   "language": "python",
   "name": "python3"
  },
  "language_info": {
   "codemirror_mode": {
    "name": "ipython",
    "version": 3
   },
   "file_extension": ".py",
   "mimetype": "text/x-python",
   "name": "python",
   "nbconvert_exporter": "python",
   "pygments_lexer": "ipython3",
   "version": "3.7.6"
  }
 },
 "nbformat": 4,
 "nbformat_minor": 1
}

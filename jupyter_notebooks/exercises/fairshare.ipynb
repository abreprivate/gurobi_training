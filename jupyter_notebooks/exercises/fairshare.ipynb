{
 "cells": [
  {
   "cell_type": "markdown",
   "metadata": {},
   "source": [
    "<H1>Demand Fairsharing in a Supply Chain Model</H1>\n",
    "\n",
    "Recall the transportation problem of determining how many widgets to ship from each warehouse to each demand center in a transportation network, in order to satisfy customer demand at a minimum cost. To ensure that the model is always feasible, we can allow customer demand to go unsatisfied at a cost."
   ]
  },
  {
   "cell_type": "markdown",
   "metadata": {},
   "source": [
    "<H3> Sets and Indices </H3>\n",
    "\n",
    "$i \\in I$: Warehouses\n",
    "\n",
    "$j \\in J$: Customers (demand centers)\n",
    "\n",
    "<H3>Data</H3>\n",
    "\n",
    "$u_i$: capacity for warehouse $i$ (widgets)\n",
    "\n",
    "$d_j$: demand at demand center $j$ (widgets)\n",
    "\n",
    "$c_{ij}$: shipping cost from warehouse $i$ to customer $j$ ($/widget)\n",
    "\n",
    "$\\rho_j$: per unit demand shortfall cost for customer $j$ ($/widget)\n",
    "\n",
    "<H3>Decision Variables</H3>\n",
    "\n",
    "$x_{ij}$: number of widgets to ship from warehouse $i$ to customer $j$\n",
    "\n",
    "$y_j$: demand shortfall for customer $j$\n",
    "\n",
    "<H3>Linear Programming Formulation</H3>\n",
    "\n",
    "\\begin{eqnarray}\n",
    "\\min_{x} && \\sum_{i \\in I} \\sum_{j \\in J} c_{ij} x_{ij} \\;\\; \\mbox{(minimize shipping costs)} \\nonumber \\\\\n",
    "\\mbox{s.t.} && \\sum_{i \\in I} x_{ij} = d_j - y_j,\\;\\;j \\in J \\;\\; \\mbox{(satisfy demand)}\\nonumber \\\\\n",
    "&& \\sum_{j \\in J} x_{ij} \\le u_i,\\;\\;i \\in I \\;\\; \\mbox{(don't exceed capacity)} \\nonumber \\\\\n",
    "&& x_{ij} \\ge 0, \\;\\;i \\in I,\\;j \\in J \\;\\; \\mbox{(ship nonnegative quantities)} \\nonumber\n",
    "\\end{eqnarray}"
   ]
  },
  {
   "cell_type": "markdown",
   "metadata": {},
   "source": [
    "<H3>Inputs</H3>\n",
    "We'll consider a test data set with four demand centers that have the following demands:"
   ]
  },
  {
   "cell_type": "code",
   "execution_count": null,
   "metadata": {},
   "outputs": [],
   "source": [
    "demands = [30, 36, 28, 40]\n",
    "shortfall_costs = [1, 2, 1, 2]\n",
    "customers = range(len(demands))"
   ]
  },
  {
   "cell_type": "markdown",
   "metadata": {},
   "source": [
    "And with five warehouses that have the following widget capacities:"
   ]
  },
  {
   "cell_type": "code",
   "execution_count": null,
   "metadata": {},
   "outputs": [],
   "source": [
    "capacities = [20, 22, 17, 19, 18]\n",
    "warehouses = range(len(capacities))"
   ]
  },
  {
   "cell_type": "markdown",
   "metadata": {},
   "source": [
    "We'll ignore shipping costs for now and focus on minimizing the demand shortfall. Assume meeting as much customer demand is top priority, so shipping costs can be handled as a secondary objective."
   ]
  },
  {
   "cell_type": "markdown",
   "metadata": {},
   "source": [
    "We can formulate and solve this model with Gurobi as follows."
   ]
  },
  {
   "cell_type": "code",
   "execution_count": null,
   "metadata": {},
   "outputs": [],
   "source": [
    "import gurobipy as grb"
   ]
  },
  {
   "cell_type": "code",
   "execution_count": null,
   "metadata": {},
   "outputs": [],
   "source": [
    "model = grb.Model()"
   ]
  },
  {
   "cell_type": "code",
   "execution_count": null,
   "metadata": {},
   "outputs": [],
   "source": [
    "to_ship = model.addVars(warehouses, customers, name='to_ship')"
   ]
  },
  {
   "cell_type": "code",
   "execution_count": null,
   "metadata": {},
   "outputs": [],
   "source": [
    "shortfalls = model.addVars(customers, name='shortfall')"
   ]
  },
  {
   "cell_type": "code",
   "execution_count": null,
   "metadata": {},
   "outputs": [],
   "source": [
    "model.update()"
   ]
  },
  {
   "cell_type": "code",
   "execution_count": null,
   "metadata": {},
   "outputs": [],
   "source": [
    "demand_constrs = model.addConstrs((to_ship.sum('*', customer) == demands[customer] - shortfalls[customer]\n",
    "                                  for customer in customers),\n",
    "                                  name='demand')"
   ]
  },
  {
   "cell_type": "code",
   "execution_count": null,
   "metadata": {},
   "outputs": [],
   "source": [
    "supply_constrs = model.addConstrs((to_ship.sum(warehouse, '*') <= capacities[warehouse]\n",
    "                                  for warehouse in warehouses),\n",
    "                                  name='supply')"
   ]
  },
  {
   "cell_type": "code",
   "execution_count": null,
   "metadata": {},
   "outputs": [],
   "source": [
    "model.setObjective(shortfalls.prod(shortfall_costs))"
   ]
  },
  {
   "cell_type": "code",
   "execution_count": null,
   "metadata": {},
   "outputs": [],
   "source": [
    "model.optimize()"
   ]
  },
  {
   "cell_type": "code",
   "execution_count": null,
   "metadata": {},
   "outputs": [],
   "source": [
    "for customer, shortfall in shortfalls.items():\n",
    "    print(\"Customer\", customer, \"has a demand shortfall of\", shortfall.X, \"units.\")"
   ]
  },
  {
   "cell_type": "markdown",
   "metadata": {},
   "source": [
    "With a shortfall cost structure like this, the model is motivated to meet as much demand as possible for the customers with the highest associated per unit shortfall costs. If we want to ensure a more fair distribution of demand shortfalls, we'll need to use a cost that is a convex function of the number of units shorted."
   ]
  },
  {
   "cell_type": "markdown",
   "metadata": {},
   "source": [
    "A quadratic function is a natural choice for such a cost function. In particular, the following quadratic cost functio n has the property that, under mild assumptions, each customer has the same percentage of their demand filled.\n",
    "\n",
    "\\begin{equation}\n",
    "\\sum_{j \\in J} \\frac{1}{d_j} y_j^2\n",
    "\\end{equation}"
   ]
  },
  {
   "cell_type": "markdown",
   "metadata": {},
   "source": [
    "Exercise: Solve using the quadratic objective function. For each customer, report the demand shortfall as a percentage of total demand."
   ]
  },
  {
   "cell_type": "code",
   "execution_count": null,
   "metadata": {},
   "outputs": [],
   "source": []
  },
  {
   "cell_type": "code",
   "execution_count": null,
   "metadata": {},
   "outputs": [],
   "source": []
  },
  {
   "cell_type": "code",
   "execution_count": null,
   "metadata": {},
   "outputs": [],
   "source": []
  },
  {
   "cell_type": "code",
   "execution_count": null,
   "metadata": {},
   "outputs": [],
   "source": []
  }
 ],
 "metadata": {
  "kernelspec": {
   "display_name": "Python 3",
   "language": "python",
   "name": "python3"
  },
  "language_info": {
   "codemirror_mode": {
    "name": "ipython",
    "version": 3
   },
   "file_extension": ".py",
   "mimetype": "text/x-python",
   "name": "python",
   "nbconvert_exporter": "python",
   "pygments_lexer": "ipython3",
   "version": "3.7.1"
  }
 },
 "nbformat": 4,
 "nbformat_minor": 1
}

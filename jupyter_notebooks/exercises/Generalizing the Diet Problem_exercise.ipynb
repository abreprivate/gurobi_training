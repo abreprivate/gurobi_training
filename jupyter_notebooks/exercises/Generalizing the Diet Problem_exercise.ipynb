{
 "cells": [
  {
   "cell_type": "markdown",
   "metadata": {},
   "source": [
    "<H1>Generalizing the Diet Problem</H1>"
   ]
  },
  {
   "cell_type": "markdown",
   "metadata": {},
   "source": [
    "<H3>A Sample Instance</H3>\n",
    "\n",
    "Recall that the objective of the diet problem is to find a combination of foods that meets some nutrient requirements. It is straightforward to write down a model for a small set of inputs such as the following.\n",
    "\n",
    "<table>\n",
    "<caption>Units of nutrients and cost per ounce</caption>\n",
    "<tr>\n",
    "<th> Food type </th> <th> Iron </th> <th> Calcium </th> <th> Cost </th>\n",
    "</tr>\n",
    "<tr>\n",
    "<th> 1 </th> <th> 2 </th> <th> 0 </th> <th> 20 </th>\n",
    "</tr>\n",
    "<tr>\n",
    "<th> 2 </th> <th> 0 </th> <th> 1 </th> <th> 10 </th>\n",
    "</tr>\n",
    "<tr>\n",
    "<th> 3 </th> <th> 3 </th> <th> 2 </th> <th> 31 </th>\n",
    "</tr>\n",
    "<tr>\n",
    "<th> 4 </th> <th> 1 </th> <th> 2 </th> <th> 11 </th>\n",
    "</tr>\n",
    "<tr>\n",
    "<th> 5 </th> <th> 2 </th> <th> 1 </th> <th> 12 </th>\n",
    "</tr>"
   ]
  },
  {
   "cell_type": "markdown",
   "metadata": {},
   "source": [
    "Nutrient requirements: 21 units of iron and 12 units of calcium\n",
    "\n",
    "We can simply define our decision variables $x_1,\\ldots,x_5$ as the number of ounces to consume of each food type, and the resulting linear program is simply:\n",
    "\n",
    "\\begin{eqnarray}\n",
    "\\min_x && 20 x_1 + 10 x_2 + 31 x_3 + 11 x_4 + 12 x_5 \\\\\n",
    "\\mbox{s.t.} && 2 x_1 + 0 x_2 + 3 x_3 + 1 x_4 + 2 x_5 \\ge 21 \\nonumber \\\\\n",
    "&& 0 x_1 + 1 x_2 + 2 x_3 + 2 x_4 + 1 x_5 \\ge 12 \\nonumber \\\\\n",
    "&& x_1,\\ldots,x_5 \\ge 0.\n",
    "\\end{eqnarray}\n",
    "\n",
    "Writing down this small LP is a useful exercise, but we will need to write down a more general version of the model if we are ever to write a program that could solve any instance of the diet problem."
   ]
  },
  {
   "cell_type": "markdown",
   "metadata": {},
   "source": [
    "Before digging in to this example, let's demonstrate a useful method Gurobi has provided called quicksum. This method allows us to build LinExpr objects in a programatic way. As an example:"
   ]
  },
  {
   "cell_type": "code",
   "execution_count": null,
   "metadata": {},
   "outputs": [],
   "source": [
    "import gurobipy as grb\n",
    "m = grb.Model()\n",
    "J = [0, 1, 2]\n",
    "x = [m.addVar() for j in J]\n",
    "m.update()\n",
    "c = [5, 3, 7]\n",
    "print(grb.quicksum(c[j] * x[j] for j in J))"
   ]
  },
  {
   "cell_type": "markdown",
   "metadata": {},
   "source": [
    "<H3>Sets and Indices</H3>\n",
    "\n",
    "An LP consists of decision variables, constraints, and an objective, all of which we'll need to define, but none of which we can define until we create a notation for the various sets in the problem. For the diet problem, the relevant entities are nutrients and food types. We'll start by defining the following sets:\n",
    "\n",
    "* $i \\in I$: nutrients\n",
    "* $j \\in J$: food types\n",
    "\n",
    "The convention we prefer is to use an upper case letter to denote the full set, and a lower case letter to denote an element of that set. The symbol $\\in$ can be read as ``in'', so $i \\in I$ tells you that $i$ is a particular nutrient that is in $I$, the full set of nutrients.\n",
    "\n",
    "Defining the relevant sets is typically the first step in modeling."
   ]
  },
  {
   "cell_type": "markdown",
   "metadata": {},
   "source": [
    "<H3>Data</H3>\n",
    "\n",
    "Once we have defined our sets, we can take our input data and write it in a more general way. Since LPs can have any mixture of $\\ge$, $\\le$, and $=$ constraints, we can generalize the nutrient requirements to include both a lower and upper bound on each nutrient.\n",
    "\n",
    "* $c_j$: per ounce cost of food type $j$\n",
    "* $a_{ij}$: quantity of nutrient $i$ per ounce of food type $j$\n",
    "* $l_i, u_i$: minimum, maximum daily requirements for nutrient $i$"
   ]
  },
  {
   "cell_type": "markdown",
   "metadata": {},
   "source": [
    "<H3>Decision Variables</H3>\n",
    "\n",
    "* $x_j$: the number of ounces to consume of food type $j$\n",
    "\n",
    "With the decision variables and data written in a generic way, we can write down expressions for the total cost, and for the quantity of each nutrient in our diet."
   ]
  },
  {
   "cell_type": "markdown",
   "metadata": {},
   "source": [
    "<H3>Objective</H3>\n",
    "\n",
    "The total cost can be obtained by multiplying the number of ounces consumed of a food type, $x_j$, by the per ounce cost of that food type, $c_j$, then summing over all food types $j \\in J$. We'll use $\\sum$ notation to denote sums, putting the set we are summing over under the $\\sum$. The objective can therefore be written as $\\sum_{j \\in J} c_j x_j$."
   ]
  },
  {
   "cell_type": "markdown",
   "metadata": {},
   "source": [
    "<H3>Constraints</H3>\n",
    "\n",
    "To write down constraints that enforce bounds on nutrient consumption, we'll need to write down an expression for the quantity of each nutrient we consume. \n",
    "\n",
    "Let's fix the nutrient $i$. Food type $j$'s contribution of nutrient $i$ will be the product of the per ounce quantity of nutrient $i$, $a_{ij}$, by the number of ounces consumed, $x_j$. We'll sum this product over all food types $j \\in J$, again using $\\sum$ notation. The resulting expression will be $\\sum_{j \\in J} a_{ij}x_j$.\n",
    "\n",
    "This expression is valid for any nutrient $i \\in I$. This gives us all we need to formulate the diet problem as an LP."
   ]
  },
  {
   "cell_type": "markdown",
   "metadata": {},
   "source": [
    "<H3>Formulation</H3>\n",
    "\\begin{eqnarray}\n",
    "\\min_x && \\sum_{j \\in J} c_j x_j \\nonumber \\\\\n",
    "\\mbox{s.t.} && l_i \\le \\sum_{j \\in J} a_{ij} x_j \\le u_i,\\;\\;i \\in I \\nonumber \\\\\n",
    "&& x_j \\ge 0,\\;\\;j \\in J. \\nonumber\n",
    "\\end{eqnarray}"
   ]
  },
  {
   "cell_type": "markdown",
   "metadata": {
    "collapsed": true
   },
   "source": [
    "We can now write a method to build the model and solve it with Gurobi, but let's define our inputs and write a test case first. We can test with a sample instance that we already know the solution to."
   ]
  },
  {
   "cell_type": "code",
   "execution_count": null,
   "metadata": {},
   "outputs": [],
   "source": [
    "import unittest\n",
    "import gurobipy as grb\n",
    "GRB = grb.GRB\n",
    "class TestDiet(unittest.TestCase):\n",
    "    def test_diet(self):\n",
    "        costs = {1: 20, 2: 10, 3: 31, 4: 11, 5: 12}\n",
    "        nutrient_densities = {(1, 'iron'): 2, (1, 'calcium'): 0,\n",
    "                              (2, 'iron'): 0, (2, 'calcium'): 1,\n",
    "                              (3, 'iron'): 3, (3, 'calcium'): 2,\n",
    "                              (4, 'iron'): 1, (4, 'calcium'): 2,\n",
    "                              (5, 'iron'): 2, (5, 'calcium'): 1}\n",
    "        nutrient_requirements = {'iron': [21, GRB.INFINITY], 'calcium': [12, GRB.INFINITY]}\n",
    "        ounces_consumed = solve_diet_problem(nutrient_densities, costs, nutrient_requirements)\n",
    "        self.assertAlmostEqual(ounces_consumed[1], 0)\n",
    "        self.assertAlmostEqual(ounces_consumed[2], 0)\n",
    "        self.assertAlmostEqual(ounces_consumed[3], 0)\n",
    "        self.assertAlmostEqual(ounces_consumed[4], 1)\n",
    "        self.assertAlmostEqual(ounces_consumed[5], 10)"
   ]
  },
  {
   "cell_type": "markdown",
   "metadata": {},
   "source": [
    "Now let's implement the solve_diet_problem method. We have a constraint that puts both a lower and upper bound on a linear expression. We'll find the Model.addRange method useful for this, and prefer to use that as opposed to making two calls to Model.addConstr."
   ]
  },
  {
   "cell_type": "code",
   "execution_count": null,
   "metadata": {},
   "outputs": [],
   "source": [
    "grb.Model.addRange?"
   ]
  },
  {
   "cell_type": "code",
   "execution_count": null,
   "metadata": {},
   "outputs": [],
   "source": [
    "def solve_diet_problem(nutrient_densities, costs, nutrient_requirements):\n",
    "    m = grb.Model()\n",
    "    #Add a variable with an appropriate objective value and name for each food type\n",
    "    ounces_consumed = {food_type: m.addVar(...)\n",
    "                       for food_type, cost in costs.items()}\n",
    "    m.update()\n",
    "    nutrient_constraints = {}\n",
    "    food_types = costs.keys()\n",
    "    for nutrient, (min_requirement, max_requirement) in nutrient_requirements.items():\n",
    "        #Create a linear expression for the nutrient requirement\n",
    "        nutrient_consumed = grb.quicksum(...)\n",
    "        #And generate the appropriate constraint\n",
    "        constr = m.addRange(...)\n",
    "        nutrient_constraints[nutrient] = constr\n",
    "    m.optimize()\n",
    "    if m.status == GRB.OPTIMAL:\n",
    "        return {food_type: var.X for food_type, var in ounces_consumed.items()}\n",
    "    raise Exception(\"Model was infeasible.\")"
   ]
  },
  {
   "cell_type": "code",
   "execution_count": null,
   "metadata": {},
   "outputs": [],
   "source": [
    "suite = unittest.TestLoader().loadTestsFromTestCase(TestDiet)\n",
    "unittest.TextTestRunner().run(suite)"
   ]
  },
  {
   "cell_type": "code",
   "execution_count": null,
   "metadata": {},
   "outputs": [],
   "source": []
  },
  {
   "cell_type": "code",
   "execution_count": null,
   "metadata": {},
   "outputs": [],
   "source": []
  }
 ],
 "metadata": {
  "kernelspec": {
   "display_name": "Python 3",
   "language": "python",
   "name": "python3"
  },
  "language_info": {
   "codemirror_mode": {
    "name": "ipython",
    "version": 3
   },
   "file_extension": ".py",
   "mimetype": "text/x-python",
   "name": "python",
   "nbconvert_exporter": "python",
   "pygments_lexer": "ipython3",
   "version": "3.7.1"
  }
 },
 "nbformat": 4,
 "nbformat_minor": 1
}

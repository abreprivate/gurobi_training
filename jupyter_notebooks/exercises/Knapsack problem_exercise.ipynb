{
 "cells": [
  {
   "cell_type": "markdown",
   "metadata": {},
   "source": [
    "### Summation Notation"
   ]
  },
  {
   "cell_type": "markdown",
   "metadata": {},
   "source": [
    "Linear programs typically involve sums over many decision variables. We introduce sigma notation ($\\sum$) as a shorthand way to represent arbitrarily large sums.\n",
    "\n",
    "Consider the set $I = \\{1, 2, 3\\}$. The expression \n",
    "\\begin{equation}\n",
    "\\sum_{i \\in I} a_i x_i\n",
    "\\end{equation}\n",
    "is shorthand for the sum \n",
    "\\begin{equation}\n",
    "a_1 x_1 + a_2 x_2 + a_3 x_3.\n",
    "\\end{equation}\n",
    "The symbol $\\in$ is read as \"in\". \n",
    "\n",
    "What we gain from adopting this notation is that now if we consider $I = \\{1, 2, \\ldots, n\\}$ for an arbitrary $n$,  $\\sum_{i \\in I} a_i x_i = a_1 x_1 + a_2 x_2 + \\cdots + a_n x_n$. That is, we can write arbitrarily-sized sums in one shot."
   ]
  },
  {
   "cell_type": "markdown",
   "metadata": {},
   "source": [
    "### Knapsack problem"
   ]
  },
  {
   "cell_type": "markdown",
   "metadata": {},
   "source": [
    "Suppose you are given a set of items $I = \\{1, \\ldots, n\\}$, each with a value $v_i$ and a weight $w_i$. We have a knapsack that has a weight capacity of $b$. What is the highest valued collection of items that can go into the knapsack? Assume that you can put fractions of items into the knapsack.\n",
    "\n",
    "Let $x_i, i \\in I$ be the fraction of item $i$ that goes in the knapsack. We can use sigma notation to write expressions for the value and weight of our collection of items. The total value is given by $\\sum_{i \\in I} v_i x_i$ and the total weight is given by $\\sum_{i \\in I} w_i x_i$. Then we can formulate our problem as a linear program:"
   ]
  },
  {
   "cell_type": "markdown",
   "metadata": {},
   "source": [
    "\\begin{eqnarray}\n",
    "\\max_x && \\sum_{i \\in I} v_i x_i \\\\\n",
    "\\mbox{s.t.} && \\sum_{i \\in I} w_i x_i \\le b \\\\\n",
    "&& 0 \\le x_i \\le 1,\\;\\;i \\in I.\n",
    "\\end{eqnarray}\n",
    "\n",
    "Consider the following data:"
   ]
  },
  {
   "cell_type": "code",
   "execution_count": null,
   "metadata": {},
   "outputs": [],
   "source": [
    "weights = [70, 73, 77, 80, 82, 87, 90, 94, 98, 106, 110, 113, 115, 118, 120]\n",
    "values = [135, 139, 149, 150, 156, 163, 173, 184, 192, 201, 210, 214, 221, 229, 240]\n",
    "I = range(len(values))\n",
    "capacity = 750"
   ]
  },
  {
   "cell_type": "markdown",
   "metadata": {},
   "source": [
    "First, we're going to need to instantiate the decision variables and save references to them in a data structure. We'll use a Python list for this purpose."
   ]
  },
  {
   "cell_type": "code",
   "execution_count": null,
   "metadata": {},
   "outputs": [],
   "source": [
    "import gurobipy as grb\n",
    "from gurobipy import GRB"
   ]
  },
  {
   "cell_type": "code",
   "execution_count": null,
   "metadata": {},
   "outputs": [],
   "source": [
    "m = grb.Model()"
   ]
  },
  {
   "cell_type": "code",
   "execution_count": null,
   "metadata": {},
   "outputs": [],
   "source": [
    "item_selected = []\n",
    "for i in I:\n",
    "    #Add a variable with an appropriate objective value and name\n",
    "    item_selected.append(m.addVar(...))"
   ]
  },
  {
   "cell_type": "code",
   "execution_count": null,
   "metadata": {},
   "outputs": [],
   "source": [
    "m.update()"
   ]
  },
  {
   "cell_type": "markdown",
   "metadata": {},
   "source": [
    "Now we need to write the knapsack capacity constraint, which means we'll need an expression for the total weight of our collection of items (in terms of the decision variables we just created). We use a LinExpr object for this purpose, and we've got a few options to build up this object. The first uses some syntactic sugar that is only available through the Python API, namely the quicksum method."
   ]
  },
  {
   "cell_type": "code",
   "execution_count": null,
   "metadata": {},
   "outputs": [],
   "source": [
    "grb.quicksum(weights[i]*item_selected[i] for i in I)"
   ]
  },
  {
   "cell_type": "markdown",
   "metadata": {},
   "source": [
    "A slightly less slick way to acheive this is through a for loop."
   ]
  },
  {
   "cell_type": "code",
   "execution_count": null,
   "metadata": {},
   "outputs": [],
   "source": [
    "total_weight = LinExpr()\n",
    "for i in I:\n",
    "    total_weight += weights[i]*item_selected[i]\n",
    "print(total_weight)"
   ]
  },
  {
   "cell_type": "markdown",
   "metadata": {},
   "source": [
    "Here, the += operator is overloaded to return a LinExpr object as opposed to doing arithmetic. Operator overloading isn't available in Java, and is not advisable in .NET. Those API's provide methods on the LinExpr (really GRBLinExpr) object that do the same job."
   ]
  },
  {
   "cell_type": "code",
   "execution_count": null,
   "metadata": {},
   "outputs": [],
   "source": [
    "total_weight = LinExpr()\n",
    "for i in I:\n",
    "    total_weight.add(item_selected[i], weights[i])\n",
    "print(total_weight)"
   ]
  },
  {
   "cell_type": "markdown",
   "metadata": {},
   "source": [
    "However we build up the summation of the weights, we can use the LinExpr object as the left-hand side of a constraint."
   ]
  },
  {
   "cell_type": "code",
   "execution_count": null,
   "metadata": {},
   "outputs": [],
   "source": [
    "#Add an appropriate constraint to ensure that the weight capacity isn't violated\n",
    "weight_con = m.addConstr(...)"
   ]
  },
  {
   "cell_type": "code",
   "execution_count": null,
   "metadata": {},
   "outputs": [],
   "source": [
    "m.update()"
   ]
  },
  {
   "cell_type": "code",
   "execution_count": null,
   "metadata": {},
   "outputs": [],
   "source": [
    "m.write('knapsack.lp')"
   ]
  },
  {
   "cell_type": "code",
   "execution_count": null,
   "metadata": {},
   "outputs": [],
   "source": [
    "!type knapsack.lp"
   ]
  },
  {
   "cell_type": "code",
   "execution_count": null,
   "metadata": {},
   "outputs": [],
   "source": [
    "m.optimize()"
   ]
  },
  {
   "cell_type": "markdown",
   "metadata": {},
   "source": [
    "Remember that Gurobi will minimize by default..."
   ]
  },
  {
   "cell_type": "code",
   "execution_count": null,
   "metadata": {},
   "outputs": [],
   "source": [
    "m.ModelSense = GRB.MAXIMIZE"
   ]
  },
  {
   "cell_type": "code",
   "execution_count": null,
   "metadata": {},
   "outputs": [],
   "source": [
    "m.optimize()"
   ]
  },
  {
   "cell_type": "code",
   "execution_count": null,
   "metadata": {},
   "outputs": [],
   "source": [
    "for var in item_selected:\n",
    "    print(var.VarName, var.X)"
   ]
  },
  {
   "cell_type": "code",
   "execution_count": null,
   "metadata": {},
   "outputs": [],
   "source": [
    "for var in item_selected:\n",
    "    var.vtype = GRB.BINARY"
   ]
  },
  {
   "cell_type": "code",
   "execution_count": null,
   "metadata": {},
   "outputs": [],
   "source": [
    "m.optimize()"
   ]
  },
  {
   "cell_type": "code",
   "execution_count": null,
   "metadata": {},
   "outputs": [],
   "source": [
    "for var in item_selected:\n",
    "    print(var.VarName, var.X)"
   ]
  },
  {
   "cell_type": "markdown",
   "metadata": {},
   "source": [
    "We can wrap this up in a method that takes in the data and returns a Model."
   ]
  },
  {
   "cell_type": "code",
   "execution_count": null,
   "metadata": {},
   "outputs": [],
   "source": [
    "def get_knapsack_model(capacity, weights, values):\n",
    "    items = range(len(weights))\n",
    "    m = Model()\n",
    "    m.ModelSense = GRB.MAXIMIZE\n",
    "    item_selected = [m.addVar(...)\n",
    "                              for item in items]\n",
    "    m.update()\n",
    "    m.addConstr(...)\n",
    "    m.update()\n",
    "    return m"
   ]
  },
  {
   "cell_type": "markdown",
   "metadata": {},
   "source": [
    "Let's try this with a different set of inputs:"
   ]
  },
  {
   "cell_type": "code",
   "execution_count": null,
   "metadata": {},
   "outputs": [],
   "source": [
    "m = get_knapsack_model(capacity=104,\n",
    "                       weights=[25, 35, 45, 5, 25, 3, 2, 2],\n",
    "                       values=[350, 400, 450, 20, 70, 8, 5, 5])"
   ]
  },
  {
   "cell_type": "code",
   "execution_count": null,
   "metadata": {},
   "outputs": [],
   "source": [
    "m.optimize()"
   ]
  },
  {
   "cell_type": "code",
   "execution_count": null,
   "metadata": {},
   "outputs": [],
   "source": [
    "for var in m.getVars():\n",
    "    print(var.VarName, var.X)"
   ]
  },
  {
   "cell_type": "markdown",
   "metadata": {},
   "source": [
    "We can see that we selected the first two items and 97.7% of the third. What if we aren't allowed to include fractions of items in the knapsack?"
   ]
  },
  {
   "cell_type": "code",
   "execution_count": null,
   "metadata": {},
   "outputs": [],
   "source": [
    "for var in m.getVars():\n",
    "    var.vtype = GRB.BINARY"
   ]
  },
  {
   "cell_type": "code",
   "execution_count": null,
   "metadata": {},
   "outputs": [],
   "source": [
    "m.optimize()"
   ]
  },
  {
   "cell_type": "code",
   "execution_count": null,
   "metadata": {},
   "outputs": [],
   "source": [
    "for var in m.getVars():\n",
    "    print(var.VarName, var.X)"
   ]
  },
  {
   "cell_type": "markdown",
   "metadata": {},
   "source": [
    "Now we've really solved an integer program, and it's worth noting that the solution is considerably different than that of the linear programming version of the problem."
   ]
  }
 ],
 "metadata": {
  "kernelspec": {
   "display_name": "Python 3",
   "language": "python",
   "name": "python3"
  },
  "language_info": {
   "codemirror_mode": {
    "name": "ipython",
    "version": 3
   },
   "file_extension": ".py",
   "mimetype": "text/x-python",
   "name": "python",
   "nbconvert_exporter": "python",
   "pygments_lexer": "ipython3",
   "version": "3.7.1"
  }
 },
 "nbformat": 4,
 "nbformat_minor": 1
}

{
 "cells": [
  {
   "cell_type": "markdown",
   "metadata": {},
   "source": [
    "<H1>The Transportation Problem</H1>\n",
    "* Consider a set of warehouses each with a given inventory of widgets, and a set of demand centers each with a given demand for widgets. \n",
    "* How many widgets should we ship from each warehouse to each demand center such that all demand is satisfied and shipping costs are minimized?"
   ]
  },
  {
   "cell_type": "markdown",
   "metadata": {},
   "source": [
    "![Transportation Problem](transportation_problem.png)\n",
    "<H3> Sets and Indices </H3>\n",
    "* $i \\in I$: Warehouses\n",
    "* $j \\in J$: Customers (demand centers)\n",
    "\n",
    "<H3>Data</H3>\n",
    "* $u_i$: capacity for warehouse $i$ (widgets)\n",
    "* $d_j$: demand at demand center $j$ (widgets)\n",
    "* $c_{ij}$: shipping cost from warehouse $i$ to customer $j$ ($/widget)\n",
    "\n",
    "<H3>Decision Variables</H3>\n",
    "* $x_{ij}$: number of widgets to ship from warehouse $i$ to customer $j$\n",
    "\n",
    "<H3>Linear Programming Formulation</H3>\n",
    "\\begin{eqnarray}\n",
    "\\min_{x} && \\sum_{i \\in I} \\sum_{j \\in J} c_{ij} x_{ij} \\;\\; \\mbox{(minimize shipping costs)} \\nonumber \\\\\n",
    "\\mbox{s.t.} && \\sum_{i \\in I} x_{ij} = d_j,\\;\\;j \\in J \\;\\; \\mbox{(satisfy demand)}\\nonumber \\\\\n",
    "&& \\sum_{j \\in J} x_{ij} \\le u_i,\\;\\;i \\in I \\;\\; \\mbox{(don't exceed capacity)} \\nonumber \\\\\n",
    "&& x_{ij} \\ge 0, \\;\\;i \\in I,\\;j \\in J \\;\\; \\mbox{(ship nonnegative quantities)} \\nonumber\n",
    "\\end{eqnarray}"
   ]
  },
  {
   "cell_type": "markdown",
   "metadata": {},
   "source": [
    "<H3>Inputs</H3>\n",
    "\n",
    "We'll consider a test data set with four demand centers that have the following demands:"
   ]
  },
  {
   "cell_type": "code",
   "execution_count": 1,
   "metadata": {},
   "outputs": [],
   "source": [
    "demands = [15, 18, 14, 20]"
   ]
  },
  {
   "cell_type": "markdown",
   "metadata": {},
   "source": [
    "And with five warehouses that have the following widget capacities:"
   ]
  },
  {
   "cell_type": "code",
   "execution_count": 2,
   "metadata": {},
   "outputs": [],
   "source": [
    "capacities = [20, 22, 17, 19, 18]"
   ]
  },
  {
   "cell_type": "code",
   "execution_count": 3,
   "metadata": {},
   "outputs": [
    {
     "name": "stdout",
     "output_type": "stream",
     "text": [
      "range(0, 5)\n"
     ]
    }
   ],
   "source": [
    "warehouses = range(len(capacities))\n",
    "customers = range(len(demands))\n",
    "print (warehouses)"
   ]
  },
  {
   "cell_type": "markdown",
   "metadata": {},
   "source": [
    "Finally, we'll need to know the per unit shipping costs between each warehouse and demand center."
   ]
  },
  {
   "cell_type": "code",
   "execution_count": 4,
   "metadata": {},
   "outputs": [],
   "source": [
    "ship_costs =  [[4000, 2500, 1200, 2200],\n",
    "               [2000, 2600, 1800, 2600],\n",
    "               [3000, 3400, 2600, 3100],\n",
    "               [2500, 3000, 4100, 3700],\n",
    "               [4500, 4000, 3000, 3200]]"
   ]
  },
  {
   "cell_type": "markdown",
   "metadata": {},
   "source": [
    "<H3>Decision Variables</H3>\n",
    "\n",
    "For each warehouse, customer pair, we'll need to decide how many units to ship. After adding those variables, we can think about how to generate the linear expressions needed to create the model."
   ]
  },
  {
   "cell_type": "code",
   "execution_count": 5,
   "metadata": {},
   "outputs": [
    {
     "name": "stdout",
     "output_type": "stream",
     "text": [
      "Using license file C:\\Users\\liaml\\gurobi.lic\n",
      "Academic license - for non-commercial use only\n"
     ]
    },
    {
     "data": {
      "text/plain": [
       "{(0, 0): <gurobi.Var *Awaiting Model Update*>,\n",
       " (0, 1): <gurobi.Var *Awaiting Model Update*>,\n",
       " (0, 2): <gurobi.Var *Awaiting Model Update*>,\n",
       " (0, 3): <gurobi.Var *Awaiting Model Update*>,\n",
       " (1, 0): <gurobi.Var *Awaiting Model Update*>,\n",
       " (1, 1): <gurobi.Var *Awaiting Model Update*>,\n",
       " (1, 2): <gurobi.Var *Awaiting Model Update*>,\n",
       " (1, 3): <gurobi.Var *Awaiting Model Update*>,\n",
       " (2, 0): <gurobi.Var *Awaiting Model Update*>,\n",
       " (2, 1): <gurobi.Var *Awaiting Model Update*>,\n",
       " (2, 2): <gurobi.Var *Awaiting Model Update*>,\n",
       " (2, 3): <gurobi.Var *Awaiting Model Update*>,\n",
       " (3, 0): <gurobi.Var *Awaiting Model Update*>,\n",
       " (3, 1): <gurobi.Var *Awaiting Model Update*>,\n",
       " (3, 2): <gurobi.Var *Awaiting Model Update*>,\n",
       " (3, 3): <gurobi.Var *Awaiting Model Update*>,\n",
       " (4, 0): <gurobi.Var *Awaiting Model Update*>,\n",
       " (4, 1): <gurobi.Var *Awaiting Model Update*>,\n",
       " (4, 2): <gurobi.Var *Awaiting Model Update*>,\n",
       " (4, 3): <gurobi.Var *Awaiting Model Update*>}"
      ]
     },
     "execution_count": 5,
     "metadata": {},
     "output_type": "execute_result"
    }
   ],
   "source": [
    "import gurobipy as grb\n",
    "model = grb.Model()\n",
    "model.addVars(warehouses, customers, name='ship')"
   ]
  },
  {
   "cell_type": "markdown",
   "metadata": {},
   "source": [
    "<H3>Linear Expressions</H3>\n",
    "\n",
    "This transportation model has two families of constraints. It is important to understand for each constraint which index set is being looped over, and which is being summed over. For demands, there exists one constraint per customer and each constraint involves a sum over the warehouses, and for supplies there exists one constraint per warehouse and each constraint involves a sum over the customers.\n",
    "\n",
    "Let's create a test model and experiment with generating expressions out of the ship variables."
   ]
  },
  {
   "cell_type": "code",
   "execution_count": 6,
   "metadata": {},
   "outputs": [
    {
     "data": {
      "text/plain": [
       "{(0, 0): <gurobi.Var ship[0,0]>,\n",
       " (0, 1): <gurobi.Var ship[0,1]>,\n",
       " (0, 2): <gurobi.Var ship[0,2]>,\n",
       " (0, 3): <gurobi.Var ship[0,3]>,\n",
       " (1, 0): <gurobi.Var ship[1,0]>,\n",
       " (1, 1): <gurobi.Var ship[1,1]>,\n",
       " (1, 2): <gurobi.Var ship[1,2]>,\n",
       " (1, 3): <gurobi.Var ship[1,3]>,\n",
       " (2, 0): <gurobi.Var ship[2,0]>,\n",
       " (2, 1): <gurobi.Var ship[2,1]>,\n",
       " (2, 2): <gurobi.Var ship[2,2]>,\n",
       " (2, 3): <gurobi.Var ship[2,3]>,\n",
       " (3, 0): <gurobi.Var ship[3,0]>,\n",
       " (3, 1): <gurobi.Var ship[3,1]>,\n",
       " (3, 2): <gurobi.Var ship[3,2]>,\n",
       " (3, 3): <gurobi.Var ship[3,3]>,\n",
       " (4, 0): <gurobi.Var ship[4,0]>,\n",
       " (4, 1): <gurobi.Var ship[4,1]>,\n",
       " (4, 2): <gurobi.Var ship[4,2]>,\n",
       " (4, 3): <gurobi.Var ship[4,3]>}"
      ]
     },
     "execution_count": 6,
     "metadata": {},
     "output_type": "execute_result"
    }
   ],
   "source": [
    "import gurobipy as grb\n",
    "m = grb.Model()\n",
    "warehouses = range(len(capacities))\n",
    "customers = range(len(demands))\n",
    "to_ship = m.addVars(warehouses, customers, name='ship')\n",
    "\n",
    "m.update()\n",
    "to_ship"
   ]
  },
  {
   "cell_type": "markdown",
   "metadata": {},
   "source": [
    "We'll pick a customer first, say customer 0, and generate an expression for the number of units that customer received."
   ]
  },
  {
   "cell_type": "code",
   "execution_count": 7,
   "metadata": {},
   "outputs": [
    {
     "data": {
      "text/plain": [
       "<gurobi.LinExpr: ship[0,0] + ship[1,0] + ship[2,0] + ship[3,0] + ship[4,0]>"
      ]
     },
     "execution_count": 7,
     "metadata": {},
     "output_type": "execute_result"
    }
   ],
   "source": [
    "grb.quicksum(to_ship[warehouse, 0] for warehouse in warehouses)"
   ]
  },
  {
   "cell_type": "markdown",
   "metadata": {},
   "source": [
    "This fixes customer $c_0$, and sums over the warehouses $w_0,\\ldots,w_4$. If this works for customer $c_0$, it should work for the rest of the customers if we add an outer loop."
   ]
  },
  {
   "cell_type": "code",
   "execution_count": 8,
   "metadata": {},
   "outputs": [
    {
     "name": "stdout",
     "output_type": "stream",
     "text": [
      "<gurobi.LinExpr: ship[0,0] + ship[1,0] + ship[2,0] + ship[3,0] + ship[4,0]>\n",
      "<gurobi.LinExpr: ship[0,1] + ship[1,1] + ship[2,1] + ship[3,1] + ship[4,1]>\n",
      "<gurobi.LinExpr: ship[0,2] + ship[1,2] + ship[2,2] + ship[3,2] + ship[4,2]>\n",
      "<gurobi.LinExpr: ship[0,3] + ship[1,3] + ship[2,3] + ship[3,3] + ship[4,3]>\n"
     ]
    }
   ],
   "source": [
    "for customer in customers:\n",
    "    print (grb.quicksum(to_ship[warehouse, customer] for warehouse in warehouses))"
   ]
  },
  {
   "cell_type": "markdown",
   "metadata": {},
   "source": [
    "We could also replicate this functionality with Gurobi's built in .sum() method, which works on tupledicts like the one that holds our variables."
   ]
  },
  {
   "cell_type": "code",
   "execution_count": 9,
   "metadata": {},
   "outputs": [
    {
     "name": "stdout",
     "output_type": "stream",
     "text": [
      "<gurobi.LinExpr: ship[0,0] + ship[1,0] + ship[2,0] + ship[3,0] + ship[4,0]>\n",
      "<gurobi.LinExpr: ship[0,1] + ship[1,1] + ship[2,1] + ship[3,1] + ship[4,1]>\n",
      "<gurobi.LinExpr: ship[0,2] + ship[1,2] + ship[2,2] + ship[3,2] + ship[4,2]>\n",
      "<gurobi.LinExpr: ship[0,3] + ship[1,3] + ship[2,3] + ship[3,3] + ship[4,3]>\n"
     ]
    }
   ],
   "source": [
    "for customer in customers:\n",
    "    print(to_ship.sum('*', customer))"
   ]
  },
  {
   "cell_type": "markdown",
   "metadata": {},
   "source": [
    "This should have generated a linear expression for each customer $c_0,\\ldots,c_3$. If so, these are the LinExpr objects we need to construct demand constraints. The takeaway is that the set we are summing over should participate in the inner loop, and the set we are writing the constraint over should participate in the outer loop.\n",
    "\n",
    "To generate expressions for the supply constraints, we'll need to fix a warehouse and sum over the customers, so we'll want customers on the inner loop and warehouses on the outer."
   ]
  },
  {
   "cell_type": "code",
   "execution_count": 10,
   "metadata": {},
   "outputs": [
    {
     "name": "stdout",
     "output_type": "stream",
     "text": [
      "<gurobi.LinExpr: ship[0,0] + ship[0,1] + ship[0,2] + ship[0,3]>\n",
      "<gurobi.LinExpr: ship[1,0] + ship[1,1] + ship[1,2] + ship[1,3]>\n",
      "<gurobi.LinExpr: ship[2,0] + ship[2,1] + ship[2,2] + ship[2,3]>\n",
      "<gurobi.LinExpr: ship[3,0] + ship[3,1] + ship[3,2] + ship[3,3]>\n",
      "<gurobi.LinExpr: ship[4,0] + ship[4,1] + ship[4,2] + ship[4,3]>\n"
     ]
    }
   ],
   "source": [
    "for warehouse in warehouses:\n",
    "    print (grb.quicksum(to_ship[warehouse, customer] for customer in customers))"
   ]
  },
  {
   "cell_type": "markdown",
   "metadata": {},
   "source": [
    "Each LinExpr object we just generated should consider a single warehouse and sum over all customers."
   ]
  },
  {
   "cell_type": "markdown",
   "metadata": {},
   "source": [
    "<H3>Constraints</H3>\n",
    "\n",
    "Generating the correct LinExpr objects for each demand and supply is most of the challenge. We can turn each LinExpr into a constraint by using the overloaded $<=$, $>=$, and $==$ operators.\n",
    "\n",
    "For the demand constraints, we'll loop over the customers and sum over the warehouses.\n",
    "\n",
    "Note: We are using Python's list comprehension syntax here, which puts the outer for loop inside the []. It is still the case that the outer loop iterates over the customer, and the inner loop sums over the warehouses."
   ]
  },
  {
   "cell_type": "code",
   "execution_count": 11,
   "metadata": {},
   "outputs": [],
   "source": [
    "def get_demand_constrs(model, to_ship, demands):\n",
    "    return [model.addConstr(grb.quicksum(to_ship[warehouse, customer] for warehouse in warehouses) == demand,\n",
    "                            name='demand.' + str(customer))\n",
    "           for customer, demand in enumerate(demands)]"
   ]
  },
  {
   "cell_type": "code",
   "execution_count": 12,
   "metadata": {},
   "outputs": [],
   "source": [
    "def get_demand_constrs(model, to_ship, demands):\n",
    "    return model.addConstrs((to_ship.sum('*', customer) == demand for customer, demand in enumerate(demands)),\n",
    "                            name='demand')"
   ]
  },
  {
   "cell_type": "markdown",
   "metadata": {},
   "source": [
    "We can write a similar method to generate the capacity constraints."
   ]
  },
  {
   "cell_type": "code",
   "execution_count": 13,
   "metadata": {},
   "outputs": [],
   "source": [
    "def get_capacity_constrs(model, to_ship, capacities):\n",
    "    return [model.addConstr(grb.quicksum(to_ship[warehouse, customer] for customer in customers) <= capacity,\n",
    "                            name='capacity.' + str(warehouse))\n",
    "            for warehouse, capacity in enumerate(capacities)]"
   ]
  },
  {
   "cell_type": "code",
   "execution_count": 14,
   "metadata": {},
   "outputs": [],
   "source": [
    "def get_capacity_constrs(model, to_ship, capacities):\n",
    "    return model.addConstrs((to_ship.sum(warehouse, '*') <= capacity for warehouse, capacity in enumerate(capacities)),\n",
    "                            name='capacity')\n"
   ]
  },
  {
   "cell_type": "markdown",
   "metadata": {},
   "source": [
    "<H3>Solving the Model</H3>\n",
    "\n",
    "Now we have the building blocks needed to build and solve a transportation model. Let's put it all together."
   ]
  },
  {
   "cell_type": "code",
   "execution_count": 15,
   "metadata": {},
   "outputs": [],
   "source": [
    "import gurobipy as grb\n",
    "GRB = grb.GRB\n",
    "def solve_transportation_model(capacities, demands):\n",
    "    model = grb.Model()\n",
    "    warehouses = range(len(capacities))\n",
    "    customers = range(len(demands))\n",
    "    to_ship = model.addVars(warehouses, customers, name='ship')\n",
    "    model.update()\n",
    "    capacity_constrs = get_capacity_constrs(model, to_ship, capacities)\n",
    "    demand_constrs = get_demand_constrs(model, to_ship, demands)\n",
    "    model.setObjective(grb.quicksum(ship_costs[warehouse][customer]*to_ship[warehouse, customer]\n",
    "                                for warehouse in warehouses\n",
    "                                for customer in customers))\n",
    "    model.optimize()\n",
    "    if model.Status == GRB.OPTIMAL:\n",
    "        for (warehouse, customer), var in sorted(to_ship.items()):\n",
    "            if var.X > 1e-4:\n",
    "                print (\"Ship\", var.X, \"units from warehouse\", warehouse, \"to customer\", customer)"
   ]
  },
  {
   "cell_type": "code",
   "execution_count": 16,
   "metadata": {},
   "outputs": [
    {
     "name": "stdout",
     "output_type": "stream",
     "text": [
      "Gurobi Optimizer version 9.0.2 build v9.0.2rc0 (win64)\n",
      "Optimize a model with 9 rows, 20 columns and 40 nonzeros\n",
      "Model fingerprint: 0x0cf54468\n",
      "Coefficient statistics:\n",
      "  Matrix range     [1e+00, 1e+00]\n",
      "  Objective range  [1e+03, 5e+03]\n",
      "  Bounds range     [0e+00, 0e+00]\n",
      "  RHS range        [1e+01, 2e+01]\n",
      "Presolve time: 0.02s\n",
      "Presolved: 9 rows, 20 columns, 40 nonzeros\n",
      "\n",
      "Iteration    Objective       Primal Inf.    Dual Inf.      Time\n",
      "       0    1.3580000e+05   3.200000e+01   0.000000e+00      0s\n",
      "       4    1.5390000e+05   0.000000e+00   0.000000e+00      0s\n",
      "\n",
      "Solved in 4 iterations and 0.03 seconds\n",
      "Optimal objective  1.539000000e+05\n",
      "Ship 14.0 units from warehouse 0 to customer 2\n",
      "Ship 6.0 units from warehouse 0 to customer 3\n",
      "Ship 15.0 units from warehouse 1 to customer 0\n",
      "Ship 7.0 units from warehouse 1 to customer 3\n",
      "Ship 7.0 units from warehouse 2 to customer 3\n",
      "Ship 18.0 units from warehouse 3 to customer 1\n"
     ]
    }
   ],
   "source": [
    "solve_transportation_model(capacities, demands)"
   ]
  },
  {
   "cell_type": "code",
   "execution_count": 17,
   "metadata": {},
   "outputs": [],
   "source": [
    "m = grb.Model()"
   ]
  },
  {
   "cell_type": "code",
   "execution_count": 18,
   "metadata": {},
   "outputs": [],
   "source": [
    "x = m.addVar()"
   ]
  },
  {
   "cell_type": "code",
   "execution_count": 19,
   "metadata": {},
   "outputs": [],
   "source": [
    "m.update()"
   ]
  },
  {
   "cell_type": "code",
   "execution_count": 20,
   "metadata": {},
   "outputs": [
    {
     "data": {
      "text/plain": [
       "<gurobi.Constr *Awaiting Model Update*>"
      ]
     },
     "execution_count": 20,
     "metadata": {},
     "output_type": "execute_result"
    }
   ],
   "source": [
    "m.addConstr(x <= 1)"
   ]
  },
  {
   "cell_type": "code",
   "execution_count": 21,
   "metadata": {},
   "outputs": [
    {
     "data": {
      "text/plain": [
       "<gurobi.Constr *Awaiting Model Update*>"
      ]
     },
     "execution_count": 21,
     "metadata": {},
     "output_type": "execute_result"
    }
   ],
   "source": [
    "m.addConstr(x >= 2)"
   ]
  },
  {
   "cell_type": "code",
   "execution_count": 22,
   "metadata": {},
   "outputs": [
    {
     "name": "stdout",
     "output_type": "stream",
     "text": [
      "Gurobi Optimizer version 9.0.2 build v9.0.2rc0 (win64)\n",
      "Optimize a model with 2 rows, 1 columns and 2 nonzeros\n",
      "Model fingerprint: 0xed7596f8\n",
      "Coefficient statistics:\n",
      "  Matrix range     [1e+00, 1e+00]\n",
      "  Objective range  [0e+00, 0e+00]\n",
      "  Bounds range     [0e+00, 0e+00]\n",
      "  RHS range        [1e+00, 2e+00]\n",
      "Presolve time: 0.01s\n",
      "\n",
      "Solved in 0 iterations and 0.02 seconds\n",
      "Infeasible model\n"
     ]
    }
   ],
   "source": [
    "m.optimize()"
   ]
  },
  {
   "cell_type": "code",
   "execution_count": 23,
   "metadata": {},
   "outputs": [
    {
     "ename": "AttributeError",
     "evalue": "Unable to retrieve attribute 'X'",
     "output_type": "error",
     "traceback": [
      "\u001b[1;31m---------------------------------------------------------------------------\u001b[0m",
      "\u001b[1;31mAttributeError\u001b[0m                            Traceback (most recent call last)",
      "\u001b[1;32m<ipython-input-23-324eb054089a>\u001b[0m in \u001b[0;36m<module>\u001b[1;34m\u001b[0m\n\u001b[1;32m----> 1\u001b[1;33m \u001b[0mx\u001b[0m\u001b[1;33m.\u001b[0m\u001b[0mX\u001b[0m\u001b[1;33m\u001b[0m\u001b[1;33m\u001b[0m\u001b[0m\n\u001b[0m",
      "\u001b[1;32mvar.pxi\u001b[0m in \u001b[0;36mgurobipy.Var.__getattr__\u001b[1;34m()\u001b[0m\n",
      "\u001b[1;32mvar.pxi\u001b[0m in \u001b[0;36mgurobipy.Var.getAttr\u001b[1;34m()\u001b[0m\n",
      "\u001b[1;32mattrutil.pxi\u001b[0m in \u001b[0;36mgurobipy.__getattr\u001b[1;34m()\u001b[0m\n",
      "\u001b[1;31mAttributeError\u001b[0m: Unable to retrieve attribute 'X'"
     ]
    }
   ],
   "source": [
    "x.X"
   ]
  },
  {
   "cell_type": "code",
   "execution_count": null,
   "metadata": {},
   "outputs": [],
   "source": []
  }
 ],
 "metadata": {
  "kernelspec": {
   "display_name": "Python 3",
   "language": "python",
   "name": "python3"
  },
  "language_info": {
   "codemirror_mode": {
    "name": "ipython",
    "version": 3
   },
   "file_extension": ".py",
   "mimetype": "text/x-python",
   "name": "python",
   "nbconvert_exporter": "python",
   "pygments_lexer": "ipython3",
   "version": "3.7.6"
  }
 },
 "nbformat": 4,
 "nbformat_minor": 1
}

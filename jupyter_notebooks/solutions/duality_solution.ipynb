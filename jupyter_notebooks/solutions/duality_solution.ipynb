{
 "cells": [
  {
   "cell_type": "markdown",
   "metadata": {},
   "source": [
    "### Duality"
   ]
  },
  {
   "cell_type": "markdown",
   "metadata": {},
   "source": [
    "The diet problem is a type of mixing problem in which we are given a set of foods and are asked to find a minimum-cost combination of these foods that satisfies a set of nutrient requirements. We considered a small instance of the diet problem in which we were given five types of food and were required to construct a diet that provided at least 21 units of iron and 12 units of calcium. Data on the foods were as follows."
   ]
  },
  {
   "cell_type": "markdown",
   "metadata": {},
   "source": [
    "<table>\n",
    "<caption>Units of nutrients and cost per ounce</caption>\n",
    "<tr>\n",
    "<th> Food type </th> <th> Iron </th> <th> Calcium </th> <th> Cost </th>\n",
    "</tr>\n",
    "<tr>\n",
    "<th> 1 </th> <th> 2 </th> <th> 0 </th> <th> 20 </th>\n",
    "</tr>\n",
    "<tr>\n",
    "<th> 2 </th> <th> 0 </th> <th> 1 </th> <th> 10 </th>\n",
    "</tr>\n",
    "<tr>\n",
    "<th> 3 </th> <th> 3 </th> <th> 2 </th> <th> 31 </th>\n",
    "</tr>\n",
    "<tr>\n",
    "<th> 4 </th> <th> 1 </th> <th> 2 </th> <th> 11 </th>\n",
    "</tr>\n",
    "<tr>\n",
    "<th> 5 </th> <th> 2 </th> <th> 1 </th> <th> 12 </th>\n",
    "</tr>"
   ]
  },
  {
   "cell_type": "markdown",
   "metadata": {},
   "source": [
    "We formulated this instance as\n",
    "\\begin{eqnarray}\n",
    "\\min_x && z = 20 x_1 + 10 x_2 + 31 x_3 + 11 x_4 + 12 x_5 \\\\\n",
    "\\mbox{s.t.} && 2 x_ 1 + 3 x_3 + x_4 + 2 x_5 \\ge 21 \\\\\n",
    "&& x_2 + 2 x_3 + 2 x_4 + x_5 \\ge 12 \\\\\n",
    "&& x_i \\ge 0,\\;\\;i = 1,\\ldots,5\n",
    "\\end{eqnarray}\n",
    "where $x_i$ is the number of ounces of food type $i$ to include in our diet. Gurobi returned an optimal diet consisting of 1 unit of food type 4 and 10 units of food type 5, which satisfies the nutrient requirements at a cost of 131.\n",
    "\n",
    "Sensitivity analysis revealed that the marginal cost of each nutrient is $4 \\frac{1}{3}$ for iron and $3 \\frac{1}{3}$ for calcium. These values came from the Pi attribute of the Constr object and are known as dual values or shadow prices. According to those prices, food types 1-3 (which were not used in the optimal diet) were all overpriced.\n",
    "\n",
    "These dual values are instrumental in proving optimality, so let's explore how they are computed by formulating a complementary linear program called the dual. To do this, we'll take the perspective of a person who is selling iron and calcium pills to the dieter. The pill-seller must decide how much to charge per pill. Each pill contains one unit of its respective nutrient. And, the pills must be priced competitively with respect to the five food types available to the dieter.\n",
    "\n",
    "Suppose the pill-seller charges $\\pi_i$ for an iron pill and $\\pi_c$ for a calcium pill. Since the dieter would need 21 iron pills and 12 calcium pills to meet his nutritional requirements, the pill-seller stands to collect a revenue of $21 \\pi_i + 12 \\pi_c$ if he prices the pills fairly. We enforce fair pricing by writing a structural constraint for each of the 5 food types. For example, food type 3 is equivalent to 3 iron pills and 2 calcium pills, and is priced at 31 per ounce, so $3 \\pi_i + 2 \\pi_c \\le 31$."
   ]
  },
  {
   "cell_type": "markdown",
   "metadata": {},
   "source": [
    "<b> Diet Problem Dual </b>\n",
    "<ul> \n",
    "<li> Decision Variables: \n",
    "<ul type=\"square\">\n",
    "<li>$\\pi_i$ = price to charge per pill $i =$ iron, calcium</li>\n",
    "</ul>\n",
    "<li> Objective Function: (Maximize revenue)\n",
    "<ul type=\"square\">\n",
    "<li> min $v = 21 \\pi_i + 12 \\pi_c$ </li>\n",
    "</ul>\n",
    "</li>\n",
    "<li> Structural Constraints: </li>\n",
    "<ul type=\"square\">\n",
    "<li> $2 \\pi_i + 0 \\pi_c \\le 20$ (food 1) </li>\n",
    "<li> $0 \\pi_i + 1 \\pi_c \\le 10$ (food 2) </li>\n",
    "<li> $3 \\pi_i + 2 \\pi_c \\le 31$ (food 3) </li>\n",
    "<li> $1 \\pi_i + 2 \\pi_c \\le 11$ (food 4) </li>\n",
    "<li> $2 \\pi_i + 1 \\pi_c \\le 12$ (food 5) </li>\n",
    "\n",
    "</ul>\n",
    "<li> Nonnegativity constraints: (no negative prices)\n",
    "<ul type=\"square\">\n",
    "<li> $\\pi_i, \\pi_c \\ge 0$ </li>\n",
    "</li>\n",
    "</ul>"
   ]
  },
  {
   "cell_type": "markdown",
   "metadata": {},
   "source": [
    "<b>Exercise: Formulate and solve the dual of the diet problem with Gurobi. </b>\n",
    "\n",
    "<b>a. How is the maximum revenue for the pill-seller related to the minimum cost of the dieter? </b>\n",
    "\n",
    "<b>b. What are the optimal pill prices? </b>\n",
    "\n",
    "<b>c. What do the dual values of the dual LP represent? </b>\n",
    "\n",
    "<b>d. What do the slacks on the constraints represent?</b>"
   ]
  },
  {
   "cell_type": "code",
   "execution_count": 1,
   "metadata": {},
   "outputs": [
    {
     "name": "stdout",
     "output_type": "stream",
     "text": [
      "Using license file /Users/irisrenteria/gurobi.lic\n",
      "Academic license - for non-commercial use only\n"
     ]
    }
   ],
   "source": [
    "# Create a gurobipy.Model object. \n",
    "# Gurobi will minimize by default. Change this by setting the ModelSense\n",
    "# attribute to GRB.MAXIMIZE.\n",
    "from gurobipy import *\n",
    "m = Model()\n",
    "m.ModelSense = GRB.MAXIMIZE"
   ]
  },
  {
   "cell_type": "code",
   "execution_count": 2,
   "metadata": {},
   "outputs": [],
   "source": [
    "# Instantiate gurobipy.Var objects\n",
    "# for each of our price decision variables.\n",
    "pi_i = m.addVar(obj=21, name='price.iron')\n",
    "pi_c = m.addVar(obj=12, name='price.calcium')"
   ]
  },
  {
   "cell_type": "code",
   "execution_count": 3,
   "metadata": {},
   "outputs": [],
   "source": [
    "# Register the decision variables with the model via the update method.\n",
    "m.update()"
   ]
  },
  {
   "cell_type": "code",
   "execution_count": 4,
   "metadata": {},
   "outputs": [],
   "source": [
    "# Instantiate gurobipy.Constr objects to enforce competitive\n",
    "# pricing with respect to all five food types\n",
    "food1_con = m.addConstr(2*pi_i <= 20, 'food.1')\n",
    "food2_con = m.addConstr(pi_c <= 10, 'food.2')\n",
    "food3_con = m.addConstr(3*pi_i + 2*pi_c <= 31, 'food.3')\n",
    "food4_con = m.addConstr(pi_i + 2*pi_c <= 11, 'food.4')\n",
    "food5_con = m.addConstr(2*pi_i + pi_c <= 12, 'food.5')"
   ]
  },
  {
   "cell_type": "code",
   "execution_count": 5,
   "metadata": {},
   "outputs": [
    {
     "name": "stdout",
     "output_type": "stream",
     "text": [
      "Gurobi Optimizer version 9.0.2 build v9.0.2rc0 (mac64)\n",
      "Optimize a model with 5 rows, 2 columns and 8 nonzeros\n",
      "Model fingerprint: 0xeb1963e7\n",
      "Coefficient statistics:\n",
      "  Matrix range     [1e+00, 3e+00]\n",
      "  Objective range  [1e+01, 2e+01]\n",
      "  Bounds range     [0e+00, 0e+00]\n",
      "  RHS range        [1e+01, 3e+01]\n",
      "Presolve removed 3 rows and 0 columns\n",
      "Presolve time: 0.01s\n",
      "Presolved: 2 rows, 2 columns, 4 nonzeros\n",
      "\n",
      "Iteration    Objective       Primal Inf.    Dual Inf.      Time\n",
      "       0    2.3100000e+02   9.993000e+00   0.000000e+00      0s\n",
      "       2    1.3100000e+02   0.000000e+00   0.000000e+00      0s\n",
      "\n",
      "Solved in 2 iterations and 0.03 seconds\n",
      "Optimal objective  1.310000000e+02\n"
     ]
    }
   ],
   "source": [
    "# Optimize\n",
    "m.update()\n",
    "m.optimize()"
   ]
  },
  {
   "cell_type": "code",
   "execution_count": 6,
   "metadata": {},
   "outputs": [
    {
     "name": "stdout",
     "output_type": "stream",
     "text": [
      "price.iron 4.333333333333333\n",
      "price.calcium 3.3333333333333335\n"
     ]
    }
   ],
   "source": [
    "# Iterate over the decision variables to get the optimal prices\n",
    "for var in m.getVars():\n",
    "    print(var.VarName, var.X)"
   ]
  },
  {
   "cell_type": "code",
   "execution_count": 7,
   "metadata": {},
   "outputs": [
    {
     "name": "stdout",
     "output_type": "stream",
     "text": [
      "food.1 0.0 11.333333333333334\n",
      "food.2 0.0 6.666666666666666\n",
      "food.3 0.0 11.333333333333332\n",
      "food.4 1.0 0.0\n",
      "food.5 10.0 0.0\n"
     ]
    }
   ],
   "source": [
    "# Iterate over the structural constraints and \n",
    "# print Pi and Slack for each\n",
    "for constr in m.getConstrs():\n",
    "    print(constr.ConstrName, constr.Pi, constr.Slack)"
   ]
  },
  {
   "cell_type": "markdown",
   "metadata": {},
   "source": [
    "### Reduced Costs"
   ]
  },
  {
   "cell_type": "markdown",
   "metadata": {},
   "source": [
    "Let's officially establish a connection between the dual constraints and the concept of reduced costs. The dual constraints can be rewritten as:\n",
    "\\begin{eqnarray}\n",
    "20 - 2 \\pi_i &\\ge& 0 \\\\\n",
    "10 - \\pi_c &\\ge& 0 \\\\\n",
    "31 - 3 \\pi_i - 2 \\pi_c &\\ge& 0 \\\\\n",
    "11 - \\pi_i - 2 \\pi_c &\\ge& 0 \\\\\n",
    "12 - 2 \\pi_i - \\pi_c &\\ge& 0.\n",
    "\\end{eqnarray}\n",
    "Consider the left-hand side of any of the above constraints. The constant represents the per ounce cost of one of the five food types. From that constant we subtract the value of the nutrients contained in one ounce of the food type (in terms of the nutrient prices $\\pi_i$ and $\\pi_c$. This difference is exactly the reduced cost of the original diet problem. Recall that the optimality conditions for the original diet LP were that the reduced costs had to be non-negative. That is exactly the condition the dual constraints enforce."
   ]
  },
  {
   "cell_type": "markdown",
   "metadata": {},
   "source": [
    "### Why do we care about reduced costs?"
   ]
  },
  {
   "cell_type": "markdown",
   "metadata": {},
   "source": [
    "The dual values have a nice economic interpretation, and the good news is you don't actually have to formulate and solve the dual LP to find them. Gurobi automatically computes the dual values when it solves any LP, and you can access them via the Pi attribute of the Constr object.\n",
    "\n",
    "Thinking in terms of the dual LP can answer some interesting questions about the three food types that had positive reduced costs (and therefore were not included in the optimal diet)."
   ]
  },
  {
   "cell_type": "markdown",
   "metadata": {},
   "source": [
    "<b>Exercise: Suppose food type 3 (formerly priced at 31 per ounce) were put on sale for 20 per ounce. Assuming the shadow prices of iron and calcium remained the same, what would be the new reduced cost of food type 3? Would we include food type 3 in our diet? </b>"
   ]
  },
  {
   "cell_type": "code",
   "execution_count": 8,
   "metadata": {},
   "outputs": [
    {
     "data": {
      "text/plain": [
       "0.33333333333333304"
      ]
     },
     "execution_count": 8,
     "metadata": {},
     "output_type": "execute_result"
    }
   ],
   "source": [
    "# The reduced cost of food type 3 is its per ounce cost (now 20) minus the value of the nutrients it provides\n",
    "# Hint: You can access the shadow prices of iron and calcium via pi_i.X and pi_c.X, respectively.\n",
    "20 - 3*pi_i.X - 2*pi_c.X"
   ]
  },
  {
   "cell_type": "code",
   "execution_count": 9,
   "metadata": {},
   "outputs": [
    {
     "name": "stdout",
     "output_type": "stream",
     "text": [
      "Gurobi Optimizer version 9.0.2 build v9.0.2rc0 (mac64)\n",
      "Optimize a model with 5 rows, 2 columns and 8 nonzeros\n",
      "Coefficient statistics:\n",
      "  Matrix range     [1e+00, 3e+00]\n",
      "  Objective range  [1e+01, 2e+01]\n",
      "  Bounds range     [0e+00, 0e+00]\n",
      "  RHS range        [1e+01, 2e+01]\n",
      "Iteration    Objective       Primal Inf.    Dual Inf.      Time\n",
      "       0    1.3100000e+02   0.000000e+00   0.000000e+00      0s\n",
      "\n",
      "Solved in 0 iterations and 0.01 seconds\n",
      "Optimal objective  1.310000000e+02\n"
     ]
    }
   ],
   "source": [
    "# It looks like food type 3 is still overpriced. Let's verify this.\n",
    "food3_con.RHS = 20\n",
    "m.optimize()"
   ]
  },
  {
   "cell_type": "code",
   "execution_count": 10,
   "metadata": {},
   "outputs": [
    {
     "name": "stdout",
     "output_type": "stream",
     "text": [
      "food.1 0.0\n",
      "food.2 0.0\n",
      "food.3 0.0\n",
      "food.4 1.0\n",
      "food.5 10.0\n"
     ]
    }
   ],
   "source": [
    "for constr in m.getConstrs():\n",
    "    print(constr.ConstrName, constr.Pi)"
   ]
  },
  {
   "cell_type": "markdown",
   "metadata": {},
   "source": [
    "<b> Exercise: How low does the per ounce cost of food type 3 need to go before the dieter would consider putting it in his diet? </b>"
   ]
  },
  {
   "cell_type": "markdown",
   "metadata": {},
   "source": [
    "At a cost of 20 per ounce, food type 3 is still overpriced by $\\frac{1}{3}$ per ounce. At a price of $19 \\frac{2}{3}$ per ounce, the dieter would be indifferent between including and not including food type 3. At a price of, say 19 per ounce, the reduced cost of food type 3 would become negative and the dieter could actually lower his cost by including it."
   ]
  },
  {
   "cell_type": "code",
   "execution_count": 11,
   "metadata": {},
   "outputs": [
    {
     "name": "stdout",
     "output_type": "stream",
     "text": [
      "Gurobi Optimizer version 9.0.2 build v9.0.2rc0 (mac64)\n",
      "Optimize a model with 5 rows, 2 columns and 8 nonzeros\n",
      "Coefficient statistics:\n",
      "  Matrix range     [1e+00, 3e+00]\n",
      "  Objective range  [1e+01, 2e+01]\n",
      "  Bounds range     [0e+00, 0e+00]\n",
      "  RHS range        [1e+01, 2e+01]\n",
      "Iteration    Objective       Primal Inf.    Dual Inf.      Time\n",
      "       0    1.3100000e+02   1.666667e-01   0.000000e+00      0s\n",
      "       1    1.2900000e+02   0.000000e+00   0.000000e+00      0s\n",
      "\n",
      "Solved in 1 iterations and 0.02 seconds\n",
      "Optimal objective  1.290000000e+02\n"
     ]
    }
   ],
   "source": [
    "food3_con.RHS = 19\n",
    "m.optimize()"
   ]
  },
  {
   "cell_type": "code",
   "execution_count": 12,
   "metadata": {},
   "outputs": [
    {
     "name": "stdout",
     "output_type": "stream",
     "text": [
      "food.1 0.0\n",
      "food.2 0.0\n",
      "food.3 3.0\n",
      "food.4 0.0\n",
      "food.5 6.0\n"
     ]
    }
   ],
   "source": [
    "for constr in m.getConstrs():\n",
    "    print(constr.ConstrName, constr.Pi)"
   ]
  },
  {
   "cell_type": "markdown",
   "metadata": {},
   "source": [
    "<b> Exercise: Say food type 3 goes back to costing 31 per ounce, but now a new food type goes on sale that costs 20 per ounce and provides 2 units of iron and 3 of calcium. Would the dieter add this new food type to his diet?"
   ]
  },
  {
   "cell_type": "code",
   "execution_count": 13,
   "metadata": {},
   "outputs": [
    {
     "name": "stdout",
     "output_type": "stream",
     "text": [
      "Gurobi Optimizer version 9.0.2 build v9.0.2rc0 (mac64)\n",
      "Optimize a model with 5 rows, 2 columns and 8 nonzeros\n",
      "Coefficient statistics:\n",
      "  Matrix range     [1e+00, 3e+00]\n",
      "  Objective range  [1e+01, 2e+01]\n",
      "  Bounds range     [0e+00, 0e+00]\n",
      "  RHS range        [1e+01, 3e+01]\n",
      "Iteration    Objective       Primal Inf.    Dual Inf.      Time\n",
      "       0    1.6500000e+02   4.000000e+01   0.000000e+00      0s\n",
      "       1    1.3100000e+02   0.000000e+00   0.000000e+00      0s\n",
      "\n",
      "Solved in 1 iterations and 0.02 seconds\n",
      "Optimal objective  1.310000000e+02\n"
     ]
    }
   ],
   "source": [
    "# Change the cost of food type 3 back to 31 per ounce\n",
    "food3_con.RHS = 31\n",
    "m.optimize()"
   ]
  },
  {
   "cell_type": "code",
   "execution_count": 14,
   "metadata": {},
   "outputs": [
    {
     "data": {
      "text/plain": [
       "1.333333333333334"
      ]
     },
     "execution_count": 14,
     "metadata": {},
     "output_type": "execute_result"
    }
   ],
   "source": [
    "# compute the reduced cost of the new food type\n",
    "20 - 2*pi_i.X - 3*pi_c.X"
   ]
  }
 ],
 "metadata": {
  "kernelspec": {
   "display_name": "Python 3",
   "language": "python",
   "name": "python3"
  },
  "language_info": {
   "codemirror_mode": {
    "name": "ipython",
    "version": 3
   },
   "file_extension": ".py",
   "mimetype": "text/x-python",
   "name": "python",
   "nbconvert_exporter": "python",
   "pygments_lexer": "ipython3",
   "version": "3.7.6"
  }
 },
 "nbformat": 4,
 "nbformat_minor": 1
}

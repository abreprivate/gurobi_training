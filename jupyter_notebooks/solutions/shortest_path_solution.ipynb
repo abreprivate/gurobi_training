{
 "cells": [
  {
   "cell_type": "markdown",
   "metadata": {},
   "source": [
    "<H1>The Shortest Path Problem and Column-wise Modeling</H1>"
   ]
  },
  {
   "cell_type": "markdown",
   "metadata": {
    "collapsed": true
   },
   "source": [
    "<H3>Problem Definition</H3>\n",
    "\n",
    "Let $N$ be a set of cities.\n",
    "\n",
    "Let $A$ be a set of arcs between cities.\n",
    "\n",
    "Let $d_{ij} > 0$ be the distance between city $i \\in N$ and city $j \\in N$.\n",
    "\n",
    "What is the path of shortest distance between a given source city $s \\in N$ and terminal city $t \\in N$?"
   ]
  },
  {
   "cell_type": "markdown",
   "metadata": {},
   "source": [
    "![Shortest Path Network](netflow.png)"
   ]
  },
  {
   "cell_type": "markdown",
   "metadata": {
    "collapsed": true
   },
   "source": [
    "<H3>Formulation</H3>\n",
    "\n",
    "Let $x_{ij} = 1$ if arc $(i, j)$ is traversed.\n",
    "\n",
    "Define the forward-star (reverse-star) of a city $i \\in N$ as the set of arcs leaving (entering) city $i$:\n",
    "\n",
    "$FS(i) = \\{j | (i,j) \\in A\\}$\n",
    "\n",
    "$RS(i) = \\{j | (j, i) \\in A\\}$"
   ]
  },
  {
   "cell_type": "markdown",
   "metadata": {
    "collapsed": true
   },
   "source": [
    "\\begin{eqnarray}                                                                                                                                              \n",
    "\\min_x && \\sum_{(i,j) \\in A} d_{ij} x_{ij} \\nonumber \\\\                                                                                                       \n",
    "\\mbox{s.t.} && \\sum_{j \\in RS(i)} x_{ji} - \\sum_{j \\in FS(i)} x_{ij} = b_i,\\;\\;i \\in N \\nonumber \\\\                                                           \n",
    "&& 0 \\le x_{ij} \\le 1,\\;\\;(i,j) \\in A, \\nonumber                                                                                                              \n",
    "\\end{eqnarray}                                                                                                                                                \n",
    "where $b_s = -1$, $b_t = 1$, and $b_i = 0$ for $i \\neq s, t$."
   ]
  },
  {
   "cell_type": "markdown",
   "metadata": {},
   "source": [
    "If we travel along arc $(i, j)$, we add a distance $d_{ij}$ to our journey. The objective is to minimize the total distance travelled. The constraints enforce a balance of flow at each city. The sum $\\sum_{j \\in RS(i)} x_{ji}$ counts the number of times we enter city $i \\in N$, and the sum $\\sum_{j \\in FS(i)} x_{ij}$ counts the number of times we leave city $i \\in N$. The difference between those two sums should be -1 for the source city $s \\in N$ (we leave $s$ once and never return), 1 for the terminal city $t \\in N$ (we enter it once but never leave), and 0 for all cities in between (either we never visit the city, or we enter and leave the city exactly once)."
   ]
  },
  {
   "cell_type": "markdown",
   "metadata": {},
   "source": [
    "<H3>Inputs</H3>\n",
    "\n",
    "We'll need a list of the arcs in our network, along with the distance associated with each arc. Here, an arc can be represented as a pair of cities."
   ]
  },
  {
   "cell_type": "code",
   "execution_count": null,
   "metadata": {},
   "outputs": [],
   "source": [
    "data = \"\"\"Honolulu, Chicago, 105\n",
    "Honolulu, San_Francisco, 75\n",
    "Honolulu, Los_Angeles, 68 \n",
    "Chicago, Boston, 45 \n",
    "Chicago, New_York, 56 \n",
    "San_Francisco, Boston, 71 \n",
    "San_Francisco, New_York, 48 \n",
    "San_Francisco, Atlanta, 63 \n",
    "Los_Angeles, New_York, 44 \n",
    "Los_Angeles, Atlanta, 57 \n",
    "Boston, Heathrow_London, 88 \n",
    "New_York, Heathrow_London, 65 \n",
    "Atlanta, Heathrow_London, 76\n",
    "\"\"\""
   ]
  },
  {
   "cell_type": "markdown",
   "metadata": {},
   "source": [
    "We will use the pandas library to help read the data."
   ]
  },
  {
   "cell_type": "code",
   "execution_count": null,
   "metadata": {},
   "outputs": [],
   "source": [
    "from io import StringIO\n",
    "import pandas as pd"
   ]
  },
  {
   "cell_type": "code",
   "execution_count": null,
   "metadata": {},
   "outputs": [],
   "source": [
    "df = pd.read_csv(StringIO(data), header=None, skipinitialspace=True)\n",
    "df.columns = ['origin', 'destination', 'distance']\n",
    "print(df)"
   ]
  },
  {
   "cell_type": "code",
   "execution_count": null,
   "metadata": {},
   "outputs": [],
   "source": [
    "arcs = [row for row in df.itertuples()]\n",
    "arcs"
   ]
  },
  {
   "cell_type": "code",
   "execution_count": null,
   "metadata": {},
   "outputs": [],
   "source": [
    "distances = df.set_index(['origin', 'destination']).distance.to_dict()\n",
    "distances"
   ]
  },
  {
   "cell_type": "code",
   "execution_count": null,
   "metadata": {},
   "outputs": [],
   "source": [
    "cities = pd.concat([df.origin, df.destination]).unique()\n",
    "print(cities)"
   ]
  },
  {
   "cell_type": "markdown",
   "metadata": {},
   "source": [
    "<H3>Building the Model: Naive Approach</H3>\n",
    "\n",
    "The flow balance constraints in the above shortest path formulation involve sums over dynamic sets $RS(i)$ and $FS(i)$, which are both subsets of the full arc set $A$, and also vary depending on the city $i$. This is a departure from, say, the diet problem in which every constraint has a sum over the full set of food types. As such, we'll need to take a slightly different approach in order to efficiently add constraints to the model. We'll start off by presenting a naive approach that is $O(|N|*|A|)$ just to build the model.\n",
    "\n",
    "We'll first add variables and set the objective."
   ]
  },
  {
   "cell_type": "code",
   "execution_count": null,
   "metadata": {},
   "outputs": [],
   "source": [
    "import gurobipy as grb\n",
    "\n",
    "m = grb.Model()\n",
    "# The keys of the distances dictionary give the arcs in the network\n",
    "arc_traversed = m.addVars(distances, obj=distances, name='arc_traversed')\n",
    "m.update()\n",
    "print(arc_traversed)"
   ]
  },
  {
   "cell_type": "markdown",
   "metadata": {},
   "source": [
    "We now have a dictionary that maps a pair of cities to the decision variable which will ultimately tell use if we travel between those cities. Each city $i \\in N$ will get its own flow balance constraint. To write that constraint we need to know what arcs enter and leave the city, and that requires a lookup of the arcs set. We can write methods to do this for us."
   ]
  },
  {
   "cell_type": "code",
   "execution_count": null,
   "metadata": {},
   "outputs": [],
   "source": [
    "def get_forward_star(arc_traversed, city):\n",
    "    return [var for (origin, destination), var in arc_traversed.items() if origin == city]\n",
    "\n",
    "def get_reverse_star(arc_traversed, city):\n",
    "    return [var for (origin, destination), var in arc_traversed.items() if destination == city]"
   ]
  },
  {
   "cell_type": "markdown",
   "metadata": {},
   "source": [
    "Let's pick an intermediate city, say Atlanta, and generate the linear expression for its flow balance constraint."
   ]
  },
  {
   "cell_type": "code",
   "execution_count": null,
   "metadata": {},
   "outputs": [],
   "source": [
    "num_times_leaving = get_forward_star(arc_traversed, 'Atlanta')\n",
    "num_times_entering = get_reverse_star(arc_traversed, 'Atlanta')\n",
    "balance_expr = grb.quicksum(num_times_entering) - grb.quicksum(num_times_leaving)\n",
    "print(balance_expr)"
   ]
  },
  {
   "cell_type": "markdown",
   "metadata": {},
   "source": [
    "This looks correct. The forward star consists of the single arc to Heathrow London, and the reverse star consists of the arcs from Los Angeles and San Francisco. We can only travel from Atlanta to Heathrow London if we first travelled to Atlanta via either Los Angeles or San Francisco, so this expression needs to be equal to 0. A naive approach will simply repeat this lookup for every city."
   ]
  },
  {
   "cell_type": "code",
   "execution_count": null,
   "metadata": {},
   "outputs": [],
   "source": [
    "def naive_shortest_path(cities, distances, source, terminal):\n",
    "    def get_forward_star(city):\n",
    "        return [var for (origin, destination), var in arc_traversed.items() if origin == city]\n",
    "    \n",
    "    def get_reverse_star(city):\n",
    "        return [var for (origin, destination), var in arc_traversed.items() if destination == city]    \n",
    "    \n",
    "    model = grb.Model()\n",
    "\n",
    "    arc_traversed = model.addVars(distances, obj=distances, name='arc_traversed')\n",
    "    model.update()\n",
    "    flow_balance = {}\n",
    "    for city in cities:\n",
    "        num_times_leaving = grb.quicksum(get_forward_star(city))\n",
    "        num_times_entering = grb.quicksum(get_reverse_star(city))\n",
    "        flow_balance[city] = model.addConstr(num_times_entering - num_times_leaving == 0,\n",
    "                                             name='flow.' + str(city))\n",
    "    model.update()\n",
    "    flow_balance[source].RHS = -1\n",
    "    flow_balance[terminal].RHS = 1\n",
    "    model.optimize()\n",
    "    model.write('naive.lp')\n",
    "    for arc, var in arc_traversed.items():\n",
    "        if var.X > 0.5:\n",
    "            print(arc)\n",
    "    print (\"Total distance =\", model.ObjVal)"
   ]
  },
  {
   "cell_type": "code",
   "execution_count": null,
   "metadata": {},
   "outputs": [],
   "source": [
    "naive_shortest_path(cities, distances, 'Honolulu', 'Heathrow_London')"
   ]
  },
  {
   "cell_type": "code",
   "execution_count": null,
   "metadata": {
    "scrolled": true
   },
   "outputs": [],
   "source": [
    "!cat naive.lp"
   ]
  },
  {
   "cell_type": "markdown",
   "metadata": {},
   "source": [
    "We can check the lp file to verify that this approach did actually build the correct model. However, we are doing two lookups on the arc list every time we add a flow balance constraint for a city, which is needlessly inefficient. Let's look at some ways of eliminating this inefficiency."
   ]
  },
  {
   "cell_type": "markdown",
   "metadata": {},
   "source": [
    "<H3>Modeling with tupledict</H3>"
   ]
  },
  {
   "cell_type": "markdown",
   "metadata": {},
   "source": [
    "Many optimization models involve sums over dynamic sets such as forward star and reverse star above. When each constraint uses a different subset of variables, we should take care to ensure that we aren't doing an inefficient lookup of that subset.\n",
    "\n",
    "It is commonplace to have a group of variables with a pair or tuple for an index, and constraints that fix some elements of the tuple and sum over the remaining elements. For the shortest path problem, each variable is indexed by two cities, the source and the destination, and the sums in the constraints either fix the source and sum over the destinations, or vice versa. \n",
    "\n",
    "It's important to efficiently determine which variables participate in each constraint. Fortunately, this pattern shows up frequently enough in optimization models that Gurobi has provided a special data structure called tupledict which does exactly what we need quickly and with clean syntax that reads close to a pure modeling language. Even more conveniently, the addVars method already returns a tupledict so if you are using that to create your decision variables you already have access to this functionality."
   ]
  },
  {
   "cell_type": "code",
   "execution_count": null,
   "metadata": {},
   "outputs": [],
   "source": [
    "arc_traversed = m.addVars(distances, obj=distances, name='arc_traversed')\n",
    "m.update()\n",
    "type(arc_traversed)"
   ]
  },
  {
   "cell_type": "markdown",
   "metadata": {},
   "source": [
    "A tupledict has all the features of a standard Python dictionary but with extra functionality that is especially useful for modeling. If a standard Python dictionary has a tuple in its key set, you must specify the complete tuple when performing a lookup, for example:"
   ]
  },
  {
   "cell_type": "code",
   "execution_count": null,
   "metadata": {},
   "outputs": [],
   "source": [
    "arc_traversed['Atlanta', 'Heathrow_London']"
   ]
  },
  {
   "cell_type": "markdown",
   "metadata": {},
   "source": [
    "Gurobi's tupledict data structure extends this to allow the lookups where some elements of the tuple lookup are wildcarded:"
   ]
  },
  {
   "cell_type": "code",
   "execution_count": null,
   "metadata": {},
   "outputs": [],
   "source": [
    "print(arc_traversed.sum('*', 'Atlanta')) # sum up all inbound arc activity for Atlanta\n",
    "print(arc_traversed.sum('Atlanta', '*')) # sum up all outbound arc activity for Atlanta"
   ]
  },
  {
   "cell_type": "markdown",
   "metadata": {},
   "source": [
    "The tupledict data structure exists to do this particular type of lookup, so the sum method is much faster than the brute force lookups we performed in the naive implementation. Leveraging the tupledict allows us to skip the work of building the forward and reverse stars ourselves, and improves performance."
   ]
  },
  {
   "cell_type": "code",
   "execution_count": null,
   "metadata": {},
   "outputs": [],
   "source": [
    "def tupledict_shortest_path(cities, arcs, origin, destination):   \n",
    "    model = grb.Model()\n",
    "\n",
    "    arc_traversed = model.addVars(distances, obj=distances, name='arc_traversed')\n",
    "    model.update()\n",
    "    \n",
    "    flow_balance = {}\n",
    "    for city in cities:\n",
    "        num_times_leaving = arc_traversed.sum(city, '*')\n",
    "        num_times_entering = arc_traversed.sum('*', city)\n",
    "        flow_balance[city] = model.addConstr(num_times_entering - num_times_leaving == 0,\n",
    "                                             name='flow.' + str(city))\n",
    "    model.update()\n",
    "    flow_balance[origin].RHS = -1\n",
    "    flow_balance[destination].RHS = 1\n",
    "    model.optimize()\n",
    "    model.write('tuplelist.lp')\n",
    "    for arc, var in arc_traversed.items():\n",
    "        if var.X > 0.5:\n",
    "            print (arc)\n",
    "    print (\"Total distance =\", model.ObjVal)"
   ]
  },
  {
   "cell_type": "code",
   "execution_count": null,
   "metadata": {},
   "outputs": [],
   "source": [
    "tupledict_shortest_path(cities, arcs, 'Honolulu', 'Heathrow_London')"
   ]
  },
  {
   "cell_type": "code",
   "execution_count": null,
   "metadata": {},
   "outputs": [],
   "source": [
    "!cat tuplelist.lp"
   ]
  },
  {
   "cell_type": "markdown",
   "metadata": {},
   "source": [
    "<H3>Modeling with Columns</H3>\n",
    "\n",
    "When building a Gurobi model, it can be useful to focus on a single constraint or row, and ask what variables participate in that constraint. \n",
    "\n",
    "While this row-wise view is frequently the most intuitive view of the model, there are some cases in which it is difficult to describe the set of variables corresponding to a constraint. In these cases it may actually be easier to focus on a single variable or column, and ask what constraints that variable participates in. That is, we may wish to think about what a specific column in the constraint matrix looks like.\n",
    "\n",
    "Both the row-wise and column-wise approaches can lead us to a correct representation of the model, there are reasons to prefer one over the other depending on the context. Generally speaking, we will prefer the column-wise perspective when each variable appears in a fixed number of constraints.\n",
    "\n",
    "In the context of the shortest path formulation above, each variable indicates whether we traverse a particular arc, and each constraint enforces a conservation of flow for a particular city. Consider one of these constraints, say the one corresponding to Chicago. Each of the rows in the arc DataFrame above corresponds to a decision variable. We can certainly look up the arcs that are incident to Chicago -- there is an inbound arc from Honolulu and two outbound arcs to Boston and New York -- and write down a constraint that says that we only traverse an outbound arc if we traversed an inbound arc. We could repeat this arc lookup for each city to build the full model, with each lookup returning a different subset of arcs depending on the city.\n",
    "\n",
    "Now consider one of the variables in the model, say the one corresponding to the arc from Los Angeles to New York. Determining which constraints this variable participates in requires no lookup. It participates in the constraint for Los Angeles and the constraint for New York. In fact, every variable in the model participates in exactly two constraints-- one for the source and one for the destination city. If we follow the convention that flow in to a city is positive and flow out is negative, each column in the constraint matrix has exactly two non-zero entries, a 1 for the destination city and a -1 for the source city. That each column has a very easily-defined structure is an indication that the model is amenable to a column-wise approach."
   ]
  },
  {
   "cell_type": "markdown",
   "metadata": {},
   "source": [
    "Let's create a column for our shortest path model. Gurobi provides a Column object for this purpose, which takes in a list of coefficients and a list of constraints. This means we'll need to add the constraints to the model before we create columns. When we create the constraints, we intentionally omit the variables as they haven't even been created yet. This can be counterintuitive but will make sense once we demonstrate it."
   ]
  },
  {
   "cell_type": "code",
   "execution_count": null,
   "metadata": {},
   "outputs": [],
   "source": [
    "m = grb.Model()\n",
    "flow_balance = {city: m.addConstr(grb.LinExpr() == 0, name='flow.' + str(city)) for city in cities}\n",
    "m.update()\n",
    "print (flow_balance)"
   ]
  },
  {
   "cell_type": "markdown",
   "metadata": {},
   "source": [
    "Now let's create the column for the Los Angeles to New York arc traversal variable. This variable contributes a +1 to the New York flow constraint, and a -1 to the Los Angeles flow constraint."
   ]
  },
  {
   "cell_type": "code",
   "execution_count": null,
   "metadata": {},
   "outputs": [],
   "source": [
    "column = grb.Column(coeffs=[1, -1], constrs=[flow_balance['New_York'], flow_balance['Los_Angeles']])\n",
    "print(column)"
   ]
  },
  {
   "cell_type": "markdown",
   "metadata": {},
   "source": [
    "The Column object looks a lot like the LinExpr object, except that it represents a list of constraints instead of variables. And, where we normally use a LinExpr when we call addConstr, we can pass a Column in as a parameter to addVar."
   ]
  },
  {
   "cell_type": "code",
   "execution_count": null,
   "metadata": {},
   "outputs": [],
   "source": [
    "var = m.addVar(obj=44, name='arc_traversed.Los_Angeles.New_York', column=column)"
   ]
  },
  {
   "cell_type": "markdown",
   "metadata": {},
   "source": [
    "This will retroactively add the variable we just created to the two constraints it participated in. If we do this in a loop over all arcs in the network, we can build the full shortest path model."
   ]
  },
  {
   "cell_type": "code",
   "execution_count": null,
   "metadata": {},
   "outputs": [],
   "source": [
    "def solve_shortest_path(cities, arcs, source, terminal):\n",
    "    def get_column(arc):\n",
    "        return grb.Column(coeffs=[1, -1], constrs=[flow_balance[arc.destination], flow_balance[arc.origin]])\n",
    "\n",
    "    model = grb.Model()\n",
    "    flow_balance = {city: model.addConstr(grb.LinExpr() == 0, name='flow.' + str(city))\n",
    "                    for city in cities}\n",
    "    model.update()\n",
    "    flow_balance[source].RHS = -1\n",
    "    flow_balance[terminal].RHS = 1\n",
    "    \n",
    "    arc_traversed = {(arc.origin, arc.destination): model.addVar(obj=arc.distance,\n",
    "                                                                 name='.'.join(('arc_traversed', arc.origin, arc.destination)),\n",
    "                                                                 column=get_column(arc))\n",
    "                     for arc in arcs}\n",
    "    model.optimize()\n",
    "    for arc, var in arc_traversed.items():\n",
    "        if var.X > 0.5:\n",
    "            print (arc)\n",
    "    print (\"Total distance =\", model.ObjVal)"
   ]
  },
  {
   "cell_type": "code",
   "execution_count": null,
   "metadata": {},
   "outputs": [],
   "source": [
    "solve_shortest_path(cities, arcs, 'Honolulu', 'Heathrow_London')"
   ]
  },
  {
   "cell_type": "code",
   "execution_count": null,
   "metadata": {},
   "outputs": [],
   "source": []
  },
  {
   "cell_type": "code",
   "execution_count": null,
   "metadata": {},
   "outputs": [],
   "source": []
  }
 ],
 "metadata": {
  "kernelspec": {
   "display_name": "Python 3",
   "language": "python",
   "name": "python3"
  },
  "language_info": {
   "codemirror_mode": {
    "name": "ipython",
    "version": 3
   },
   "file_extension": ".py",
   "mimetype": "text/x-python",
   "name": "python",
   "nbconvert_exporter": "python",
   "pygments_lexer": "ipython3",
   "version": "3.7.1"
  }
 },
 "nbformat": 4,
 "nbformat_minor": 1
}

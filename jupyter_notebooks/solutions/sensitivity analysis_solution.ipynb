{
 "cells": [
  {
   "cell_type": "markdown",
   "metadata": {},
   "source": [
    "### Reading a model from file"
   ]
  },
  {
   "cell_type": "markdown",
   "metadata": {},
   "source": [
    "For troubleshooting purposes it can be useful to save a snapshot of the model to a file. That file will follow a certain format based on the filename suffix. The .lp format is human-readable but does not guarantee full precision. The .mps format is not ideal for human consumption but guarantees no precision loss."
   ]
  },
  {
   "cell_type": "code",
   "execution_count": null,
   "metadata": {},
   "outputs": [],
   "source": [
    "import gurobipy as grb"
   ]
  },
  {
   "cell_type": "markdown",
   "metadata": {},
   "source": [
    "The global function \"read\" takes in a filename and returns a Model object."
   ]
  },
  {
   "cell_type": "code",
   "execution_count": null,
   "metadata": {},
   "outputs": [],
   "source": [
    "m = grb.read('diet.lp')"
   ]
  },
  {
   "cell_type": "code",
   "execution_count": null,
   "metadata": {},
   "outputs": [],
   "source": [
    "m.optimize()"
   ]
  },
  {
   "cell_type": "markdown",
   "metadata": {},
   "source": [
    "References to Var and Constr objects are not saved from the previous session, but can be reconstituted from their names by calling Model.getVarByName() and Model.getConstrByName(), respecitvely. We recommend that you follow a consistent naming convention for both variables and constraints so that you will be able to do this in a programmatic way. The convention we follow here is a base name followed by a period-separated list of variable indices."
   ]
  },
  {
   "cell_type": "code",
   "execution_count": null,
   "metadata": {},
   "outputs": [],
   "source": [
    "x1 = m.getVarByName('consumed.1')\n",
    "x2 = m.getVarByName('consumed.2') \n",
    "x3 = m.getVarByName('consumed.3')\n",
    "x4 = m.getVarByName('consumed.4')\n",
    "x5 = m.getVarByName('consumed.5')\n",
    "print(x1.X, x2.X, x3.X, x4.X, x5.X)"
   ]
  },
  {
   "cell_type": "markdown",
   "metadata": {},
   "source": [
    "### Sensitivity Analysis"
   ]
  },
  {
   "cell_type": "markdown",
   "metadata": {},
   "source": [
    "We have built and solved the following linear program:\n",
    "\\begin{eqnarray}\n",
    "\\min_x && z = 20 x_1 + 10 x_2 + 31 x_3 + 11 x_4 + 12 x_5 \\\\\n",
    "\\mbox{s.t.} && 2 x_ 1 + 3 x_3 + x_4 + 2 x_5 \\ge 21 \\\\\n",
    "&& x_2 + 2 x_3 + 2 x_4 + x_5 \\ge 12 \\\\\n",
    "&& x_i \\ge 0,\\;\\;i = 1,\\ldots,5\n",
    "\\end{eqnarray}\n",
    "\n",
    "and obtained an optimal solution of $x^*_1 = x^*_2 = x^*_3 = 0$, $x^*_4 = 1$, $x^*_5 = 10$ that satisfies the nutrient requirements at a minimum cost of $z^* = 131$. \n",
    "\n",
    "We can interpret the right-hand sides of the structural constraints as resource requirements. In the case of the diet problem, the resouces in question are nutrients. Gurobi automatically computes the marginal cost of each resource, which you can access via the Pi attribute of the Constr object."
   ]
  },
  {
   "cell_type": "code",
   "execution_count": null,
   "metadata": {},
   "outputs": [],
   "source": [
    "iron_constr = m.getConstrByName('nutrient.iron')\n",
    "calcium_constr = m.getConstrByName('nutrient.calcium')\n",
    "print(iron_constr.Pi, calcium_constr.Pi)"
   ]
  },
  {
   "cell_type": "markdown",
   "metadata": {},
   "source": [
    "This value is known as the dual value, or shadow price, of the constraint. The interpretation here is that to add an additional unit of iron to your diet (in addition to the 21 units already required) will cost $4 \\frac{1}{3}$. Similarly, an additional unit of calcium will cost $3 \\frac{1}{3}$. The dual value of a constraint can be thought of as the price of the underlying resource. That is, if someone was selling iron (calcium) supplements, the highest price you'd be willing to pay is $4 \\frac{1}{3}$ ($3 \\frac{1}{3}$) per unit. Gurobi gives you this sensitivity information effectively for free because it uses the dual values to prove optimality.\n",
    "\n",
    "More formally, we can view the optimal cost $z^*$ as a function of the objective coefficients, constraint matrix coefficients, and constraint right-hand sides. Let's denote the right hand side of the $i$th constraint as $b_i$. Then the dual value of the $i$th constraint is really just the partial derivative of $z^*$ with respect to $b_i$, that is $\\pi^*_i = \\frac{\\partial{z^*}}{\\partial b_i}$.\n",
    "\n",
    "But, you don't have to take my word for it. We can verify this by actually changing the right-hand side of the constraint and reoptimizing. Each Constr object has a settable attribute RHS that lets you change its right-hand side."
   ]
  },
  {
   "cell_type": "markdown",
   "metadata": {},
   "source": [
    "#### Exercise:   Suppose we increase the iron requirement by 0.1 units. What is the optimal cost of the new diet?"
   ]
  },
  {
   "cell_type": "code",
   "execution_count": null,
   "metadata": {},
   "outputs": [],
   "source": [
    "# First predict the optimal cost of the new diet\n",
    "new_cost = m.ObjVal + 0.1*iron_constr.Pi\n",
    "print(new_cost)"
   ]
  },
  {
   "cell_type": "code",
   "execution_count": null,
   "metadata": {},
   "outputs": [],
   "source": [
    "# Change the RHS of the iron constraint and reoptimize\n",
    "iron_constr.RHS = 21.1\n",
    "m.optimize()"
   ]
  },
  {
   "cell_type": "code",
   "execution_count": null,
   "metadata": {},
   "outputs": [],
   "source": [
    "print(new_cost, m.ObjVal)"
   ]
  },
  {
   "cell_type": "markdown",
   "metadata": {},
   "source": [
    "### Proving Optimality"
   ]
  },
  {
   "cell_type": "markdown",
   "metadata": {},
   "source": [
    "How exactly does Gurobi use these dual values s to prove optimality? Consider food type 1, which costs 20 per ounce and provides 2 units of iron. The price of iron as implied by the dual value is $4 \\frac{1}{3}$. So the effective cost of food type 1 can be computed as:"
   ]
  },
  {
   "cell_type": "code",
   "execution_count": null,
   "metadata": {},
   "outputs": [],
   "source": [
    "20 - 2*iron_constr.Pi"
   ]
  },
  {
   "cell_type": "markdown",
   "metadata": {},
   "source": [
    "This is the so-called \"reduced cost\" of $x_1$. The interpretation is that even taking into account the value of the nutrients it provides, food type 1 is overpriced by $11 \\frac{1}{3}$."
   ]
  },
  {
   "cell_type": "markdown",
   "metadata": {},
   "source": [
    "#### Exercise: Compute the reduced costs of the other four food types."
   ]
  },
  {
   "cell_type": "code",
   "execution_count": null,
   "metadata": {},
   "outputs": [],
   "source": [
    "# Food type 2 costs 10 per ounce and provides 1 unit of calcium.\n",
    "10 - calcium_constr.Pi"
   ]
  },
  {
   "cell_type": "code",
   "execution_count": null,
   "metadata": {},
   "outputs": [],
   "source": [
    "# Food type 3 costs 31 per ounce and provides 3 units of iron and 2 of calcium\n",
    "31 - 3*iron_constr.Pi - 2*calcium_constr.Pi"
   ]
  },
  {
   "cell_type": "code",
   "execution_count": null,
   "metadata": {},
   "outputs": [],
   "source": [
    "# Food type 4 costs 11 per ounce and provides 1 unit of iron and 2 of calcium\n",
    "11 - iron_constr.Pi - 2*calcium_constr.Pi"
   ]
  },
  {
   "cell_type": "code",
   "execution_count": null,
   "metadata": {},
   "outputs": [],
   "source": [
    "# Food type 5 costs 12 per ounce and provides 2 units of iron and 1 of calcium\n",
    "12 - 2*iron_constr.Pi - calcium_constr.Pi"
   ]
  },
  {
   "cell_type": "markdown",
   "metadata": {},
   "source": [
    "### More on reduced costs"
   ]
  },
  {
   "cell_type": "markdown",
   "metadata": {},
   "source": [
    "Recall that the constraints in an optimization model are catagorized as structural constraints if they involve functions of more than one variable and as simple bound constraints if they involve only a single variable. The dual values give us sensitivity information on the structural constraints. Specifically, they tell us how much the objective will change if we increase the right-hand side of a constraint by 1. The reduced costs perform the same sensitivity analysis role on the simple bound constraints (in this case, nonnegativity constraints).\n",
    "\n",
    "For example, the reduced cost of $x_1$ is $11 \\frac{1}{3}$. Our optimal diet didn't include food type 1 because it was overpriced. The reduced cost tells us that if we were forced to include at least 1 ounce of food type 1 in our diet, that the cost would increase by $11 \\frac{1}{3}$. We can change the lower bound on a decision variable by setting the LB attribute of the corresponding Var object. And, Gurobi has actually already computed the reduced costs for us. They can be accessed via the RC attribute of the Var object."
   ]
  },
  {
   "cell_type": "code",
   "execution_count": null,
   "metadata": {},
   "outputs": [],
   "source": [
    "for var in m.getVars():\n",
    "    print(var.VarName, var.RC)"
   ]
  },
  {
   "cell_type": "markdown",
   "metadata": {},
   "source": [
    "#### Exercise: Use the reduced cost of $x_1$ to predict the minimum cost of a diet that was forced to include at least 0.1 ounces of food type 1. Change the lower bound of $x_1$ to 0.1 and reoptimize to verify your calculation."
   ]
  },
  {
   "cell_type": "code",
   "execution_count": null,
   "metadata": {},
   "outputs": [],
   "source": [
    "# Predict the new cost of the diet\n",
    "m.ObjVal + 0.1*x1.RC"
   ]
  },
  {
   "cell_type": "code",
   "execution_count": null,
   "metadata": {},
   "outputs": [],
   "source": [
    "# Adjust the lower bound of x1 and reoptimize\n",
    "x1.LB = 0.1\n",
    "m.optimize()"
   ]
  },
  {
   "cell_type": "code",
   "execution_count": null,
   "metadata": {},
   "outputs": [],
   "source": [
    "print(m.ObjVal)"
   ]
  },
  {
   "cell_type": "markdown",
   "metadata": {},
   "source": [
    "#### Exercise: Restore the bounds and right-hand sides of the model to their original values and reoptimize. Iterate over all variables and for each print out the variable name, optimal value, and reduced cost. What do you observe?"
   ]
  },
  {
   "cell_type": "code",
   "execution_count": null,
   "metadata": {},
   "outputs": [],
   "source": [
    "x1.LB = 0\n",
    "iron_constr.RHS = 21\n",
    "m.optimize()"
   ]
  },
  {
   "cell_type": "code",
   "execution_count": null,
   "metadata": {},
   "outputs": [],
   "source": [
    "for var in m.getVars():\n",
    "    print(var.VarName, var.X, var.RC)"
   ]
  }
 ],
 "metadata": {
  "kernelspec": {
   "display_name": "Python 3",
   "language": "python",
   "name": "python3"
  },
  "language_info": {
   "codemirror_mode": {
    "name": "ipython",
    "version": 3
   },
   "file_extension": ".py",
   "mimetype": "text/x-python",
   "name": "python",
   "nbconvert_exporter": "python",
   "pygments_lexer": "ipython3",
   "version": "3.7.6"
  }
 },
 "nbformat": 4,
 "nbformat_minor": 1
}

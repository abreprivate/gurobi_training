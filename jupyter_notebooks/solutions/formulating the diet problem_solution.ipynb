{
 "cells": [
  {
   "cell_type": "markdown",
   "metadata": {},
   "source": [
    "<b> Diet Problem </b>\n",
    "\n",
    "There are 5 types of food and 2 nutrient requirements that we must satisfy at minimum cost. We are given the nutritional content and cost per ounce of each food type."
   ]
  },
  {
   "cell_type": "markdown",
   "metadata": {},
   "source": [
    "<table>\n",
    "<caption>Units of nutrients and cost per ounce</caption>\n",
    "<tr>\n",
    "<th> Food type </th> <th> Iron </th> <th> Calcium </th> <th> Cost </th>\n",
    "</tr>\n",
    "<tr>\n",
    "<th> 1 </th> <th> 2 </th> <th> 0 </th> <th> 20 </th>\n",
    "</tr>\n",
    "<tr>\n",
    "<th> 2 </th> <th> 0 </th> <th> 1 </th> <th> 10 </th>\n",
    "</tr>\n",
    "<tr>\n",
    "<th> 3 </th> <th> 3 </th> <th> 2 </th> <th> 31 </th>\n",
    "</tr>\n",
    "<tr>\n",
    "<th> 4 </th> <th> 1 </th> <th> 2 </th> <th> 11 </th>\n",
    "</tr>\n",
    "<tr>\n",
    "<th> 5 </th> <th> 2 </th> <th> 1 </th> <th> 12 </th>\n",
    "</tr>"
   ]
  },
  {
   "cell_type": "markdown",
   "metadata": {},
   "source": [
    "What is the minimum cost combination of these foods that provides at least 21 units of iron and 12 units of calcium?"
   ]
  },
  {
   "cell_type": "markdown",
   "metadata": {},
   "source": [
    "<b> Diet Problem Formulation </b>\n",
    "<ul> \n",
    "<li> Decision Variables: \n",
    "<ul type=\"square\">\n",
    "<li>$x_j$ = number of ounces of food type $j=1,\\ldots,5$</li>\n",
    "</ul>\n",
    "<li> Objective Function: \n",
    "<ul type=\"square\">\n",
    "<li> min $z = 20 x_1 + 10 x_2 + 31 x_3 + 11 x_4 + 12 x_5$ </li>\n",
    "</ul>\n",
    "</li>\n",
    "<li> Structural Constraints: </li>\n",
    "<ul type=\"square\">\n",
    "<li> $2 x_1 + 0 x_2 + 3 x_3 + 1 x_4 + 2 x_5 \\ge 21$ (iron requirement) </li>\n",
    "<li> $0 x_1 + 1 x_2 + 2 x_3 + 2 x_4 + 1 x_5 \\ge 12$ (calcium requirement) </li>\n",
    "</ul>\n",
    "<li> Nonnegativity constraints\n",
    "<ul type=\"square\">\n",
    "<li> $x_j \\ge 0,j=1,\\ldots,5$ </li>\n",
    "</li>\n",
    "</ul>"
   ]
  },
  {
   "cell_type": "markdown",
   "metadata": {},
   "source": [
    "<b>Building the Model with gurobipy</b>\n",
    "\n",
    "We'll first need to import the gurobipy module. Our prefered alias is 'grb'. We'll also create an alias for gurobipy.GRB, which contains some useful constants we will typically need."
   ]
  },
  {
   "cell_type": "code",
   "execution_count": null,
   "metadata": {},
   "outputs": [],
   "source": [
    "import gurobipy as grb\n",
    "GRB = grb.GRB"
   ]
  },
  {
   "cell_type": "markdown",
   "metadata": {},
   "source": [
    "The gurobipy.Model object serves as a repository for all data pertaining to your optimization problem, and provides methods for instantiating decision variables and constraints."
   ]
  },
  {
   "cell_type": "code",
   "execution_count": null,
   "metadata": {},
   "outputs": [],
   "source": [
    "m = grb.Model()"
   ]
  },
  {
   "cell_type": "markdown",
   "metadata": {},
   "source": [
    "You can name your gurobipy.Model object anything, but we've chosen \"m\" here. This object provides methods to instantiate decision variables (addVar) and structural constraints (addConstr)."
   ]
  },
  {
   "cell_type": "markdown",
   "metadata": {},
   "source": [
    "<b>Adding Variables</b>\n",
    "\n",
    "We'll add the decision variables first using the Model.addVar() method."
   ]
  },
  {
   "cell_type": "code",
   "execution_count": null,
   "metadata": {},
   "outputs": [],
   "source": [
    "?m.addVar"
   ]
  },
  {
   "cell_type": "markdown",
   "metadata": {},
   "source": [
    "This method takes in a variety of optional parameters and returns a reference to a gurobipy.Var object. You will need to save these references in order to build structural constraints later on. If you know lower or upper bounds on the variables, those bounds should be passed in through the lb and ub arguments, which default to 0 and infinity, respectively. Also at this point you have the option to specify an objective coefficient through the obj argument. \n",
    "\n",
    "It is optional but generally good practice to provide meaningful names for each of your variables. We will ultimately want to output and view the model we have built to verify that it is what we intended, and the names you have set here will appear in that output. Those names need not coincide with the names of the Python variables used to reference the variables, which means they need not follow rules for naming Python variables. A good naming convention is to use a word or short phrase describing what the variable represents, followed by a period separated list of the variable indices (in this case the food types 1 through 5)."
   ]
  },
  {
   "cell_type": "code",
   "execution_count": null,
   "metadata": {},
   "outputs": [],
   "source": [
    "x1 = m.addVar(lb=0, ub=GRB.INFINITY, obj=20, vtype=GRB.CONTINUOUS, name='consumed.1')"
   ]
  },
  {
   "cell_type": "code",
   "execution_count": null,
   "metadata": {},
   "outputs": [],
   "source": [
    "x2 = m.addVar(obj=10, name='consumed.2')"
   ]
  },
  {
   "cell_type": "code",
   "execution_count": null,
   "metadata": {},
   "outputs": [],
   "source": [
    "x3 = m.addVar(obj=31, name='consumed.3')"
   ]
  },
  {
   "cell_type": "code",
   "execution_count": null,
   "metadata": {},
   "outputs": [],
   "source": [
    "x4 = m.addVar(obj=11, name='consumed.4')"
   ]
  },
  {
   "cell_type": "code",
   "execution_count": null,
   "metadata": {},
   "outputs": [],
   "source": [
    "x5 = m.addVar(obj=12, name='consumed.5')"
   ]
  },
  {
   "cell_type": "code",
   "execution_count": null,
   "metadata": {},
   "outputs": [],
   "source": [
    "# At this point we can print what we have saved from the calls to Model.addVar().\n",
    "print(x1, x2, x3, x4, x5)"
   ]
  },
  {
   "cell_type": "markdown",
   "metadata": {},
   "source": [
    "We see that x1,...,x5 are all Var objects but they are said to be \"Awaiting Model Update.\" Every variable we add expands the size of the model. As a performance enhancement, Gurobi will not officially add variables to the model until you tell the Model object you are done adding variables by calling Model.update().\n",
    "\n",
    "Note: Gurobi 6.5 provides a new parameter UpdateMode, which when set to 1 will eliminate the need to call Model.update() in most settings. That being said, it is a good practice to add variables in bulk before switching over to adding constraints. Ideally, the number of times you switch from adding variables to adding constraints (or vice versa) should not depend on the size of the problem."
   ]
  },
  {
   "cell_type": "code",
   "execution_count": null,
   "metadata": {},
   "outputs": [],
   "source": [
    "m.update()\n",
    "print(x1, x2, x3, x4, x5)"
   ]
  },
  {
   "cell_type": "markdown",
   "metadata": {},
   "source": [
    "<b>Building Linear Expressions </b>\n",
    "\n",
    "Structural constraints involve multiple decision variables. The gurobipy.LinExpr object stores a linear function of decision variables. The + and * operators are overloaded so you can create linear expressions in a natural way."
   ]
  },
  {
   "cell_type": "code",
   "execution_count": null,
   "metadata": {},
   "outputs": [],
   "source": [
    "lhs = 2*x1 + 3*x3 + x4 + 2*x5\n",
    "print(lhs)"
   ]
  },
  {
   "cell_type": "markdown",
   "metadata": {},
   "source": [
    "<b>Adding Structural Constraints</b>\n",
    "\n",
    "To add a structural constraint, call the addConstr method on a Model object."
   ]
  },
  {
   "cell_type": "code",
   "execution_count": null,
   "metadata": {},
   "outputs": [],
   "source": [
    "?m.addConstr"
   ]
  },
  {
   "cell_type": "markdown",
   "metadata": {},
   "source": [
    "We'll demonstrate two ways to call Model.addConstr() here. We prefer the second option as it has a more explicit connection to the constraint in the model above."
   ]
  },
  {
   "cell_type": "code",
   "execution_count": null,
   "metadata": {},
   "outputs": [],
   "source": [
    "iron_constr = m.addConstr(lhs, GRB.GREATER_EQUAL, 21, name='nutrient.iron')"
   ]
  },
  {
   "cell_type": "markdown",
   "metadata": {},
   "source": [
    "The ==, >=, and <= operators have also been overloaded so that constraints can be written in a natural way."
   ]
  },
  {
   "cell_type": "code",
   "execution_count": null,
   "metadata": {},
   "outputs": [],
   "source": [
    "calcium_constr = m.addConstr(x2 + 2*x3 + 2*x4 + x5 >= 12, name='nutrient.calcium')"
   ]
  },
  {
   "cell_type": "markdown",
   "metadata": {},
   "source": [
    "As with variables, it is good practice to follow a consistent naming convention with constraints. Those names will help you identify constraints when you eventually view the full model.\n",
    "\n",
    "When all constraints are created, they can be added to the model in batch by calling the update method."
   ]
  },
  {
   "cell_type": "code",
   "execution_count": null,
   "metadata": {},
   "outputs": [],
   "source": [
    "m.update()"
   ]
  },
  {
   "cell_type": "markdown",
   "metadata": {},
   "source": [
    "<b>Inspecting the Model</b>\n",
    "\n",
    "We can optimize at this point, but it is nice to have some assurance that the code we just wrote actually built the model we hope it built. The .lp file format provides a human-readable representation of the model."
   ]
  },
  {
   "cell_type": "code",
   "execution_count": null,
   "metadata": {},
   "outputs": [],
   "source": [
    "m.write('diet.lp')"
   ]
  },
  {
   "cell_type": "code",
   "execution_count": null,
   "metadata": {},
   "outputs": [],
   "source": [
    "!more diet.lp"
   ]
  },
  {
   "cell_type": "markdown",
   "metadata": {},
   "source": [
    "<b>Solving the Model</b>\n",
    "\n",
    "If that looks good, we are ready to solve the model, which we do by calling Model.optimize(). Afterwords, we can check the model's Status attribute to see if the solve was successful. If the status is equal to GRB.OPTIMAL, then Gurobi was able to find a provably optimal solution (within a tolerance)."
   ]
  },
  {
   "cell_type": "code",
   "execution_count": null,
   "metadata": {},
   "outputs": [],
   "source": [
    "m.optimize()\n",
    "print(\"Model status =\", m.Status)\n",
    "assert m.Status == GRB.OPTIMAL"
   ]
  },
  {
   "cell_type": "markdown",
   "metadata": {},
   "source": [
    "The call to Model.optimize() produces a log that gives various model statistics such as the number of variables, constraints, and non-zero entries of the constraint matrix, as well as ranges for all numerical inputs. For longer solves, the log will also include a table which Gurobi periodically writes to in order to keep you informed of the progress. If an optimal solution is found, the log will finish with the optimal objective value."
   ]
  },
  {
   "cell_type": "markdown",
   "metadata": {},
   "source": [
    "<b>Querying the Solution</b>\n",
    "\n",
    "The log provides an optimal objective value but not optimal values of the variables, which are usually the most important output of the solve as they are what ultimately drive your decisions. To obtain solution data, we can query various attributes of the Var and Constr objects that we saved earlier.\n",
    "\n",
    "We'll look at two of these Var attributes here. The first and typically most important attribute is simply named 'X' and provides the value of the variable in the optimal solution. For the diet problem, this tells us the number of ounces of each food type we should include in our diet. We can use the Var references saved earlier to query this attribute."
   ]
  },
  {
   "cell_type": "code",
   "execution_count": null,
   "metadata": {},
   "outputs": [],
   "source": [
    "print(x1.VarName, x1.X)\n",
    "print(x2.VarName, x2.X)\n",
    "print(x3.VarName, x3.X)\n",
    "print(x4.VarName, x4.X)\n",
    "print(x5.VarName, x5.X)"
   ]
  },
  {
   "cell_type": "markdown",
   "metadata": {},
   "source": [
    "The second Var attribute we'll look at here is the reduced cost, which has the attribute name 'RC'. This reduced cost tells us the amount by which a variable's objective coefficient would have to change in order for the variable to have a positive value in an optimal solution. For the variables x.4 and x.5 that are already positive, the reduced cost is always zero."
   ]
  },
  {
   "cell_type": "code",
   "execution_count": null,
   "metadata": {},
   "outputs": [],
   "source": [
    "print(x1.VarName, x1.RC)\n",
    "print(x2.VarName, x2.RC)\n",
    "print(x3.VarName, x3.RC)\n",
    "print(x4.VarName, x4.RC)\n",
    "print(x5.VarName, x5.RC)"
   ]
  },
  {
   "cell_type": "markdown",
   "metadata": {},
   "source": [
    "The interpretation here is that food type 1 would have to be at least $11 \\frac{1}{3}$ cheaper for it to become cost effective for us to include it in our diet."
   ]
  },
  {
   "cell_type": "markdown",
   "metadata": {},
   "source": [
    "You can iterate over all variables in the model with the Model.getVars() method."
   ]
  },
  {
   "cell_type": "code",
   "execution_count": null,
   "metadata": {},
   "outputs": [],
   "source": [
    "for var in m.getVars():\n",
    "    print(var.VarName, var.X, var.RC)"
   ]
  },
  {
   "cell_type": "markdown",
   "metadata": {},
   "source": [
    "The objective value appears in the solution log but can be queried via the Model attribute ObjVal."
   ]
  },
  {
   "cell_type": "code",
   "execution_count": null,
   "metadata": {},
   "outputs": [],
   "source": [
    "print(m.ObjVal)"
   ]
  },
  {
   "cell_type": "markdown",
   "metadata": {},
   "source": [
    "There is also solution information associated with constraints that can be useful for some applications. Here, we'll look at the Slack and Pi attributes of the Constr object."
   ]
  },
  {
   "cell_type": "code",
   "execution_count": null,
   "metadata": {},
   "outputs": [],
   "source": [
    "for constr in m.getConstrs():\n",
    "    print(constr.ConstrName, constr.Slack, constr.Pi)"
   ]
  },
  {
   "cell_type": "markdown",
   "metadata": {
    "collapsed": true
   },
   "source": [
    "The Slack attribute gives the difference between the right-hand and left-hand sides of the constraint in the optimal solution. The Pi attribute is also known as the dual value or shadow price, and tell us how much the objective would change if the right-hand side of the constraint were increased by 1 unit. A constraint may have either a positive slack or a positive dual value, but never both simultateously positive. (Why not?)\n",
    "\n",
    "Here, neither constraint has slack and both have positive dual values. The interpretation for iron would be that increasing the iron requirement by 1 unit (thereby increasing the right-hand side of the iron constraint by 1 unit) would increase the optimal cost of our diet by $4 \\frac{1}{3}$. This is effectively saying that the maximum price we'd be willing to pay for a unit of iron should be $4 \\frac{1}{3}$.\n",
    "\n",
    "Our structural constraints frequently enforce some sort of minimum resource requirement in order to operate a system. When this is the case, the dual variables can be interpreted as a price for those resources."
   ]
  },
  {
   "cell_type": "code",
   "execution_count": null,
   "metadata": {},
   "outputs": [],
   "source": []
  }
 ],
 "metadata": {
  "kernelspec": {
   "display_name": "Python 3",
   "language": "python",
   "name": "python3"
  },
  "language_info": {
   "codemirror_mode": {
    "name": "ipython",
    "version": 3
   },
   "file_extension": ".py",
   "mimetype": "text/x-python",
   "name": "python",
   "nbconvert_exporter": "python",
   "pygments_lexer": "ipython3",
   "version": "3.7.6"
  }
 },
 "nbformat": 4,
 "nbformat_minor": 1
}

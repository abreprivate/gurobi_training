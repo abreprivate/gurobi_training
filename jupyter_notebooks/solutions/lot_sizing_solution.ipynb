{
 "cells": [
  {
   "cell_type": "markdown",
   "metadata": {},
   "source": [
    "<H1>Economic Lot Sizing</H1>\n",
    "\n",
    "Consider a discrete-time, finite-horizon inventory control problem where you must satisfy a given demand. $d_t$ for each week $t$. This demand can be satisfied by production in any week $t' \\le t$. For each week, there is a per unit production cost, a per unit inventory holding cost, and a setup cost. The setup cost is a fixed cost incurred if any production occurs during the week. \n",
    "\n",
    "Since the setup cost is paid at most once each week, regardless of whether you produce 1 unit or 1000, you have an incentive to potentially produce enough during a week to cover the demand for multiple weeks. But, producing in excess of the week's demand requires you to hold inventory. This tradeoff between setup and holding costs can be managed through optimization."
   ]
  },
  {
   "cell_type": "markdown",
   "metadata": {},
   "source": [
    "<H2>Initial Formulation</H2>\n",
    "We'll consider two formulations of the problem. The first has fewer decision variables but has a drawback that we'll soon discover.\n",
    "\n",
    "<H3>Sets and Indices</H3>\n",
    "* $t \\in \\{1,\\ldots, T\\}$: weeks\n",
    "\n",
    "<H3>Data</H3>\n",
    "* $c_t$: per unit cost of production in week $t$\n",
    "* $h_t$: per unit holding cost for inventory remaining in week $t$\n",
    "* $f_t$: fixed cost of production in week $t$\n",
    "* $d_t$: demand for week $t$\n",
    "\n",
    "<H3>Decision Variables</H3>\n",
    "* $x_t$: binary variable to indicate whether production occurs in week $t$\n",
    "* $y_t$: production quantity for week $t$\n",
    "* $s_t$: inventory carried in to period $t$\n",
    "\n",
    "<H3>Formulation</H3>\n",
    "\\begin{eqnarray}\n",
    "\\min_{x, y, s} && \\sum_{t = 1}^T (f_t x_t + c_t y_t + h_t s_t) \\nonumber \\\\\n",
    "\\mbox{s.t.} && y_t \\le (\\sum_{t' = t}^{T} d_{t'}) x_t, \\;\\;t = 1,\\ldots, T\\nonumber \\\\\n",
    "&& s_t = s_{t-1} + y_t - d_t,\\;\\;t = 1,\\ldots,T \\nonumber \\\\\n",
    "&& s_0 = 0 \\nonumber \\\\\n",
    "&& x_t \\in \\{0, 1\\},\\;\\;t = 1,\\ldots,T \\nonumber \\\\\n",
    "&& y_t \\ge 0,\\;\\; t = 1,\\ldots,T \\nonumber \\\\\n",
    "&& s_t \\ge 0,\\;\\; t = 1,\\ldots,T \\nonumber \\\\\n",
    "\\end{eqnarray}\n"
   ]
  },
  {
   "cell_type": "code",
   "execution_count": 1,
   "metadata": {},
   "outputs": [],
   "source": [
    "demands = [20, 50, 10, 50, 50, 10, 20, 40, 20, 30]"
   ]
  },
  {
   "cell_type": "code",
   "execution_count": 2,
   "metadata": {},
   "outputs": [],
   "source": [
    "production_costs = [10, 10, 10, 10, 10, 10, 10, 10, 10, 10]"
   ]
  },
  {
   "cell_type": "code",
   "execution_count": 3,
   "metadata": {},
   "outputs": [],
   "source": [
    "fixed_costs = [100, 100, 100, 100, 100, 100, 100, 100, 100, 100]"
   ]
  },
  {
   "cell_type": "code",
   "execution_count": 4,
   "metadata": {},
   "outputs": [],
   "source": [
    "holding_costs = [1, 1, 1, 1, 1, 1, 1, 1, 1, 1]"
   ]
  },
  {
   "cell_type": "code",
   "execution_count": 5,
   "metadata": {},
   "outputs": [],
   "source": [
    "import gurobipy as grb\n",
    "GRB = grb.GRB\n",
    "\n",
    "def get_lot_sizes(demands, production_costs, fixed_costs, holding_costs):\n",
    "    m = grb.Model()\n",
    "    \n",
    "    weeks = range(len(demands))\n",
    "    production_quantity = m.addVars(weeks, name='quantity')\n",
    "    holding_quantity = m.addVars(weeks, name='hold')\n",
    "    to_produce = m.addVars(weeks, name='to_produce', vtype=GRB.BINARY)\n",
    "    m.update()\n",
    "    \n",
    "    for week in weeks:\n",
    "        m.addConstr(production_quantity[week] <= sum(demands[week:])*to_produce[week],\n",
    "                    name='to_produce_def.' + str(week))\n",
    "        carried_inventory = holding_quantity[week-1] if week > 0 else 0\n",
    "        m.addConstr(holding_quantity[week] == carried_inventory + production_quantity[week] - demands[week],\n",
    "                    name='inventory_flow.' + str(week))\n",
    "\n",
    "    m.setObjective(production_quantity.prod(production_costs) + to_produce.prod(fixed_costs) + \n",
    "                   holding_quantity.prod(holding_costs))\n",
    "\n",
    "    m.optimize()\n",
    "    \n",
    "    if m.Status == GRB.OPTIMAL:\n",
    "        for week, var in production_quantity.items():\n",
    "            if var.X > 1e-4:\n",
    "                print(\"\\U0001f3ed Produce\", var.X, \"units in Week\", week)\n",
    "    "
   ]
  },
  {
   "cell_type": "code",
   "execution_count": 6,
   "metadata": {
    "scrolled": true
   },
   "outputs": [
    {
     "name": "stdout",
     "output_type": "stream",
     "text": [
      "Using license file /Users/irisrenteria/gurobi.lic\n",
      "Academic license - for non-commercial use only\n",
      "Gurobi Optimizer version 9.0.2 build v9.0.2rc0 (mac64)\n",
      "Optimize a model with 20 rows, 30 columns and 49 nonzeros\n",
      "Model fingerprint: 0x00e4c5e5\n",
      "Variable types: 20 continuous, 10 integer (10 binary)\n",
      "Coefficient statistics:\n",
      "  Matrix range     [1e+00, 3e+02]\n",
      "  Objective range  [1e+00, 1e+02]\n",
      "  Bounds range     [1e+00, 1e+00]\n",
      "  RHS range        [1e+01, 5e+01]\n",
      "Presolve removed 3 rows and 4 columns\n",
      "Presolve time: 0.00s\n",
      "Presolved: 17 rows, 26 columns, 42 nonzeros\n",
      "Variable types: 17 continuous, 9 integer (9 binary)\n",
      "\n",
      "Root relaxation: objective 3.375304e+03, 21 iterations, 0.00 seconds\n",
      "\n",
      "    Nodes    |    Current Node    |     Objective Bounds      |     Work\n",
      " Expl Unexpl |  Obj  Depth IntInf | Incumbent    BestBd   Gap | It/Node Time\n",
      "\n",
      "     0     0 3375.30360    0    7          - 3375.30360      -     -    0s\n",
      "H    0     0                    3930.0000000 3375.30360  14.1%     -    0s\n",
      "     0     0 3520.13987    0    5 3930.00000 3520.13987  10.4%     -    0s\n",
      "H    0     0                    3870.0000000 3520.13987  9.04%     -    0s\n",
      "H    0     0                    3700.0000000 3520.13987  4.86%     -    0s\n",
      "     0     0 3567.27273    0    1 3700.00000 3567.27273  3.59%     -    0s\n",
      "H    0     0                    3649.0909091 3567.27273  2.24%     -    0s\n",
      "H    0     0                    3580.0000000 3567.27273  0.36%     -    0s\n",
      "     0     0     cutoff    0      3580.00000 3580.00000  0.00%     -    0s\n",
      "\n",
      "Cutting planes:\n",
      "  Gomory: 3\n",
      "  Implied bound: 5\n",
      "  Flow cover: 7\n",
      "\n",
      "Explored 1 nodes (35 simplex iterations) in 0.04 seconds\n",
      "Thread count was 4 (of 4 available processors)\n",
      "\n",
      "Solution count 5: 3580 3649.09 3700 ... 3930\n",
      "\n",
      "Optimal solution found (tolerance 1.00e-04)\n",
      "Best objective 3.580000000000e+03, best bound 3.580000000000e+03, gap 0.0000%\n",
      "🏭 Produce 80.0 units in Week 0\n",
      "🏭 Produce 129.99999999999667 units in Week 3\n",
      "🏭 Produce 90.0 units in Week 7\n"
     ]
    }
   ],
   "source": [
    "get_lot_sizes(demands, production_costs, fixed_costs, holding_costs)"
   ]
  },
  {
   "cell_type": "markdown",
   "metadata": {},
   "source": [
    "It is therefore optimal to produce 80 units in week 0 to cover demand through week 2, to produce 130 units in week 3 to cover demand for weeks 3 through 6, and to produce 90 units in week 7 to cover demand for weeks 7 through 9.\n",
    "\n",
    "Note that the LP relaxation produced a lower bound on the cost of 3375.304, but ultimately that lower bound could not be acheived as the true minimum cost was 3580. It is possible to formulate the problem in a way that the LP relaxation value is tight, and we can obtain the optimal integer solution immediately without resorting to branch and bound."
   ]
  },
  {
   "cell_type": "markdown",
   "metadata": {},
   "source": [
    "<H2>A Tighter Formulation</H2>\n",
    "\n",
    "We'll consider a reformulation of the problem which has quadratically many variables, but that produces an LP relaxation that is tight. While the problem size will increase, this model will scale better since it produces an integer feasible solution immediately upon solving the LP relaxation.\n",
    "\n",
    "The trick here is to note that production in week $t$ may be used to satisfy demand in any week $t' \\ge t$. We can define the production variables to include both a production week $t$ and a demand week $t'$. We'll need to adjust the cost of these variables to include both the variable cost of production and the cost to hold inventory from week $t$ into week $t'$. This adjusted cost is simply $c_t + \\sum_{i = t}^{t'-1} h_i$."
   ]
  },
  {
   "cell_type": "markdown",
   "metadata": {},
   "source": [
    "<H3>Data</H3>\n",
    "* $\\bar{c}_{tt'}$: cost to produce a unit in week $t$ and hold it as inventory until week $t'$\n",
    "* $f_t$: fixed cost of production in week $t$\n",
    "\n",
    "<H3>Decision Variables</H3>\n",
    "* $x_t$: binary variable to indicate whether production occurs in week $t$\n",
    "* $y_{tt'}$: number of units produced in week $t$ to satisfy demand in week $t' \\ge t$\n",
    "\n",
    "<H3>Formulation</H3>\n",
    "\\begin{eqnarray}\n",
    "\\min_{x, y} && \\sum_{t = 1}^T \\sum_{t'=t}^T \\bar{c}_{tt'} y_{tt'} + \\sum_{t = 1}^T f_t x_t \\nonumber \\\\\n",
    "\\mbox{s.t.} && \\sum_{t = 1}^{t'} y_{tt'} = d_{t'},\\;\\;t' = 1,\\ldots, T \\nonumber \\\\\n",
    "&& y_{tt'} \\le d_{t'}x_{t},\\;\\;t' = 1,\\ldots, T,\\;\\;t=1,\\ldots,t' \\nonumber \\\\\n",
    "&& x_t \\in \\{0, 1\\},\\;\\;t = 1,\\ldots, T \\nonumber \\\\\n",
    "&& y_{tt'} \\ge 0,\\;\\;t = 1,\\ldots, T,\\;\\;t' = t,\\ldots,|T|. \\nonumber\n",
    "\\end{eqnarray}"
   ]
  },
  {
   "cell_type": "code",
   "execution_count": 7,
   "metadata": {},
   "outputs": [],
   "source": [
    "def get_lot_sizes(demands, production_costs, fixed_costs, holding_costs):\n",
    "    def get_cost(production_week, demand_week):\n",
    "        return production_costs[production_week] + holding_costs[demand_week]*(demand_week-production_week)\n",
    "    \n",
    "    m = grb.Model()\n",
    "    weeks = range(len(demands))\n",
    "    costs = {(production_week, demand_week): get_cost(production_week, demand_week)  \n",
    "            for production_week in weeks\n",
    "            for demand_week in weeks[production_week:]}                                                                                                  \n",
    "    \n",
    "    production_quantity = m.addVars(costs, obj=costs, name=\"total_cost\")\n",
    "\n",
    "    to_produce = m.addVars(weeks, obj=fixed_costs, name='to_produce', vtype=GRB.BINARY)\n",
    "\n",
    "\n",
    "    m.update()\n",
    "\n",
    "    for demand_week in weeks:\n",
    "        m.addConstr(production_quantity.sum(\"*\", demand_week)==demands[demand_week], name = \"demand_constr.\"+str(demand_week))\n",
    "    \n",
    "    for (production_week, demand_week), production_var in production_quantity.items():\n",
    "        m.addConstr(production_var <= to_produce[production_week]*demands[demand_week], name = \"production_constr.\"+str(production_week)+\".\"+str(demand_week))\n",
    "    \n",
    "    m.optimize()\n",
    "    \n",
    "    for (production_week, demand_week), var in production_quantity.items():\n",
    "        if var.X >= 1e-4:\n",
    "            print(\"\\U0001f3ed In Week\", production_week, \"produce\", var.X, \"units for Week\", demand_week)\n",
    "        \n",
    "    m.write('lot_sizing.lp')\n",
    "    m.write('lot_sizing.sol')"
   ]
  },
  {
   "cell_type": "code",
   "execution_count": 8,
   "metadata": {},
   "outputs": [
    {
     "name": "stdout",
     "output_type": "stream",
     "text": [
      "Gurobi Optimizer version 9.0.2 build v9.0.2rc0 (mac64)\n",
      "Optimize a model with 65 rows, 65 columns and 165 nonzeros\n",
      "Model fingerprint: 0x77e19905\n",
      "Variable types: 55 continuous, 10 integer (10 binary)\n",
      "Coefficient statistics:\n",
      "  Matrix range     [1e+00, 5e+01]\n",
      "  Objective range  [1e+01, 1e+02]\n",
      "  Bounds range     [1e+00, 1e+00]\n",
      "  RHS range        [1e+01, 5e+01]\n",
      "Presolve removed 13 rows and 12 columns\n",
      "Presolve time: 0.00s\n",
      "Presolved: 52 rows, 53 columns, 132 nonzeros\n",
      "Variable types: 0 continuous, 53 integer (9 binary)\n",
      "Found heuristic solution: objective 3820.0000000\n",
      "\n",
      "Root relaxation: objective 3.580000e+03, 19 iterations, 0.00 seconds\n",
      "\n",
      "    Nodes    |    Current Node    |     Objective Bounds      |     Work\n",
      " Expl Unexpl |  Obj  Depth IntInf | Incumbent    BestBd   Gap | It/Node Time\n",
      "\n",
      "*    0     0               0    3580.0000000 3580.00000  0.00%     -    0s\n",
      "\n",
      "Explored 0 nodes (19 simplex iterations) in 0.04 seconds\n",
      "Thread count was 4 (of 4 available processors)\n",
      "\n",
      "Solution count 2: 3580 3820 \n",
      "\n",
      "Optimal solution found (tolerance 1.00e-04)\n",
      "Best objective 3.580000000000e+03, best bound 3.580000000000e+03, gap 0.0000%\n",
      "🏭 In Week 0 produce 20.0 units for Week 0\n",
      "🏭 In Week 0 produce 50.0 units for Week 1\n",
      "🏭 In Week 0 produce 10.0 units for Week 2\n",
      "🏭 In Week 3 produce 50.0 units for Week 3\n",
      "🏭 In Week 3 produce 50.0 units for Week 4\n",
      "🏭 In Week 3 produce 10.0 units for Week 5\n",
      "🏭 In Week 3 produce 20.0 units for Week 6\n",
      "🏭 In Week 7 produce 40.0 units for Week 7\n",
      "🏭 In Week 7 produce 20.0 units for Week 8\n",
      "🏭 In Week 7 produce 30.0 units for Week 9\n"
     ]
    }
   ],
   "source": [
    "get_lot_sizes(demands, production_costs, fixed_costs, holding_costs)"
   ]
  },
  {
   "cell_type": "code",
   "execution_count": null,
   "metadata": {},
   "outputs": [],
   "source": []
  }
 ],
 "metadata": {
  "kernelspec": {
   "display_name": "Python 3",
   "language": "python",
   "name": "python3"
  },
  "language_info": {
   "codemirror_mode": {
    "name": "ipython",
    "version": 3
   },
   "file_extension": ".py",
   "mimetype": "text/x-python",
   "name": "python",
   "nbconvert_exporter": "python",
   "pygments_lexer": "ipython3",
   "version": "3.7.6"
  }
 },
 "nbformat": 4,
 "nbformat_minor": 1
}
